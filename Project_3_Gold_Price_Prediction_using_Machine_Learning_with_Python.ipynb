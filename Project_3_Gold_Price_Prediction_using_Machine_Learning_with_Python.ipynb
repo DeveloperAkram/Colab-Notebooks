{
  "nbformat": 4,
  "nbformat_minor": 0,
  "metadata": {
    "colab": {
      "name": "Project 3 - Gold Price Prediction using Machine Learning with Python.ipynb",
      "provenance": [],
      "authorship_tag": "ABX9TyOQSz5LLjgD6ybc0PMc0gBT",
      "include_colab_link": true
    },
    "kernelspec": {
      "name": "python3",
      "display_name": "Python 3"
    },
    "language_info": {
      "name": "python"
    }
  },
  "cells": [
    {
      "cell_type": "markdown",
      "metadata": {
        "id": "view-in-github",
        "colab_type": "text"
      },
      "source": [
        "<a href=\"https://colab.research.google.com/github/DeveloperAkram/Colab-Notebooks/blob/master/Project_3_Gold_Price_Prediction_using_Machine_Learning_with_Python.ipynb\" target=\"_parent\"><img src=\"https://colab.research.google.com/assets/colab-badge.svg\" alt=\"Open In Colab\"/></a>"
      ]
    },
    {
      "cell_type": "markdown",
      "metadata": {
        "id": "dVmI1aL_l1cz"
      },
      "source": [
        "Importing the Dependencies"
      ]
    },
    {
      "cell_type": "code",
      "metadata": {
        "id": "FFLquiYalnAS"
      },
      "source": [
        "import numpy as np\n",
        "import pandas as pd\n",
        "import matplotlib.pyplot as plt\n",
        "import seaborn as sns\n",
        "from sklearn.model_selection import  train_test_split\n",
        "from sklearn.ensemble import RandomForestRegressor\n",
        "from sklearn import metrics"
      ],
      "execution_count": 1,
      "outputs": []
    },
    {
      "cell_type": "markdown",
      "metadata": {
        "id": "gQhtul3KmmtD"
      },
      "source": [
        "Data Collection and Processing"
      ]
    },
    {
      "cell_type": "code",
      "metadata": {
        "id": "5UZXTaUqmlEk"
      },
      "source": [
        "# loading the csv data to a Pandas DataFrame\n",
        "\n",
        "gold_data = pd.read_csv('/content/gld_price_data.csv')"
      ],
      "execution_count": 2,
      "outputs": []
    },
    {
      "cell_type": "code",
      "metadata": {
        "colab": {
          "base_uri": "https://localhost:8080/",
          "height": 203
        },
        "id": "PNEcI7TNnRC7",
        "outputId": "aaae1d76-10c9-47de-f61a-ad9640f9b3f7"
      },
      "source": [
        "# read first 5 data rows\n",
        "\n",
        "gold_data.head()"
      ],
      "execution_count": 3,
      "outputs": [
        {
          "output_type": "execute_result",
          "data": {
            "text/html": [
              "<div>\n",
              "<style scoped>\n",
              "    .dataframe tbody tr th:only-of-type {\n",
              "        vertical-align: middle;\n",
              "    }\n",
              "\n",
              "    .dataframe tbody tr th {\n",
              "        vertical-align: top;\n",
              "    }\n",
              "\n",
              "    .dataframe thead th {\n",
              "        text-align: right;\n",
              "    }\n",
              "</style>\n",
              "<table border=\"1\" class=\"dataframe\">\n",
              "  <thead>\n",
              "    <tr style=\"text-align: right;\">\n",
              "      <th></th>\n",
              "      <th>Date</th>\n",
              "      <th>SPX</th>\n",
              "      <th>GLD</th>\n",
              "      <th>USO</th>\n",
              "      <th>SLV</th>\n",
              "      <th>EUR/USD</th>\n",
              "    </tr>\n",
              "  </thead>\n",
              "  <tbody>\n",
              "    <tr>\n",
              "      <th>0</th>\n",
              "      <td>1/2/2008</td>\n",
              "      <td>1447.160034</td>\n",
              "      <td>84.860001</td>\n",
              "      <td>78.470001</td>\n",
              "      <td>15.180</td>\n",
              "      <td>1.471692</td>\n",
              "    </tr>\n",
              "    <tr>\n",
              "      <th>1</th>\n",
              "      <td>1/3/2008</td>\n",
              "      <td>1447.160034</td>\n",
              "      <td>85.570000</td>\n",
              "      <td>78.370003</td>\n",
              "      <td>15.285</td>\n",
              "      <td>1.474491</td>\n",
              "    </tr>\n",
              "    <tr>\n",
              "      <th>2</th>\n",
              "      <td>1/4/2008</td>\n",
              "      <td>1411.630005</td>\n",
              "      <td>85.129997</td>\n",
              "      <td>77.309998</td>\n",
              "      <td>15.167</td>\n",
              "      <td>1.475492</td>\n",
              "    </tr>\n",
              "    <tr>\n",
              "      <th>3</th>\n",
              "      <td>1/7/2008</td>\n",
              "      <td>1416.180054</td>\n",
              "      <td>84.769997</td>\n",
              "      <td>75.500000</td>\n",
              "      <td>15.053</td>\n",
              "      <td>1.468299</td>\n",
              "    </tr>\n",
              "    <tr>\n",
              "      <th>4</th>\n",
              "      <td>1/8/2008</td>\n",
              "      <td>1390.189941</td>\n",
              "      <td>86.779999</td>\n",
              "      <td>76.059998</td>\n",
              "      <td>15.590</td>\n",
              "      <td>1.557099</td>\n",
              "    </tr>\n",
              "  </tbody>\n",
              "</table>\n",
              "</div>"
            ],
            "text/plain": [
              "       Date          SPX        GLD        USO     SLV   EUR/USD\n",
              "0  1/2/2008  1447.160034  84.860001  78.470001  15.180  1.471692\n",
              "1  1/3/2008  1447.160034  85.570000  78.370003  15.285  1.474491\n",
              "2  1/4/2008  1411.630005  85.129997  77.309998  15.167  1.475492\n",
              "3  1/7/2008  1416.180054  84.769997  75.500000  15.053  1.468299\n",
              "4  1/8/2008  1390.189941  86.779999  76.059998  15.590  1.557099"
            ]
          },
          "metadata": {},
          "execution_count": 3
        }
      ]
    },
    {
      "cell_type": "code",
      "metadata": {
        "colab": {
          "base_uri": "https://localhost:8080/"
        },
        "id": "bkE6vAjunXhf",
        "outputId": "3cfa16db-2af8-41ec-a8a9-4d2ab951bb7b"
      },
      "source": [
        "# total no of rows and columns\n",
        "\n",
        "gold_data.shape"
      ],
      "execution_count": 4,
      "outputs": [
        {
          "output_type": "execute_result",
          "data": {
            "text/plain": [
              "(2290, 6)"
            ]
          },
          "metadata": {},
          "execution_count": 4
        }
      ]
    },
    {
      "cell_type": "code",
      "metadata": {
        "colab": {
          "base_uri": "https://localhost:8080/",
          "height": 203
        },
        "id": "pZ3LAgHmnk2u",
        "outputId": "2f5816fc-600b-4a84-a594-af2581c7fae8"
      },
      "source": [
        "gold_data.tail()"
      ],
      "execution_count": 5,
      "outputs": [
        {
          "output_type": "execute_result",
          "data": {
            "text/html": [
              "<div>\n",
              "<style scoped>\n",
              "    .dataframe tbody tr th:only-of-type {\n",
              "        vertical-align: middle;\n",
              "    }\n",
              "\n",
              "    .dataframe tbody tr th {\n",
              "        vertical-align: top;\n",
              "    }\n",
              "\n",
              "    .dataframe thead th {\n",
              "        text-align: right;\n",
              "    }\n",
              "</style>\n",
              "<table border=\"1\" class=\"dataframe\">\n",
              "  <thead>\n",
              "    <tr style=\"text-align: right;\">\n",
              "      <th></th>\n",
              "      <th>Date</th>\n",
              "      <th>SPX</th>\n",
              "      <th>GLD</th>\n",
              "      <th>USO</th>\n",
              "      <th>SLV</th>\n",
              "      <th>EUR/USD</th>\n",
              "    </tr>\n",
              "  </thead>\n",
              "  <tbody>\n",
              "    <tr>\n",
              "      <th>2285</th>\n",
              "      <td>5/8/2018</td>\n",
              "      <td>2671.919922</td>\n",
              "      <td>124.589996</td>\n",
              "      <td>14.0600</td>\n",
              "      <td>15.5100</td>\n",
              "      <td>1.186789</td>\n",
              "    </tr>\n",
              "    <tr>\n",
              "      <th>2286</th>\n",
              "      <td>5/9/2018</td>\n",
              "      <td>2697.790039</td>\n",
              "      <td>124.330002</td>\n",
              "      <td>14.3700</td>\n",
              "      <td>15.5300</td>\n",
              "      <td>1.184722</td>\n",
              "    </tr>\n",
              "    <tr>\n",
              "      <th>2287</th>\n",
              "      <td>5/10/2018</td>\n",
              "      <td>2723.070068</td>\n",
              "      <td>125.180000</td>\n",
              "      <td>14.4100</td>\n",
              "      <td>15.7400</td>\n",
              "      <td>1.191753</td>\n",
              "    </tr>\n",
              "    <tr>\n",
              "      <th>2288</th>\n",
              "      <td>5/14/2018</td>\n",
              "      <td>2730.129883</td>\n",
              "      <td>124.489998</td>\n",
              "      <td>14.3800</td>\n",
              "      <td>15.5600</td>\n",
              "      <td>1.193118</td>\n",
              "    </tr>\n",
              "    <tr>\n",
              "      <th>2289</th>\n",
              "      <td>5/16/2018</td>\n",
              "      <td>2725.780029</td>\n",
              "      <td>122.543800</td>\n",
              "      <td>14.4058</td>\n",
              "      <td>15.4542</td>\n",
              "      <td>1.182033</td>\n",
              "    </tr>\n",
              "  </tbody>\n",
              "</table>\n",
              "</div>"
            ],
            "text/plain": [
              "           Date          SPX         GLD      USO      SLV   EUR/USD\n",
              "2285   5/8/2018  2671.919922  124.589996  14.0600  15.5100  1.186789\n",
              "2286   5/9/2018  2697.790039  124.330002  14.3700  15.5300  1.184722\n",
              "2287  5/10/2018  2723.070068  125.180000  14.4100  15.7400  1.191753\n",
              "2288  5/14/2018  2730.129883  124.489998  14.3800  15.5600  1.193118\n",
              "2289  5/16/2018  2725.780029  122.543800  14.4058  15.4542  1.182033"
            ]
          },
          "metadata": {},
          "execution_count": 5
        }
      ]
    },
    {
      "cell_type": "code",
      "metadata": {
        "colab": {
          "base_uri": "https://localhost:8080/"
        },
        "id": "3fT8YAXJoKJn",
        "outputId": "5c23ec33-039b-4497-980a-7e6bdda34b80"
      },
      "source": [
        "# getting some basic informations about the data\n",
        "\n",
        "gold_data.info()"
      ],
      "execution_count": 6,
      "outputs": [
        {
          "output_type": "stream",
          "name": "stdout",
          "text": [
            "<class 'pandas.core.frame.DataFrame'>\n",
            "RangeIndex: 2290 entries, 0 to 2289\n",
            "Data columns (total 6 columns):\n",
            " #   Column   Non-Null Count  Dtype  \n",
            "---  ------   --------------  -----  \n",
            " 0   Date     2290 non-null   object \n",
            " 1   SPX      2290 non-null   float64\n",
            " 2   GLD      2290 non-null   float64\n",
            " 3   USO      2290 non-null   float64\n",
            " 4   SLV      2290 non-null   float64\n",
            " 5   EUR/USD  2290 non-null   float64\n",
            "dtypes: float64(5), object(1)\n",
            "memory usage: 107.5+ KB\n"
          ]
        }
      ]
    },
    {
      "cell_type": "code",
      "metadata": {
        "colab": {
          "base_uri": "https://localhost:8080/"
        },
        "id": "JcT6GCa5oaBk",
        "outputId": "73cf8e7d-cab3-4b7e-cf85-c2f45dd4398a"
      },
      "source": [
        "# checking no of missing values\n",
        "\n",
        "gold_data.isnull().sum()"
      ],
      "execution_count": 7,
      "outputs": [
        {
          "output_type": "execute_result",
          "data": {
            "text/plain": [
              "Date       0\n",
              "SPX        0\n",
              "GLD        0\n",
              "USO        0\n",
              "SLV        0\n",
              "EUR/USD    0\n",
              "dtype: int64"
            ]
          },
          "metadata": {},
          "execution_count": 7
        }
      ]
    },
    {
      "cell_type": "code",
      "metadata": {
        "colab": {
          "base_uri": "https://localhost:8080/",
          "height": 295
        },
        "id": "UTsjfIkGolQt",
        "outputId": "06e84ed4-a0d6-4abe-b602-7ddb3e5a02ab"
      },
      "source": [
        "# getting the statistical measures of the data\n",
        "\n",
        "gold_data.describe()"
      ],
      "execution_count": 8,
      "outputs": [
        {
          "output_type": "execute_result",
          "data": {
            "text/html": [
              "<div>\n",
              "<style scoped>\n",
              "    .dataframe tbody tr th:only-of-type {\n",
              "        vertical-align: middle;\n",
              "    }\n",
              "\n",
              "    .dataframe tbody tr th {\n",
              "        vertical-align: top;\n",
              "    }\n",
              "\n",
              "    .dataframe thead th {\n",
              "        text-align: right;\n",
              "    }\n",
              "</style>\n",
              "<table border=\"1\" class=\"dataframe\">\n",
              "  <thead>\n",
              "    <tr style=\"text-align: right;\">\n",
              "      <th></th>\n",
              "      <th>SPX</th>\n",
              "      <th>GLD</th>\n",
              "      <th>USO</th>\n",
              "      <th>SLV</th>\n",
              "      <th>EUR/USD</th>\n",
              "    </tr>\n",
              "  </thead>\n",
              "  <tbody>\n",
              "    <tr>\n",
              "      <th>count</th>\n",
              "      <td>2290.000000</td>\n",
              "      <td>2290.000000</td>\n",
              "      <td>2290.000000</td>\n",
              "      <td>2290.000000</td>\n",
              "      <td>2290.000000</td>\n",
              "    </tr>\n",
              "    <tr>\n",
              "      <th>mean</th>\n",
              "      <td>1654.315776</td>\n",
              "      <td>122.732875</td>\n",
              "      <td>31.842221</td>\n",
              "      <td>20.084997</td>\n",
              "      <td>1.283653</td>\n",
              "    </tr>\n",
              "    <tr>\n",
              "      <th>std</th>\n",
              "      <td>519.111540</td>\n",
              "      <td>23.283346</td>\n",
              "      <td>19.523517</td>\n",
              "      <td>7.092566</td>\n",
              "      <td>0.131547</td>\n",
              "    </tr>\n",
              "    <tr>\n",
              "      <th>min</th>\n",
              "      <td>676.530029</td>\n",
              "      <td>70.000000</td>\n",
              "      <td>7.960000</td>\n",
              "      <td>8.850000</td>\n",
              "      <td>1.039047</td>\n",
              "    </tr>\n",
              "    <tr>\n",
              "      <th>25%</th>\n",
              "      <td>1239.874969</td>\n",
              "      <td>109.725000</td>\n",
              "      <td>14.380000</td>\n",
              "      <td>15.570000</td>\n",
              "      <td>1.171313</td>\n",
              "    </tr>\n",
              "    <tr>\n",
              "      <th>50%</th>\n",
              "      <td>1551.434998</td>\n",
              "      <td>120.580002</td>\n",
              "      <td>33.869999</td>\n",
              "      <td>17.268500</td>\n",
              "      <td>1.303296</td>\n",
              "    </tr>\n",
              "    <tr>\n",
              "      <th>75%</th>\n",
              "      <td>2073.010070</td>\n",
              "      <td>132.840004</td>\n",
              "      <td>37.827501</td>\n",
              "      <td>22.882499</td>\n",
              "      <td>1.369971</td>\n",
              "    </tr>\n",
              "    <tr>\n",
              "      <th>max</th>\n",
              "      <td>2872.870117</td>\n",
              "      <td>184.589996</td>\n",
              "      <td>117.480003</td>\n",
              "      <td>47.259998</td>\n",
              "      <td>1.598798</td>\n",
              "    </tr>\n",
              "  </tbody>\n",
              "</table>\n",
              "</div>"
            ],
            "text/plain": [
              "               SPX          GLD          USO          SLV      EUR/USD\n",
              "count  2290.000000  2290.000000  2290.000000  2290.000000  2290.000000\n",
              "mean   1654.315776   122.732875    31.842221    20.084997     1.283653\n",
              "std     519.111540    23.283346    19.523517     7.092566     0.131547\n",
              "min     676.530029    70.000000     7.960000     8.850000     1.039047\n",
              "25%    1239.874969   109.725000    14.380000    15.570000     1.171313\n",
              "50%    1551.434998   120.580002    33.869999    17.268500     1.303296\n",
              "75%    2073.010070   132.840004    37.827501    22.882499     1.369971\n",
              "max    2872.870117   184.589996   117.480003    47.259998     1.598798"
            ]
          },
          "metadata": {},
          "execution_count": 8
        }
      ]
    },
    {
      "cell_type": "markdown",
      "metadata": {
        "id": "891KJ5B5o4G3"
      },
      "source": [
        "Correlation:\n",
        "\n",
        "1. Positive Correlation\n",
        "2. Negative Correlation"
      ]
    },
    {
      "cell_type": "code",
      "metadata": {
        "id": "Wcpcj8S4oyrQ"
      },
      "source": [
        "correlation = gold_data.corr()"
      ],
      "execution_count": 9,
      "outputs": []
    },
    {
      "cell_type": "code",
      "metadata": {
        "colab": {
          "base_uri": "https://localhost:8080/",
          "height": 487
        },
        "id": "SgE5H9BXr8wv",
        "outputId": "70d06144-3a34-403b-acd8-6f0bf6710b5e"
      },
      "source": [
        "# constructing a heatmap to understand the correlation\n",
        "\n",
        "plt.figure(figsize= (8,8))\n",
        "sns.heatmap(correlation, cbar = True, square = True, fmt = '.1f', annot=True, annot_kws = {'size':8}, cmap='Greens')\n"
      ],
      "execution_count": 33,
      "outputs": [
        {
          "output_type": "execute_result",
          "data": {
            "text/plain": [
              "<matplotlib.axes._subplots.AxesSubplot at 0x7efc9b15da10>"
            ]
          },
          "metadata": {},
          "execution_count": 33
        },
        {
          "output_type": "display_data",
          "data": {
            "image/png": "[encoded data removed]",
            "text/plain": [
              "<Figure size 576x576 with 2 Axes>"
            ]
          },
          "metadata": {
            "needs_background": "light"
          }
        }
      ]
    },
    {
      "cell_type": "code",
      "metadata": {
        "colab": {
          "base_uri": "https://localhost:8080/"
        },
        "id": "n3pXmzEgsm22",
        "outputId": "3d3417c4-23c1-4d3a-940e-704e51ace7cb"
      },
      "source": [
        "# correlation values of GLD\n",
        "\n",
        "print(correlation['GLD'])"
      ],
      "execution_count": 15,
      "outputs": [
        {
          "output_type": "stream",
          "name": "stdout",
          "text": [
            "SPX        0.049345\n",
            "GLD        1.000000\n",
            "USO       -0.186360\n",
            "SLV        0.866632\n",
            "EUR/USD   -0.024375\n",
            "Name: GLD, dtype: float64\n"
          ]
        }
      ]
    },
    {
      "cell_type": "code",
      "metadata": {
        "colab": {
          "base_uri": "https://localhost:8080/",
          "height": 354
        },
        "id": "OFmJmHNIubXc",
        "outputId": "b3becd66-c202-4f33-9d32-b47fd9903dec"
      },
      "source": [
        "# checking the distribution of the GLD Price\n",
        "\n",
        "sns.distplot(gold_data['GLD'], color='blue')"
      ],
      "execution_count": 30,
      "outputs": [
        {
          "output_type": "stream",
          "name": "stderr",
          "text": [
            "/usr/local/lib/python3.7/dist-packages/seaborn/distributions.py:2619: FutureWarning: `distplot` is a deprecated function and will be removed in a future version. Please adapt your code to use either `displot` (a figure-level function with similar flexibility) or `histplot` (an axes-level function for histograms).\n",
            "  warnings.warn(msg, FutureWarning)\n"
          ]
        },
        {
          "output_type": "execute_result",
          "data": {
            "text/plain": [
              "<matplotlib.axes._subplots.AxesSubplot at 0x7efc9b2f7250>"
            ]
          },
          "metadata": {},
          "execution_count": 30
        },
        {
          "output_type": "display_data",
          "data": {
            "image/png": "[encoded data removed]",
            "text/plain": [
              "<Figure size 432x288 with 1 Axes>"
            ]
          },
          "metadata": {
            "needs_background": "light"
          }
        }
      ]
    },
    {
      "cell_type": "markdown",
      "metadata": {
        "id": "iP4baKo3vQ9a"
      },
      "source": [
        "Splitting the Features and Target"
      ]
    },
    {
      "cell_type": "code",
      "metadata": {
        "id": "M78P1bJKu4GR"
      },
      "source": [
        "X = gold_data.drop(['Date', 'GLD'], axis=1)\n",
        "y = gold_data['GLD']"
      ],
      "execution_count": 19,
      "outputs": []
    },
    {
      "cell_type": "code",
      "metadata": {
        "colab": {
          "base_uri": "https://localhost:8080/"
        },
        "id": "GAF4r4PNvjre",
        "outputId": "f9fc2881-a83e-4a56-a650-348d4c1d8708"
      },
      "source": [
        "print(X)"
      ],
      "execution_count": 20,
      "outputs": [
        {
          "output_type": "stream",
          "name": "stdout",
          "text": [
            "              SPX        USO      SLV   EUR/USD\n",
            "0     1447.160034  78.470001  15.1800  1.471692\n",
            "1     1447.160034  78.370003  15.2850  1.474491\n",
            "2     1411.630005  77.309998  15.1670  1.475492\n",
            "3     1416.180054  75.500000  15.0530  1.468299\n",
            "4     1390.189941  76.059998  15.5900  1.557099\n",
            "...           ...        ...      ...       ...\n",
            "2285  2671.919922  14.060000  15.5100  1.186789\n",
            "2286  2697.790039  14.370000  15.5300  1.184722\n",
            "2287  2723.070068  14.410000  15.7400  1.191753\n",
            "2288  2730.129883  14.380000  15.5600  1.193118\n",
            "2289  2725.780029  14.405800  15.4542  1.182033\n",
            "\n",
            "[2290 rows x 4 columns]\n"
          ]
        }
      ]
    },
    {
      "cell_type": "markdown",
      "metadata": {
        "id": "Cf_q2EaSvv-3"
      },
      "source": [
        "Splitting into Training data and Test data"
      ]
    },
    {
      "cell_type": "code",
      "metadata": {
        "id": "fx_KhtPlvlH1"
      },
      "source": [
        "X_train, X_test, y_train, y_test = train_test_split(X, y, test_size = 0.2, random_state = 2)"
      ],
      "execution_count": 21,
      "outputs": []
    },
    {
      "cell_type": "markdown",
      "metadata": {
        "id": "fnvh_m63wVg0"
      },
      "source": [
        "Model Training\n",
        "\n",
        "Random Forest Algorithm"
      ]
    },
    {
      "cell_type": "code",
      "metadata": {
        "id": "5IUYU6ycwTD0"
      },
      "source": [
        "regressor = RandomForestRegressor(n_estimators=100)"
      ],
      "execution_count": 22,
      "outputs": []
    },
    {
      "cell_type": "code",
      "metadata": {
        "colab": {
          "base_uri": "https://localhost:8080/"
        },
        "id": "tTtLRNlHw-oh",
        "outputId": "a27bee0b-f3c8-49ef-88d9-799abd978061"
      },
      "source": [
        "# training the model\n",
        "\n",
        "regressor.fit(X_train, y_train)"
      ],
      "execution_count": 23,
      "outputs": [
        {
          "output_type": "execute_result",
          "data": {
            "text/plain": [
              "RandomForestRegressor(bootstrap=True, ccp_alpha=0.0, criterion='mse',\n",
              "                      max_depth=None, max_features='auto', max_leaf_nodes=None,\n",
              "                      max_samples=None, min_impurity_decrease=0.0,\n",
              "                      min_impurity_split=None, min_samples_leaf=1,\n",
              "                      min_samples_split=2, min_weight_fraction_leaf=0.0,\n",
              "                      n_estimators=100, n_jobs=None, oob_score=False,\n",
              "                      random_state=None, verbose=0, warm_start=False)"
            ]
          },
          "metadata": {},
          "execution_count": 23
        }
      ]
    },
    {
      "cell_type": "markdown",
      "metadata": {
        "id": "J6LISdi3xMz9"
      },
      "source": [
        "Model Evaluation"
      ]
    },
    {
      "cell_type": "code",
      "metadata": {
        "id": "_W60uyrVxJGJ"
      },
      "source": [
        "# prediction on Test data\n",
        "\n",
        "test_data_predict = regressor.predict(X_test)"
      ],
      "execution_count": 24,
      "outputs": []
    },
    {
      "cell_type": "code",
      "metadata": {
        "colab": {
          "base_uri": "https://localhost:8080/"
        },
        "id": "Xi5Ylyz3xcjl",
        "outputId": "c220d9f9-9945-420d-a5b6-8e66fb30bfe2"
      },
      "source": [
        "print(test_data_predict)"
      ],
      "execution_count": 25,
      "outputs": [
        {
          "output_type": "stream",
          "name": "stdout",
          "text": [
            "[168.51419951  81.75799999 115.9298001  127.75960081 120.957901\n",
            " 154.73239773 149.78829847 126.19450028 117.49249884 126.09220061\n",
            " 116.82270093 172.049601   141.36969913 167.9278988  115.23069963\n",
            " 117.61210029 138.1579033  169.80610069 160.03550314 159.68439931\n",
            " 155.29720057 125.48820007 175.98089978 157.17860385 125.10650038\n",
            "  93.64329967  77.61200002 120.4495001  119.0859989  167.56119936\n",
            "  88.12580052 125.22140025  91.12430071 117.66639996 121.13689902\n",
            " 137.43140156 115.41420122 115.25170074 147.06289935 107.54800092\n",
            " 104.3793024   87.342198   126.46930043 118.04649987 153.84019835\n",
            " 119.54200021 108.38469985 107.98239814  93.12010033 126.97459789\n",
            "  75.33180016 113.84159918 121.32090022 111.1948993  118.80199882\n",
            " 120.42559895 158.00140068 167.19290113 146.72239684  85.94619874\n",
            "  94.28810003  86.89669914  90.53930056 118.98610049 126.41270087\n",
            " 127.63979986 170.45310009 122.31729932 117.24519923  98.91010082\n",
            " 168.54650015 142.8644979  131.8000014  121.24470201 121.18059948\n",
            " 119.8846007  114.54690172 118.33810058 107.43650111 127.94590092\n",
            " 113.85270009 107.52220013 116.61570054 119.69609874  89.06390071\n",
            "  88.19289847 146.77550229 127.32829961 113.53930029 109.63379843\n",
            " 107.80169895  77.12539912 168.77090209 114.00099914 121.61769922\n",
            " 128.02540196 154.725398    91.64689993 135.67530191 158.44080283\n",
            " 125.6260007  125.05410053 130.82470139 114.7981011  119.83929955\n",
            "  92.11489987 110.24799882 168.32639995 156.60989882 114.12599937\n",
            " 106.71250136  79.94249942 113.33430055 125.76740079 107.25429914\n",
            " 119.45180085 156.1699037  159.80749924 120.3166002  134.64990321\n",
            " 101.43879989 117.6424981  119.32350032 113.00500098 102.74949908\n",
            " 160.03669847  99.06010032 148.06339972 125.61330114 169.73889958\n",
            " 125.7517986  127.39859709 127.49320159 113.79239937 113.0598006\n",
            " 123.67859893 102.14529886  89.04019977 124.28819969 101.26439917\n",
            " 106.95779981 113.49460052 117.3205005   98.78289973 121.72760045\n",
            " 163.56989966  87.43409872 106.70379976 117.31710105 127.78080119\n",
            " 123.98290056  80.75379949 120.2259007  156.93099838  87.89080004\n",
            " 110.42399933 118.91869905 172.61689812 103.02239907 105.9691002\n",
            " 122.26880026 156.86159818  87.51209844  93.20180047 112.87390034\n",
            " 177.34799964 114.51729982 119.34380033  94.60970111 125.78800009\n",
            " 166.26780074 115.01950092 116.9051016   88.22669856 148.59040037\n",
            " 120.41529909  89.55699972 111.70980009 117.2534     118.93840106\n",
            "  88.18689938  94.09170015 117.08510042 118.45360192 120.27720053\n",
            " 127.03529751 121.9310997  152.51799989 164.74200012 118.49569963\n",
            " 120.31620123 149.95290036 118.50059922 172.92769859 105.64829946\n",
            " 104.995101   149.43330062 113.69010103 124.92110099 147.90840014\n",
            " 119.40150152 115.43470055 112.81790017 113.54580176 142.22440057\n",
            " 117.70089777 102.93960019 115.86090127 103.65000207  98.55450062\n",
            " 117.51510041  90.6550002   91.49580044 153.53569886 102.65769964\n",
            " 154.95670099 114.4223014  138.69990142  90.27749844 115.45379926\n",
            " 114.01870018 122.9668004  121.70569985 165.36230118  92.85189919\n",
            " 135.40170107 121.27369953 120.96740068 104.48030007 141.4123029\n",
            " 121.62419915 116.56980028 113.45690075 127.32509707 122.83199917\n",
            " 125.74649962 121.22000025  86.85439874 132.9241021  142.91000263\n",
            "  92.69919975 158.26170081 158.74040181 126.22669887 164.26989945\n",
            " 108.88709983 109.07820088 103.71409846  94.28280073 127.63030262\n",
            " 107.09770037 162.07110082 121.75700013 132.1286003  130.78150103\n",
            " 159.58220072  90.21729864 175.39700172 127.79610082 126.85799841\n",
            "  86.24379966 124.65779977 150.12749735  89.69199986 106.8940997\n",
            " 109.14400006  84.85749906 136.00369956 155.13800278 138.13200335\n",
            "  74.12400018 152.38150077 126.15439959 126.72990028 127.42689902\n",
            " 108.53609938 155.89420095 114.54460109 116.98910174 125.16799946\n",
            " 154.07800176 121.29999995 156.4242986   92.94150052 125.56740133\n",
            " 125.58040055  88.11080083  92.23069922 126.46699959 128.29630333\n",
            " 113.30180074 117.63179735 120.99020031 127.34229746 119.37030129\n",
            " 137.14300097  93.88099961 119.88920071 113.24050108  94.28099954\n",
            " 108.64420026  87.38819934 108.68419961  89.55029953  92.25890023\n",
            " 131.54530257 162.48099967  89.43499989 119.48950095 133.19090218\n",
            " 123.83740024 128.49670203 102.00559849  89.11059895 131.67160006\n",
            " 120.13500037 108.43539975 167.11060152 115.22850035  86.58849863\n",
            " 118.91710051  91.12929957 161.63420026 116.33780022 121.74040005\n",
            " 160.18779838 120.28879912 112.66019926 108.46039857 126.73119964\n",
            "  76.23700022 103.00359966 127.38470301 121.84029938  92.58569968\n",
            " 132.11680118 118.05410111 116.08539956 154.54730279 160.06960085\n",
            " 110.08879918 154.887797   119.29560073 160.76870118 118.59360012\n",
            " 158.42149895 115.04489883 116.55130017 148.75049916 114.84770061\n",
            " 125.31029842 166.08309954 117.80820012 124.99209929 153.26600329\n",
            " 153.43040247 132.29880088 114.71760034 121.30440183 124.65870047\n",
            "  89.69100037 123.15399955 154.90270245 111.72140021 106.77789957\n",
            " 162.23960103 118.68250008 165.72069928 133.82870099 114.87359973\n",
            " 153.03799906 168.55879976 115.10770015 114.00940128 158.10239963\n",
            "  85.35999875 127.08360095 127.98400019 128.96590014 124.33110051\n",
            " 123.67990062  90.63880083 153.33749971  97.07379986 137.56570026\n",
            "  89.08099965 107.45150006 115.07380052 112.52850061 124.21479927\n",
            "  91.48229853 125.34080107 162.48989942 119.9001988  165.17270058\n",
            " 127.12259721 112.2392002  127.46719914  94.95739891  90.87839975\n",
            " 102.90459902 120.87070031  83.08809924 126.39599989 160.72490459\n",
            " 117.26830089 118.31169998 120.02419993 122.90930012 120.09680111\n",
            " 121.51599999 118.25670051 107.14240004 148.27669992 125.90759855\n",
            " 115.71890083  73.77929987 127.76980012 154.73050073 122.52390028\n",
            " 125.59280041  88.80269995 104.27109888 124.81110016 120.21560023\n",
            "  73.26780087 151.88740008 121.14730043 104.49969994  86.5934979\n",
            " 115.20599914 172.20209808 119.82920022 160.242197   113.2324996\n",
            " 121.49480026 118.3838013   95.85649991 118.70420023 125.65640031\n",
            " 118.5068996   96.09530073 154.15140128 122.25550005 147.22590038\n",
            " 158.6506023  113.68680021 122.46659942 149.30039788 127.20360014\n",
            " 165.96520073 135.08610016 120.07139976 167.62849877 108.32579903\n",
            " 121.7860984  139.45360126 106.77439914]\n"
          ]
        }
      ]
    },
    {
      "cell_type": "code",
      "metadata": {
        "colab": {
          "base_uri": "https://localhost:8080/"
        },
        "id": "Kiz8X53JxfEH",
        "outputId": "29a44d03-c4ba-4192-face-f69c7eae1e7d"
      },
      "source": [
        "# R squared error\n",
        "\n",
        "error_sore = metrics.r2_score(y_test, test_data_predict)\n",
        "print(\"R squared error : \", error_sore)"
      ],
      "execution_count": 26,
      "outputs": [
        {
          "output_type": "stream",
          "name": "stdout",
          "text": [
            "R squared error :  0.9888602324793289\n"
          ]
        }
      ]
    },
    {
      "cell_type": "markdown",
      "metadata": {
        "id": "zJYkQ30CyuO1"
      },
      "source": [
        "Compare the Actual values and Predicted values in a plot"
      ]
    },
    {
      "cell_type": "code",
      "metadata": {
        "id": "RUTENHfPyE_e"
      },
      "source": [
        "y_test = list(y_test)"
      ],
      "execution_count": 27,
      "outputs": []
    },
    {
      "cell_type": "code",
      "metadata": {
        "colab": {
          "base_uri": "https://localhost:8080/",
          "height": 295
        },
        "id": "Hpl6MM1Qy5ce",
        "outputId": "06240960-9e19-4582-f582-ffaa75220d96"
      },
      "source": [
        "plt.plot(y_test, color=\"red\", label=\"Actual Values\")\n",
        "plt.plot(test_data_predict, color=\"green\", label=\"Predicted values\")\n",
        "plt.title(\"Actual Price vs Predicted Price\")\n",
        "plt.xlabel(\"Number of vlues\")\n",
        "plt.ylabel(\"GLD Price\")\n",
        "plt.legend()\n",
        "plt.show()"
      ],
      "execution_count": 29,
      "outputs": [
        {
          "output_type": "display_data",
          "data": {
            "image/png": "[encoded data removed]",
            "text/plain": [
              "<Figure size 432x288 with 1 Axes>"
            ]
          },
          "metadata": {
            "needs_background": "light"
          }
        }
      ]
    },
    {
      "cell_type": "code",
      "metadata": {
        "id": "wOikrY2IzpIP"
      },
      "source": [
        ""
      ],
      "execution_count": null,
      "outputs": []
    }
  ]
}