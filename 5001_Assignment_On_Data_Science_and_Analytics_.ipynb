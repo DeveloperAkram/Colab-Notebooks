{
  "nbformat": 4,
  "nbformat_minor": 0,
  "metadata": {
    "colab": {
      "name": "Assignment 1001: Data Science and Analytics .ipynb",
      "provenance": [],
      "collapsed_sections": [],
      "authorship_tag": "ABX9TyOFrFfpU8HP3NxHhhcs+Xxa",
      "include_colab_link": true
    },
    "kernelspec": {
      "name": "python3",
      "display_name": "Python 3"
    },
    "language_info": {
      "name": "python"
    },
    "widgets": {
      "application/vnd.jupyter.widget-state+json": {
        "bf6b2be08de342c190c02a332fe7d8a7": {
          "model_module": "@jupyter-widgets/controls",
          "model_name": "VBoxModel",
          "model_module_version": "1.5.0",
          "state": {
            "_view_name": "VBoxView",
            "_dom_classes": [
              "widget-interact"
            ],
            "_model_name": "VBoxModel",
            "_view_module": "@jupyter-widgets/controls",
            "_model_module_version": "1.5.0",
            "_view_count": null,
            "_view_module_version": "1.5.0",
            "box_style": "",
            "layout": "IPY_MODEL_c263636786104061a6f44ca747115ff1",
            "_model_module": "@jupyter-widgets/controls",
            "children": [
              "IPY_MODEL_3f7253122bfd49d6842ab8be9a507670",
              "IPY_MODEL_7b9dd5f5107a4103abd16249b5a21eea"
            ]
          }
        },
        "c263636786104061a6f44ca747115ff1": {
          "model_module": "@jupyter-widgets/base",
          "model_name": "LayoutModel",
          "model_module_version": "1.2.0",
          "state": {
            "_view_name": "LayoutView",
            "grid_template_rows": null,
            "right": null,
            "justify_content": null,
            "_view_module": "@jupyter-widgets/base",
            "overflow": null,
            "_model_module_version": "1.2.0",
            "_view_count": null,
            "flex_flow": null,
            "width": null,
            "min_width": null,
            "border": null,
            "align_items": null,
            "bottom": null,
            "_model_module": "@jupyter-widgets/base",
            "top": null,
            "grid_column": null,
            "overflow_y": null,
            "overflow_x": null,
            "grid_auto_flow": null,
            "grid_area": null,
            "grid_template_columns": null,
            "flex": null,
            "_model_name": "LayoutModel",
            "justify_items": null,
            "grid_row": null,
            "max_height": null,
            "align_content": null,
            "visibility": null,
            "align_self": null,
            "height": null,
            "min_height": null,
            "padding": null,
            "grid_auto_rows": null,
            "grid_gap": null,
            "max_width": null,
            "order": null,
            "_view_module_version": "1.2.0",
            "grid_template_areas": null,
            "object_position": null,
            "object_fit": null,
            "grid_auto_columns": null,
            "margin": null,
            "display": null,
            "left": null
          }
        },
        "3f7253122bfd49d6842ab8be9a507670": {
          "model_module": "@jupyter-widgets/controls",
          "model_name": "DropdownModel",
          "model_module_version": "1.5.0",
          "state": {
            "_options_labels": [
              "mothbeans",
              "chickpea",
              "banana",
              "rice",
              "orange",
              "maize",
              "mungbean",
              "pomegranate",
              "grapes",
              "muskmelon",
              "watermelon",
              "kidneybeans",
              "blackgram",
              "lentil",
              "coconut",
              "jute",
              "mango",
              "pigeonpeas",
              "cotton",
              "papaya",
              "apple",
              "coffee"
            ],
            "_view_name": "DropdownView",
            "style": "IPY_MODEL_868a181f132b4bcabe89dc938d653713",
            "_dom_classes": [],
            "description": "crops",
            "_model_name": "DropdownModel",
            "index": 0,
            "_view_module": "@jupyter-widgets/controls",
            "_model_module_version": "1.5.0",
            "_view_count": null,
            "disabled": false,
            "_view_module_version": "1.5.0",
            "description_tooltip": null,
            "_model_module": "@jupyter-widgets/controls",
            "layout": "IPY_MODEL_85cdfae7f64c4b8fba72909e02956e68"
          }
        },
        "7b9dd5f5107a4103abd16249b5a21eea": {
          "model_module": "@jupyter-widgets/output",
          "model_name": "OutputModel",
          "model_module_version": "1.0.0",
          "state": {
            "_view_name": "OutputView",
            "msg_id": "",
            "_dom_classes": [],
            "_model_name": "OutputModel",
            "outputs": [
              {
                "output_type": "stream",
                "name": "stdout",
                "text": [
                  "------------------------------------------------"
                ]
              },
              {
                "output_type": "stream",
                "name": "stdout",
                "text": [
                  "\n",
                  "Statistics for Nitrogen\n",
                  "Minimum Nitrogen required :  0\n",
                  "Average Nitrogen required :  21.44\n",
                  "Maximum Nitrogen required :  40\n",
                  "------------------------------------------------\n",
                  "Statistics for Phosphorous\n",
                  "Minimum Phosphorous required :  35\n",
                  "Average Phosphorous required :  48.01\n",
                  "Maximum Phosphorous required :  60\n",
                  "------------------------------------------------\n",
                  "Statistics for Potassium\n",
                  "Minimum Potassium required :  15\n",
                  "Average Potassium required :  20.23\n",
                  "Maximum Potassium required :  25\n",
                  "------------------------------------------------\n",
                  "Statistics for Temperature\n",
                  "Minimum Temperature required :  24.02\n",
                  "Average Temperature required :  28.19\n",
                  "Maximum Temperature required :  32.00\n",
                  "------------------------------------------------\n",
                  "Statistics for Humidity\n",
                  "Minimum Humidity required :  40.01\n",
                  "Average Humidity required :  53.16\n",
                  "Maximum Humidity required :  64.96\n",
                  "------------------------------------------------\n",
                  "Statistics for PH\n",
                  "Minimum PH required :  3.50\n",
                  "Average PH required :  6.83\n",
                  "Maximum PH required :  9.94\n",
                  "------------------------------------------------\n",
                  "Statistics for Rainfall\n",
                  "Minimum Rainfall required :  30.92\n",
                  "Average Rainfall required :  51.20\n",
                  "Maximum Rainfall required :  74.44\n"
                ]
              }
            ],
            "_view_module": "@jupyter-widgets/output",
            "_model_module_version": "1.0.0",
            "_view_count": null,
            "_view_module_version": "1.0.0",
            "layout": "IPY_MODEL_50c9befebae14bb0b43e5e291fcf91a8",
            "_model_module": "@jupyter-widgets/output"
          }
        },
        "868a181f132b4bcabe89dc938d653713": {
          "model_module": "@jupyter-widgets/controls",
          "model_name": "DescriptionStyleModel",
          "model_module_version": "1.5.0",
          "state": {
            "_view_name": "StyleView",
            "_model_name": "DescriptionStyleModel",
            "description_width": "",
            "_view_module": "@jupyter-widgets/base",
            "_model_module_version": "1.5.0",
            "_view_count": null,
            "_view_module_version": "1.2.0",
            "_model_module": "@jupyter-widgets/controls"
          }
        },
        "85cdfae7f64c4b8fba72909e02956e68": {
          "model_module": "@jupyter-widgets/base",
          "model_name": "LayoutModel",
          "model_module_version": "1.2.0",
          "state": {
            "_view_name": "LayoutView",
            "grid_template_rows": null,
            "right": null,
            "justify_content": null,
            "_view_module": "@jupyter-widgets/base",
            "overflow": null,
            "_model_module_version": "1.2.0",
            "_view_count": null,
            "flex_flow": null,
            "width": null,
            "min_width": null,
            "border": null,
            "align_items": null,
            "bottom": null,
            "_model_module": "@jupyter-widgets/base",
            "top": null,
            "grid_column": null,
            "overflow_y": null,
            "overflow_x": null,
            "grid_auto_flow": null,
            "grid_area": null,
            "grid_template_columns": null,
            "flex": null,
            "_model_name": "LayoutModel",
            "justify_items": null,
            "grid_row": null,
            "max_height": null,
            "align_content": null,
            "visibility": null,
            "align_self": null,
            "height": null,
            "min_height": null,
            "padding": null,
            "grid_auto_rows": null,
            "grid_gap": null,
            "max_width": null,
            "order": null,
            "_view_module_version": "1.2.0",
            "grid_template_areas": null,
            "object_position": null,
            "object_fit": null,
            "grid_auto_columns": null,
            "margin": null,
            "display": null,
            "left": null
          }
        },
        "50c9befebae14bb0b43e5e291fcf91a8": {
          "model_module": "@jupyter-widgets/base",
          "model_name": "LayoutModel",
          "model_module_version": "1.2.0",
          "state": {
            "_view_name": "LayoutView",
            "grid_template_rows": null,
            "right": null,
            "justify_content": null,
            "_view_module": "@jupyter-widgets/base",
            "overflow": null,
            "_model_module_version": "1.2.0",
            "_view_count": null,
            "flex_flow": null,
            "width": null,
            "min_width": null,
            "border": null,
            "align_items": null,
            "bottom": null,
            "_model_module": "@jupyter-widgets/base",
            "top": null,
            "grid_column": null,
            "overflow_y": null,
            "overflow_x": null,
            "grid_auto_flow": null,
            "grid_area": null,
            "grid_template_columns": null,
            "flex": null,
            "_model_name": "LayoutModel",
            "justify_items": null,
            "grid_row": null,
            "max_height": null,
            "align_content": null,
            "visibility": null,
            "align_self": null,
            "height": null,
            "min_height": null,
            "padding": null,
            "grid_auto_rows": null,
            "grid_gap": null,
            "max_width": null,
            "order": null,
            "_view_module_version": "1.2.0",
            "grid_template_areas": null,
            "object_position": null,
            "object_fit": null,
            "grid_auto_columns": null,
            "margin": null,
            "display": null,
            "left": null
          }
        },
        "2d8dd2f04422488394ee7775e2dbc697": {
          "model_module": "@jupyter-widgets/controls",
          "model_name": "VBoxModel",
          "model_module_version": "1.5.0",
          "state": {
            "_view_name": "VBoxView",
            "_dom_classes": [
              "widget-interact"
            ],
            "_model_name": "VBoxModel",
            "_view_module": "@jupyter-widgets/controls",
            "_model_module_version": "1.5.0",
            "_view_count": null,
            "_view_module_version": "1.5.0",
            "box_style": "",
            "layout": "IPY_MODEL_494deaf641764a4388d80b238b104440",
            "_model_module": "@jupyter-widgets/controls",
            "children": [
              "IPY_MODEL_c92171dabbac417ba81ec4b90148947c",
              "IPY_MODEL_585125d680b54a13b9f8297c563ee339"
            ]
          }
        },
        "494deaf641764a4388d80b238b104440": {
          "model_module": "@jupyter-widgets/base",
          "model_name": "LayoutModel",
          "model_module_version": "1.2.0",
          "state": {
            "_view_name": "LayoutView",
            "grid_template_rows": null,
            "right": null,
            "justify_content": null,
            "_view_module": "@jupyter-widgets/base",
            "overflow": null,
            "_model_module_version": "1.2.0",
            "_view_count": null,
            "flex_flow": null,
            "width": null,
            "min_width": null,
            "border": null,
            "align_items": null,
            "bottom": null,
            "_model_module": "@jupyter-widgets/base",
            "top": null,
            "grid_column": null,
            "overflow_y": null,
            "overflow_x": null,
            "grid_auto_flow": null,
            "grid_area": null,
            "grid_template_columns": null,
            "flex": null,
            "_model_name": "LayoutModel",
            "justify_items": null,
            "grid_row": null,
            "max_height": null,
            "align_content": null,
            "visibility": null,
            "align_self": null,
            "height": null,
            "min_height": null,
            "padding": null,
            "grid_auto_rows": null,
            "grid_gap": null,
            "max_width": null,
            "order": null,
            "_view_module_version": "1.2.0",
            "grid_template_areas": null,
            "object_position": null,
            "object_fit": null,
            "grid_auto_columns": null,
            "margin": null,
            "display": null,
            "left": null
          }
        },
        "c92171dabbac417ba81ec4b90148947c": {
          "model_module": "@jupyter-widgets/controls",
          "model_name": "DropdownModel",
          "model_module_version": "1.5.0",
          "state": {
            "_options_labels": [
              "N",
              "P",
              "K",
              "temperature",
              "ph",
              "humidity",
              "rainfall"
            ],
            "_view_name": "DropdownView",
            "style": "IPY_MODEL_d9e9b4f1d04449c4a87b650b5f2330bd",
            "_dom_classes": [],
            "description": "conditions",
            "_model_name": "DropdownModel",
            "index": 0,
            "_view_module": "@jupyter-widgets/controls",
            "_model_module_version": "1.5.0",
            "_view_count": null,
            "disabled": false,
            "_view_module_version": "1.5.0",
            "description_tooltip": null,
            "_model_module": "@jupyter-widgets/controls",
            "layout": "IPY_MODEL_3f48bb9301aa4a598bfe287d1e4203f0"
          }
        },
        "585125d680b54a13b9f8297c563ee339": {
          "model_module": "@jupyter-widgets/output",
          "model_name": "OutputModel",
          "model_module_version": "1.0.0",
          "state": {
            "_view_name": "OutputView",
            "msg_id": "",
            "_dom_classes": [],
            "_model_name": "OutputModel",
            "outputs": [
              {
                "output_type": "stream",
                "name": "stdout",
                "text": [
                  "Average Value for N is 50.55\n",
                  "-----------------------------------------------------------\n",
                  "Rice :  79.89\n",
                  "Black Grams :  40.02\n",
                  "Banana :  100.23\n",
                  "Jute :  78.40\n",
                  "Coconut :  21.98\n",
                  "Apple :  20.80\n",
                  "Papaya :  49.88\n",
                  "Muskmelon :  100.32\n",
                  "Grapes :  23.18\n",
                  "Watermelon :  99.42\n",
                  "Kidney Beans :  20.75\n",
                  "Mung Beans:  20.99\n",
                  "Oranges :  19.58\n",
                  "Chick Peas :  40.09\n",
                  "Lentils :  18.77\n",
                  "Cotton :  117.77\n",
                  "Maize :  77.76\n",
                  "Moth Beans :  21.44\n",
                  "Pigeon Peas :  20.73\n",
                  "Mango :  20.07\n",
                  "Pomegranate :  18.87\n",
                  "Coffee :  101.20\n"
                ]
              }
            ],
            "_view_module": "@jupyter-widgets/output",
            "_model_module_version": "1.0.0",
            "_view_count": null,
            "_view_module_version": "1.0.0",
            "layout": "IPY_MODEL_f7f69ef5e008415f839ba02ad45464b3",
            "_model_module": "@jupyter-widgets/output"
          }
        },
        "d9e9b4f1d04449c4a87b650b5f2330bd": {
          "model_module": "@jupyter-widgets/controls",
          "model_name": "DescriptionStyleModel",
          "model_module_version": "1.5.0",
          "state": {
            "_view_name": "StyleView",
            "_model_name": "DescriptionStyleModel",
            "description_width": "",
            "_view_module": "@jupyter-widgets/base",
            "_model_module_version": "1.5.0",
            "_view_count": null,
            "_view_module_version": "1.2.0",
            "_model_module": "@jupyter-widgets/controls"
          }
        },
        "3f48bb9301aa4a598bfe287d1e4203f0": {
          "model_module": "@jupyter-widgets/base",
          "model_name": "LayoutModel",
          "model_module_version": "1.2.0",
          "state": {
            "_view_name": "LayoutView",
            "grid_template_rows": null,
            "right": null,
            "justify_content": null,
            "_view_module": "@jupyter-widgets/base",
            "overflow": null,
            "_model_module_version": "1.2.0",
            "_view_count": null,
            "flex_flow": null,
            "width": null,
            "min_width": null,
            "border": null,
            "align_items": null,
            "bottom": null,
            "_model_module": "@jupyter-widgets/base",
            "top": null,
            "grid_column": null,
            "overflow_y": null,
            "overflow_x": null,
            "grid_auto_flow": null,
            "grid_area": null,
            "grid_template_columns": null,
            "flex": null,
            "_model_name": "LayoutModel",
            "justify_items": null,
            "grid_row": null,
            "max_height": null,
            "align_content": null,
            "visibility": null,
            "align_self": null,
            "height": null,
            "min_height": null,
            "padding": null,
            "grid_auto_rows": null,
            "grid_gap": null,
            "max_width": null,
            "order": null,
            "_view_module_version": "1.2.0",
            "grid_template_areas": null,
            "object_position": null,
            "object_fit": null,
            "grid_auto_columns": null,
            "margin": null,
            "display": null,
            "left": null
          }
        },
        "f7f69ef5e008415f839ba02ad45464b3": {
          "model_module": "@jupyter-widgets/base",
          "model_name": "LayoutModel",
          "model_module_version": "1.2.0",
          "state": {
            "_view_name": "LayoutView",
            "grid_template_rows": null,
            "right": null,
            "justify_content": null,
            "_view_module": "@jupyter-widgets/base",
            "overflow": null,
            "_model_module_version": "1.2.0",
            "_view_count": null,
            "flex_flow": null,
            "width": null,
            "min_width": null,
            "border": null,
            "align_items": null,
            "bottom": null,
            "_model_module": "@jupyter-widgets/base",
            "top": null,
            "grid_column": null,
            "overflow_y": null,
            "overflow_x": null,
            "grid_auto_flow": null,
            "grid_area": null,
            "grid_template_columns": null,
            "flex": null,
            "_model_name": "LayoutModel",
            "justify_items": null,
            "grid_row": null,
            "max_height": null,
            "align_content": null,
            "visibility": null,
            "align_self": null,
            "height": null,
            "min_height": null,
            "padding": null,
            "grid_auto_rows": null,
            "grid_gap": null,
            "max_width": null,
            "order": null,
            "_view_module_version": "1.2.0",
            "grid_template_areas": null,
            "object_position": null,
            "object_fit": null,
            "grid_auto_columns": null,
            "margin": null,
            "display": null,
            "left": null
          }
        },
        "cb704f13c5e8442aa8763a5f5bf0db18": {
          "model_module": "@jupyter-widgets/controls",
          "model_name": "VBoxModel",
          "model_module_version": "1.5.0",
          "state": {
            "_view_name": "VBoxView",
            "_dom_classes": [
              "widget-interact"
            ],
            "_model_name": "VBoxModel",
            "_view_module": "@jupyter-widgets/controls",
            "_model_module_version": "1.5.0",
            "_view_count": null,
            "_view_module_version": "1.5.0",
            "box_style": "",
            "layout": "IPY_MODEL_32e15906c26d4ff694a3ae840e337e3d",
            "_model_module": "@jupyter-widgets/controls",
            "children": [
              "IPY_MODEL_aeeec03273094b5f948e849ef5e3872c",
              "IPY_MODEL_e5ffb0c4f2a346b4b7ad376f07f53190"
            ]
          }
        },
        "32e15906c26d4ff694a3ae840e337e3d": {
          "model_module": "@jupyter-widgets/base",
          "model_name": "LayoutModel",
          "model_module_version": "1.2.0",
          "state": {
            "_view_name": "LayoutView",
            "grid_template_rows": null,
            "right": null,
            "justify_content": null,
            "_view_module": "@jupyter-widgets/base",
            "overflow": null,
            "_model_module_version": "1.2.0",
            "_view_count": null,
            "flex_flow": null,
            "width": null,
            "min_width": null,
            "border": null,
            "align_items": null,
            "bottom": null,
            "_model_module": "@jupyter-widgets/base",
            "top": null,
            "grid_column": null,
            "overflow_y": null,
            "overflow_x": null,
            "grid_auto_flow": null,
            "grid_area": null,
            "grid_template_columns": null,
            "flex": null,
            "_model_name": "LayoutModel",
            "justify_items": null,
            "grid_row": null,
            "max_height": null,
            "align_content": null,
            "visibility": null,
            "align_self": null,
            "height": null,
            "min_height": null,
            "padding": null,
            "grid_auto_rows": null,
            "grid_gap": null,
            "max_width": null,
            "order": null,
            "_view_module_version": "1.2.0",
            "grid_template_areas": null,
            "object_position": null,
            "object_fit": null,
            "grid_auto_columns": null,
            "margin": null,
            "display": null,
            "left": null
          }
        },
        "aeeec03273094b5f948e849ef5e3872c": {
          "model_module": "@jupyter-widgets/controls",
          "model_name": "DropdownModel",
          "model_module_version": "1.5.0",
          "state": {
            "_options_labels": [
              "N",
              "P",
              "K",
              "temperature",
              "ph",
              "humidity",
              "rainfall"
            ],
            "_view_name": "DropdownView",
            "style": "IPY_MODEL_c3a7d1352f7e4f33b1d5c06020ba9dd7",
            "_dom_classes": [],
            "description": "conditions",
            "_model_name": "DropdownModel",
            "index": 0,
            "_view_module": "@jupyter-widgets/controls",
            "_model_module_version": "1.5.0",
            "_view_count": null,
            "disabled": false,
            "_view_module_version": "1.5.0",
            "description_tooltip": null,
            "_model_module": "@jupyter-widgets/controls",
            "layout": "IPY_MODEL_1a9ad232057248f0955c7cb2a2480da1"
          }
        },
        "e5ffb0c4f2a346b4b7ad376f07f53190": {
          "model_module": "@jupyter-widgets/output",
          "model_name": "OutputModel",
          "model_module_version": "1.0.0",
          "state": {
            "_view_name": "OutputView",
            "msg_id": "",
            "_dom_classes": [],
            "_model_name": "OutputModel",
            "outputs": [
              {
                "output_type": "stream",
                "name": "stdout",
                "text": [
                  "Crops which require greater than average  N"
                ]
              },
              {
                "output_type": "stream",
                "name": "stdout",
                "text": [
                  " \n",
                  "\n",
                  "['rice' 'maize' 'chickpea' 'blackgram' 'banana' 'watermelon' 'muskmelon'\n",
                  " 'papaya' 'cotton' 'jute' 'coffee']\n",
                  "--------------------------------------------------------------\n",
                  "Crops which require less than average N \n",
                  "\n",
                  "['chickpea' 'kidneybeans' 'pigeonpeas' 'mothbeans' 'mungbean' 'blackgram'\n",
                  " 'lentil' 'pomegranate' 'mango' 'grapes' 'apple' 'orange' 'papaya'\n",
                  " 'coconut']\n"
                ]
              }
            ],
            "_view_module": "@jupyter-widgets/output",
            "_model_module_version": "1.0.0",
            "_view_count": null,
            "_view_module_version": "1.0.0",
            "layout": "IPY_MODEL_0b8bb570f3204867a241c7aea2cca418",
            "_model_module": "@jupyter-widgets/output"
          }
        },
        "c3a7d1352f7e4f33b1d5c06020ba9dd7": {
          "model_module": "@jupyter-widgets/controls",
          "model_name": "DescriptionStyleModel",
          "model_module_version": "1.5.0",
          "state": {
            "_view_name": "StyleView",
            "_model_name": "DescriptionStyleModel",
            "description_width": "",
            "_view_module": "@jupyter-widgets/base",
            "_model_module_version": "1.5.0",
            "_view_count": null,
            "_view_module_version": "1.2.0",
            "_model_module": "@jupyter-widgets/controls"
          }
        },
        "1a9ad232057248f0955c7cb2a2480da1": {
          "model_module": "@jupyter-widgets/base",
          "model_name": "LayoutModel",
          "model_module_version": "1.2.0",
          "state": {
            "_view_name": "LayoutView",
            "grid_template_rows": null,
            "right": null,
            "justify_content": null,
            "_view_module": "@jupyter-widgets/base",
            "overflow": null,
            "_model_module_version": "1.2.0",
            "_view_count": null,
            "flex_flow": null,
            "width": null,
            "min_width": null,
            "border": null,
            "align_items": null,
            "bottom": null,
            "_model_module": "@jupyter-widgets/base",
            "top": null,
            "grid_column": null,
            "overflow_y": null,
            "overflow_x": null,
            "grid_auto_flow": null,
            "grid_area": null,
            "grid_template_columns": null,
            "flex": null,
            "_model_name": "LayoutModel",
            "justify_items": null,
            "grid_row": null,
            "max_height": null,
            "align_content": null,
            "visibility": null,
            "align_self": null,
            "height": null,
            "min_height": null,
            "padding": null,
            "grid_auto_rows": null,
            "grid_gap": null,
            "max_width": null,
            "order": null,
            "_view_module_version": "1.2.0",
            "grid_template_areas": null,
            "object_position": null,
            "object_fit": null,
            "grid_auto_columns": null,
            "margin": null,
            "display": null,
            "left": null
          }
        },
        "0b8bb570f3204867a241c7aea2cca418": {
          "model_module": "@jupyter-widgets/base",
          "model_name": "LayoutModel",
          "model_module_version": "1.2.0",
          "state": {
            "_view_name": "LayoutView",
            "grid_template_rows": null,
            "right": null,
            "justify_content": null,
            "_view_module": "@jupyter-widgets/base",
            "overflow": null,
            "_model_module_version": "1.2.0",
            "_view_count": null,
            "flex_flow": null,
            "width": null,
            "min_width": null,
            "border": null,
            "align_items": null,
            "bottom": null,
            "_model_module": "@jupyter-widgets/base",
            "top": null,
            "grid_column": null,
            "overflow_y": null,
            "overflow_x": null,
            "grid_auto_flow": null,
            "grid_area": null,
            "grid_template_columns": null,
            "flex": null,
            "_model_name": "LayoutModel",
            "justify_items": null,
            "grid_row": null,
            "max_height": null,
            "align_content": null,
            "visibility": null,
            "align_self": null,
            "height": null,
            "min_height": null,
            "padding": null,
            "grid_auto_rows": null,
            "grid_gap": null,
            "max_width": null,
            "order": null,
            "_view_module_version": "1.2.0",
            "grid_template_areas": null,
            "object_position": null,
            "object_fit": null,
            "grid_auto_columns": null,
            "margin": null,
            "display": null,
            "left": null
          }
        }
      }
    }
  },
  "cells": [
    {
      "cell_type": "markdown",
      "metadata": {
        "id": "view-in-github",
        "colab_type": "text"
      },
      "source": [
        "<a href=\"https://colab.research.google.com/github/DeveloperAkram/Colab-Notebooks/blob/master/5001_Assignment_On_Data_Science_and_Analytics_.ipynb\" target=\"_parent\"><img src=\"https://colab.research.google.com/assets/colab-badge.svg\" alt=\"Open In Colab\"/></a>"
      ]
    },
    {
      "cell_type": "code",
      "metadata": {
        "id": "Q1j5Xgcgxmnp"
      },
      "source": [
        "# For Manipulations\n",
        "import numpy as np\n",
        "import pandas as pd\n",
        "\n",
        "# For Data Visualizations\n",
        "import matplotlib.pyplot as plt\n",
        "import seaborn as sns\n",
        "\n",
        "# For Interactivity\n",
        "from ipywidgets import interact"
      ],
      "execution_count": 98,
      "outputs": []
    },
    {
      "cell_type": "code",
      "metadata": {
        "colab": {
          "base_uri": "https://localhost:8080/"
        },
        "id": "6SnZRFNIz5_j",
        "outputId": "0dd17e61-5eba-4947-e0d7-2533e5c21961"
      },
      "source": [
        "# Lets read the dataset\n",
        "\n",
        "from google.colab import drive\n",
        "drive.mount('/content/akramchowdhury')"
      ],
      "execution_count": 99,
      "outputs": [
        {
          "output_type": "stream",
          "name": "stdout",
          "text": [
            "Drive already mounted at /content/akramchowdhury; to attempt to forcibly remount, call drive.mount(\"/content/akramchowdhury\", force_remount=True).\n"
          ]
        }
      ]
    },
    {
      "cell_type": "code",
      "metadata": {
        "id": "gKGvYf5n0dtb"
      },
      "source": [
        "dataset = pd.read_csv('/content/akramchowdhury/MyDrive/Colab Notebooks/Paper Project : Optimizing the Agriculture Production/data.csv')"
      ],
      "execution_count": 100,
      "outputs": []
    },
    {
      "cell_type": "code",
      "metadata": {
        "colab": {
          "base_uri": "https://localhost:8080/"
        },
        "id": "MRZfzpzJ00Nb",
        "outputId": "08f307de-cd8a-499a-a44a-8ea54d1e9db9"
      },
      "source": [
        "# Check the shape of dataset\n",
        "\n",
        "print('Shape of the Dataset: ', dataset.shape)"
      ],
      "execution_count": 101,
      "outputs": [
        {
          "output_type": "stream",
          "name": "stdout",
          "text": [
            "Shape of the Dataset:  (2200, 8)\n"
          ]
        }
      ]
    },
    {
      "cell_type": "code",
      "metadata": {
        "colab": {
          "base_uri": "https://localhost:8080/",
          "height": 203
        },
        "id": "deovsrzQ1LzK",
        "outputId": "7b98200a-d0ea-4152-c79a-f4cbaeed656a"
      },
      "source": [
        "# Check the head of the dataset\n",
        "\n",
        "dataset.head()"
      ],
      "execution_count": 102,
      "outputs": [
        {
          "output_type": "execute_result",
          "data": {
            "text/html": [
              "<div>\n",
              "<style scoped>\n",
              "    .dataframe tbody tr th:only-of-type {\n",
              "        vertical-align: middle;\n",
              "    }\n",
              "\n",
              "    .dataframe tbody tr th {\n",
              "        vertical-align: top;\n",
              "    }\n",
              "\n",
              "    .dataframe thead th {\n",
              "        text-align: right;\n",
              "    }\n",
              "</style>\n",
              "<table border=\"1\" class=\"dataframe\">\n",
              "  <thead>\n",
              "    <tr style=\"text-align: right;\">\n",
              "      <th></th>\n",
              "      <th>N</th>\n",
              "      <th>P</th>\n",
              "      <th>K</th>\n",
              "      <th>temperature</th>\n",
              "      <th>humidity</th>\n",
              "      <th>ph</th>\n",
              "      <th>rainfall</th>\n",
              "      <th>label</th>\n",
              "    </tr>\n",
              "  </thead>\n",
              "  <tbody>\n",
              "    <tr>\n",
              "      <th>0</th>\n",
              "      <td>90</td>\n",
              "      <td>42</td>\n",
              "      <td>43</td>\n",
              "      <td>20.879744</td>\n",
              "      <td>82.002744</td>\n",
              "      <td>6.502985</td>\n",
              "      <td>202.935536</td>\n",
              "      <td>rice</td>\n",
              "    </tr>\n",
              "    <tr>\n",
              "      <th>1</th>\n",
              "      <td>85</td>\n",
              "      <td>58</td>\n",
              "      <td>41</td>\n",
              "      <td>21.770462</td>\n",
              "      <td>80.319644</td>\n",
              "      <td>7.038096</td>\n",
              "      <td>226.655537</td>\n",
              "      <td>rice</td>\n",
              "    </tr>\n",
              "    <tr>\n",
              "      <th>2</th>\n",
              "      <td>60</td>\n",
              "      <td>55</td>\n",
              "      <td>44</td>\n",
              "      <td>23.004459</td>\n",
              "      <td>82.320763</td>\n",
              "      <td>7.840207</td>\n",
              "      <td>263.964248</td>\n",
              "      <td>rice</td>\n",
              "    </tr>\n",
              "    <tr>\n",
              "      <th>3</th>\n",
              "      <td>74</td>\n",
              "      <td>35</td>\n",
              "      <td>40</td>\n",
              "      <td>26.491096</td>\n",
              "      <td>80.158363</td>\n",
              "      <td>6.980401</td>\n",
              "      <td>242.864034</td>\n",
              "      <td>rice</td>\n",
              "    </tr>\n",
              "    <tr>\n",
              "      <th>4</th>\n",
              "      <td>78</td>\n",
              "      <td>42</td>\n",
              "      <td>42</td>\n",
              "      <td>20.130175</td>\n",
              "      <td>81.604873</td>\n",
              "      <td>7.628473</td>\n",
              "      <td>262.717340</td>\n",
              "      <td>rice</td>\n",
              "    </tr>\n",
              "  </tbody>\n",
              "</table>\n",
              "</div>"
            ],
            "text/plain": [
              "    N   P   K  temperature   humidity        ph    rainfall label\n",
              "0  90  42  43    20.879744  82.002744  6.502985  202.935536  rice\n",
              "1  85  58  41    21.770462  80.319644  7.038096  226.655537  rice\n",
              "2  60  55  44    23.004459  82.320763  7.840207  263.964248  rice\n",
              "3  74  35  40    26.491096  80.158363  6.980401  242.864034  rice\n",
              "4  78  42  42    20.130175  81.604873  7.628473  262.717340  rice"
            ]
          },
          "metadata": {},
          "execution_count": 102
        }
      ]
    },
    {
      "cell_type": "code",
      "metadata": {
        "colab": {
          "base_uri": "https://localhost:8080/"
        },
        "id": "kwPQOWyi1xW-",
        "outputId": "ba7960ae-0cc6-49e0-d3f2-bf7df9830e55"
      },
      "source": [
        "# Check if there is any missing value present in the dataset\n",
        "\n",
        "dataset.isnull().sum()"
      ],
      "execution_count": 103,
      "outputs": [
        {
          "output_type": "execute_result",
          "data": {
            "text/plain": [
              "N              0\n",
              "P              0\n",
              "K              0\n",
              "temperature    0\n",
              "humidity       0\n",
              "ph             0\n",
              "rainfall       0\n",
              "label          0\n",
              "dtype: int64"
            ]
          },
          "metadata": {},
          "execution_count": 103
        }
      ]
    },
    {
      "cell_type": "code",
      "metadata": {
        "colab": {
          "base_uri": "https://localhost:8080/"
        },
        "id": "q6GZBUY52cgB",
        "outputId": "d106278c-4356-402f-ef5b-a2b47973969b"
      },
      "source": [
        "# Check the crops present in Dataset\n",
        "\n",
        "dataset['label'].value_counts()"
      ],
      "execution_count": 104,
      "outputs": [
        {
          "output_type": "execute_result",
          "data": {
            "text/plain": [
              "mothbeans      100\n",
              "chickpea       100\n",
              "banana         100\n",
              "rice           100\n",
              "orange         100\n",
              "maize          100\n",
              "mungbean       100\n",
              "pomegranate    100\n",
              "grapes         100\n",
              "muskmelon      100\n",
              "watermelon     100\n",
              "kidneybeans    100\n",
              "blackgram      100\n",
              "lentil         100\n",
              "coconut        100\n",
              "jute           100\n",
              "mango          100\n",
              "pigeonpeas     100\n",
              "cotton         100\n",
              "papaya         100\n",
              "apple          100\n",
              "coffee         100\n",
              "Name: label, dtype: int64"
            ]
          },
          "metadata": {},
          "execution_count": 104
        }
      ]
    },
    {
      "cell_type": "code",
      "metadata": {
        "id": "cZFZUfcq35HR",
        "colab": {
          "base_uri": "https://localhost:8080/"
        },
        "outputId": "76bec040-b47f-46c9-a3a3-f0bad83855f5"
      },
      "source": [
        "# check the summary of all the crops\n",
        "\n",
        "print(\"Average Ratio of Nitrogen in the Soil : {0: 0.2f}\".format(dataset['N'].mean()))\n",
        "print(\"Average Ratio of Phosphorous in the Soil : {0: 0.2f}\".format(dataset['P'].mean()))\n",
        "print(\"Average Ratio of Potassium in the Soil : {0: 0.2f}\".format(dataset['K'].mean()))\n",
        "print(\"Average Temparture in Celsius : {0: 0.2f}\".format(dataset['temperature'].mean()))\n",
        "print(\"Average Relative Humidity in % : {0: 0.2f}\".format(dataset['humidity'].mean()))\n",
        "print(\"Average PH value of the Soil : {0: 0.2f}\".format(dataset['ph'].mean()))\n",
        "print(\"Average Rainfall in nn : {0: 0.2f}\".format(dataset['rainfall'].mean()))"
      ],
      "execution_count": 105,
      "outputs": [
        {
          "output_type": "stream",
          "name": "stdout",
          "text": [
            "Average Ratio of Nitrogen in the Soil :  50.55\n",
            "Average Ratio of Phosphorous in the Soil :  53.36\n",
            "Average Ratio of Potassium in the Soil :  48.15\n",
            "Average Temparture in Celsius :  25.62\n",
            "Average Relative Humidity in % :  71.48\n",
            "Average PH value of the Soil :  6.47\n",
            "Average Rainfall in nn :  103.46\n"
          ]
        }
      ]
    },
    {
      "cell_type": "code",
      "metadata": {
        "colab": {
          "base_uri": "https://localhost:8080/",
          "height": 295
        },
        "id": "3ZkTsB5L3SvW",
        "outputId": "4e24b374-f986-4455-cacc-b2d6f9dea204"
      },
      "source": [
        "dataset.describe()"
      ],
      "execution_count": 106,
      "outputs": [
        {
          "output_type": "execute_result",
          "data": {
            "text/html": [
              "<div>\n",
              "<style scoped>\n",
              "    .dataframe tbody tr th:only-of-type {\n",
              "        vertical-align: middle;\n",
              "    }\n",
              "\n",
              "    .dataframe tbody tr th {\n",
              "        vertical-align: top;\n",
              "    }\n",
              "\n",
              "    .dataframe thead th {\n",
              "        text-align: right;\n",
              "    }\n",
              "</style>\n",
              "<table border=\"1\" class=\"dataframe\">\n",
              "  <thead>\n",
              "    <tr style=\"text-align: right;\">\n",
              "      <th></th>\n",
              "      <th>N</th>\n",
              "      <th>P</th>\n",
              "      <th>K</th>\n",
              "      <th>temperature</th>\n",
              "      <th>humidity</th>\n",
              "      <th>ph</th>\n",
              "      <th>rainfall</th>\n",
              "    </tr>\n",
              "  </thead>\n",
              "  <tbody>\n",
              "    <tr>\n",
              "      <th>count</th>\n",
              "      <td>2200.000000</td>\n",
              "      <td>2200.000000</td>\n",
              "      <td>2200.000000</td>\n",
              "      <td>2200.000000</td>\n",
              "      <td>2200.000000</td>\n",
              "      <td>2200.000000</td>\n",
              "      <td>2200.000000</td>\n",
              "    </tr>\n",
              "    <tr>\n",
              "      <th>mean</th>\n",
              "      <td>50.551818</td>\n",
              "      <td>53.362727</td>\n",
              "      <td>48.149091</td>\n",
              "      <td>25.616244</td>\n",
              "      <td>71.481779</td>\n",
              "      <td>6.469480</td>\n",
              "      <td>103.463655</td>\n",
              "    </tr>\n",
              "    <tr>\n",
              "      <th>std</th>\n",
              "      <td>36.917334</td>\n",
              "      <td>32.985883</td>\n",
              "      <td>50.647931</td>\n",
              "      <td>5.063749</td>\n",
              "      <td>22.263812</td>\n",
              "      <td>0.773938</td>\n",
              "      <td>54.958389</td>\n",
              "    </tr>\n",
              "    <tr>\n",
              "      <th>min</th>\n",
              "      <td>0.000000</td>\n",
              "      <td>5.000000</td>\n",
              "      <td>5.000000</td>\n",
              "      <td>8.825675</td>\n",
              "      <td>14.258040</td>\n",
              "      <td>3.504752</td>\n",
              "      <td>20.211267</td>\n",
              "    </tr>\n",
              "    <tr>\n",
              "      <th>25%</th>\n",
              "      <td>21.000000</td>\n",
              "      <td>28.000000</td>\n",
              "      <td>20.000000</td>\n",
              "      <td>22.769375</td>\n",
              "      <td>60.261953</td>\n",
              "      <td>5.971693</td>\n",
              "      <td>64.551686</td>\n",
              "    </tr>\n",
              "    <tr>\n",
              "      <th>50%</th>\n",
              "      <td>37.000000</td>\n",
              "      <td>51.000000</td>\n",
              "      <td>32.000000</td>\n",
              "      <td>25.598693</td>\n",
              "      <td>80.473146</td>\n",
              "      <td>6.425045</td>\n",
              "      <td>94.867624</td>\n",
              "    </tr>\n",
              "    <tr>\n",
              "      <th>75%</th>\n",
              "      <td>84.250000</td>\n",
              "      <td>68.000000</td>\n",
              "      <td>49.000000</td>\n",
              "      <td>28.561654</td>\n",
              "      <td>89.948771</td>\n",
              "      <td>6.923643</td>\n",
              "      <td>124.267508</td>\n",
              "    </tr>\n",
              "    <tr>\n",
              "      <th>max</th>\n",
              "      <td>140.000000</td>\n",
              "      <td>145.000000</td>\n",
              "      <td>205.000000</td>\n",
              "      <td>43.675493</td>\n",
              "      <td>99.981876</td>\n",
              "      <td>9.935091</td>\n",
              "      <td>298.560117</td>\n",
              "    </tr>\n",
              "  </tbody>\n",
              "</table>\n",
              "</div>"
            ],
            "text/plain": [
              "                 N            P  ...           ph     rainfall\n",
              "count  2200.000000  2200.000000  ...  2200.000000  2200.000000\n",
              "mean     50.551818    53.362727  ...     6.469480   103.463655\n",
              "std      36.917334    32.985883  ...     0.773938    54.958389\n",
              "min       0.000000     5.000000  ...     3.504752    20.211267\n",
              "25%      21.000000    28.000000  ...     5.971693    64.551686\n",
              "50%      37.000000    51.000000  ...     6.425045    94.867624\n",
              "75%      84.250000    68.000000  ...     6.923643   124.267508\n",
              "max     140.000000   145.000000  ...     9.935091   298.560117\n",
              "\n",
              "[8 rows x 7 columns]"
            ]
          },
          "metadata": {},
          "execution_count": 106
        }
      ]
    },
    {
      "cell_type": "code",
      "metadata": {
        "colab": {
          "base_uri": "https://localhost:8080/",
          "height": 654,
          "referenced_widgets": [
            "bf6b2be08de342c190c02a332fe7d8a7",
            "c263636786104061a6f44ca747115ff1",
            "3f7253122bfd49d6842ab8be9a507670",
            "7b9dd5f5107a4103abd16249b5a21eea",
            "868a181f132b4bcabe89dc938d653713",
            "85cdfae7f64c4b8fba72909e02956e68",
            "50c9befebae14bb0b43e5e291fcf91a8"
          ]
        },
        "id": "Ql4ITE-zO85B",
        "outputId": "d1471001-4f09-4c7a-cc5a-ad90adf7cb13"
      },
      "source": [
        "# Check the summary Statistics for each of the Crops\n",
        "\n",
        "@interact\n",
        "def summary(crops = list(dataset['label'].value_counts().index)):\n",
        "  x = dataset[dataset['label'] == crops]\n",
        "  print(\"------------------------------------------------\")\n",
        "  print(\"Statistics for Nitrogen\")\n",
        "  print(\"Minimum Nitrogen required : \", x['N'].min())\n",
        "  print(\"Average Nitrogen required : \", x['N'].mean())\n",
        "  print(\"Maximum Nitrogen required : \", x['N'].max())\n",
        "  print(\"------------------------------------------------\")\n",
        "  print(\"Statistics for Phosphorous\")\n",
        "  print(\"Minimum Phosphorous required : \", x['P'].min())\n",
        "  print(\"Average Phosphorous required : \", x['P'].mean())\n",
        "  print(\"Maximum Phosphorous required : \", x['P'].max())\n",
        "  print(\"------------------------------------------------\")\n",
        "  print(\"Statistics for Potassium\")\n",
        "  print(\"Minimum Potassium required : \", x['K'].min())\n",
        "  print(\"Average Potassium required : \", x['K'].mean())\n",
        "  print(\"Maximum Potassium required : \", x['K'].max())\n",
        "  print(\"------------------------------------------------\")\n",
        "  print(\"Statistics for Temperature\")\n",
        "  print(\"Minimum Temperature required : {0: 0.2f}\".format(x['temperature'].min()))\n",
        "  print(\"Average Temperature required : {0: 0.2f}\".format(x['temperature'].mean()))\n",
        "  print(\"Maximum Temperature required : {0: 0.2f}\".format(x['temperature'].max()))\n",
        "  print(\"------------------------------------------------\")\n",
        "  print(\"Statistics for Humidity\")\n",
        "  print(\"Minimum Humidity required : {0: 0.2f}\".format(x['humidity'].min()))\n",
        "  print(\"Average Humidity required : {0: 0.2f}\".format(x['humidity'].mean()))\n",
        "  print(\"Maximum Humidity required : {0: 0.2f}\".format(x['humidity'].max()))\n",
        "  print(\"------------------------------------------------\")\n",
        "  print(\"Statistics for PH\")\n",
        "  print(\"Minimum PH required : {0: 0.2f}\".format(x['ph'].min()))\n",
        "  print(\"Average PH required : {0: 0.2f}\".format(x['ph'].mean()))\n",
        "  print(\"Maximum PH required : {0: 0.2f}\".format(x['ph'].max()))\n",
        "  print(\"------------------------------------------------\")\n",
        "  print(\"Statistics for Rainfall\")\n",
        "  print(\"Minimum Rainfall required : {0: 0.2f}\".format(x['rainfall'].min()))\n",
        "  print(\"Average Rainfall required : {0: 0.2f}\".format(x['rainfall'].mean()))\n",
        "  print(\"Maximum Rainfall required : {0: 0.2f}\".format(x['rainfall'].max()))"
      ],
      "execution_count": 107,
      "outputs": [
        {
          "output_type": "display_data",
          "data": {
            "application/vnd.jupyter.widget-view+json": {
              "model_id": "bf6b2be08de342c190c02a332fe7d8a7",
              "version_minor": 0,
              "version_major": 2
            },
            "text/plain": [
              "interactive(children=(Dropdown(description='crops', options=('mothbeans', 'chickpea', 'banana', 'rice', 'orang…"
            ]
          },
          "metadata": {}
        }
      ]
    },
    {
      "cell_type": "code",
      "metadata": {
        "id": "x6LwIa5LZ1HV",
        "colab": {
          "base_uri": "https://localhost:8080/",
          "height": 452,
          "referenced_widgets": [
            "2d8dd2f04422488394ee7775e2dbc697",
            "494deaf641764a4388d80b238b104440",
            "c92171dabbac417ba81ec4b90148947c",
            "585125d680b54a13b9f8297c563ee339",
            "d9e9b4f1d04449c4a87b650b5f2330bd",
            "3f48bb9301aa4a598bfe287d1e4203f0",
            "f7f69ef5e008415f839ba02ad45464b3"
          ]
        },
        "outputId": "b04a8f5a-2072-4596-9280-f4b4120090b7"
      },
      "source": [
        "# compare the average requirement for each crops with average conditions\n",
        "\n",
        "@interact\n",
        "def compare(conditions = [\"N\", \"P\", \"K\", \"temperature\", \"ph\", \"humidity\", \"rainfall\"]):\n",
        "  print(\"Average Value for\", conditions, \"is {0:.2f}\".format(dataset[conditions].mean()))\n",
        "  print(\"-----------------------------------------------------------\")\n",
        "  print(\"Rice : {0: .2f}\".format(dataset[(dataset['label'] == 'rice')][conditions].mean()))\n",
        "  print(\"Black Grams : {0: .2f}\".format(dataset[(dataset['label'] == 'blackgram')][conditions].mean()))\n",
        "  print(\"Banana : {0: .2f}\".format(dataset[(dataset['label'] == 'banana')][conditions].mean()))\n",
        "  print(\"Jute : {0: .2f}\".format(dataset[(dataset['label'] == 'jute')][conditions].mean()))\n",
        "  print(\"Coconut : {0: .2f}\".format(dataset[(dataset['label'] == 'coconut')][conditions].mean()))\n",
        "  print(\"Apple : {0: .2f}\".format(dataset[(dataset['label'] == 'apple')][conditions].mean()))\n",
        "  print(\"Papaya : {0: .2f}\".format(dataset[(dataset['label'] == 'papaya')][conditions].mean()))\n",
        "  print(\"Muskmelon : {0: .2f}\".format(dataset[(dataset['label'] == 'muskmelon')][conditions].mean()))\n",
        "  print(\"Grapes : {0: .2f}\".format(dataset[(dataset['label'] == 'grapes')][conditions].mean()))\n",
        "  print(\"Watermelon : {0: .2f}\".format(dataset[(dataset['label'] == 'watermelon')][conditions].mean()))\n",
        "  print(\"Kidney Beans : {0: .2f}\".format(dataset[(dataset['label'] == 'kidneybeans')][conditions].mean()))\n",
        "  print(\"Mung Beans: {0: .2f}\".format(dataset[(dataset['label'] == 'mungbean')][conditions].mean()))\n",
        "  print(\"Oranges : {0: .2f}\".format(dataset[(dataset['label'] == 'orange')][conditions].mean()))\n",
        "  print(\"Chick Peas : {0: .2f}\".format(dataset[(dataset['label'] == 'chickpea')][conditions].mean()))\n",
        "  print(\"Lentils : {0: .2f}\".format(dataset[(dataset['label'] == 'lentil')][conditions].mean()))\n",
        "  print(\"Cotton : {0: .2f}\".format(dataset[(dataset['label'] == 'cotton')][conditions].mean()))\n",
        "  print(\"Maize : {0: .2f}\".format(dataset[(dataset['label'] == 'maize')][conditions].mean()))\n",
        "  print(\"Moth Beans : {0: .2f}\".format(dataset[(dataset['label'] == 'mothbeans')][conditions].mean()))\n",
        "  print(\"Pigeon Peas : {0: .2f}\".format(dataset[(dataset['label'] == 'pigeonpeas')][conditions].mean()))\n",
        "  print(\"Mango : {0: .2f}\".format(dataset[(dataset['label'] == 'mango')][conditions].mean()))\n",
        "  print(\"Pomegranate : {0: .2f}\".format(dataset[(dataset['label'] == 'pomegranate')][conditions].mean()))\n",
        "  print(\"Coffee : {0: .2f}\".format(dataset[(dataset['label'] == 'coffee')][conditions].mean()))"
      ],
      "execution_count": 108,
      "outputs": [
        {
          "output_type": "display_data",
          "data": {
            "application/vnd.jupyter.widget-view+json": {
              "model_id": "2d8dd2f04422488394ee7775e2dbc697",
              "version_minor": 0,
              "version_major": 2
            },
            "text/plain": [
              "interactive(children=(Dropdown(description='conditions', options=('N', 'P', 'K', 'temperature', 'ph', 'humidit…"
            ]
          },
          "metadata": {}
        }
      ]
    },
    {
      "cell_type": "code",
      "metadata": {
        "colab": {
          "base_uri": "https://localhost:8080/",
          "height": 234,
          "referenced_widgets": [
            "cb704f13c5e8442aa8763a5f5bf0db18",
            "32e15906c26d4ff694a3ae840e337e3d",
            "aeeec03273094b5f948e849ef5e3872c",
            "e5ffb0c4f2a346b4b7ad376f07f53190",
            "c3a7d1352f7e4f33b1d5c06020ba9dd7",
            "1a9ad232057248f0955c7cb2a2480da1",
            "0b8bb570f3204867a241c7aea2cca418"
          ]
        },
        "id": "MgRoPBj4Fz2H",
        "outputId": "88499afd-728d-45ca-ca55-b122c1b6f14c"
      },
      "source": [
        "# Make this funtion more Intuitive\n",
        "\n",
        "@interact\n",
        "def compare(conditions = ['N', 'P', 'K', 'temperature', 'ph', 'humidity', 'rainfall']):\n",
        "  print(\"Crops which require greater than average \", conditions, '\\n')\n",
        "  print(dataset[dataset[conditions] > dataset[conditions].mean()]['label'].unique())\n",
        "  print(\"--------------------------------------------------------------\")\n",
        "  print(\"Crops which require less than average\", conditions, '\\n')\n",
        "  print(dataset[dataset[conditions] <= dataset[conditions].mean()]['label'].unique())"
      ],
      "execution_count": 109,
      "outputs": [
        {
          "output_type": "display_data",
          "data": {
            "application/vnd.jupyter.widget-view+json": {
              "model_id": "cb704f13c5e8442aa8763a5f5bf0db18",
              "version_minor": 0,
              "version_major": 2
            },
            "text/plain": [
              "interactive(children=(Dropdown(description='conditions', options=('N', 'P', 'K', 'temperature', 'ph', 'humidit…"
            ]
          },
          "metadata": {}
        }
      ]
    },
    {
      "cell_type": "code",
      "metadata": {
        "colab": {
          "base_uri": "https://localhost:8080/",
          "height": 1000
        },
        "id": "PZMKuUcbe23s",
        "outputId": "09cd8f68-2d3f-4ec9-f435-688d70a67214"
      },
      "source": [
        "# Distribution for Agricultural Condition\n",
        "\n",
        "sns.displot(dataset['N'], color= 'lightgreen')\n",
        "plt.xlabel('Ratio of Nitrogen', fontsize = 12)\n",
        "plt.grid()\n",
        "plt.show()\n",
        "\n",
        "sns.displot(dataset['P'], color= 'darkblue')\n",
        "plt.xlabel('Ratio of Phosphorous', fontsize = 12)\n",
        "plt.grid()\n",
        "plt.show()\n",
        "\n",
        "sns.displot(dataset['K'], color= 'yellow')\n",
        "plt.xlabel('Ratio of Potassium', fontsize = 12)\n",
        "plt.grid()\n",
        "plt.show()\n",
        "\n",
        "sns.displot(dataset['temperature'], color= 'black')\n",
        "plt.xlabel('Temperature', fontsize = 12)\n",
        "plt.grid()\n",
        "plt.show()\n",
        "\n",
        "sns.displot(dataset['rainfall'], color= 'gray')\n",
        "plt.xlabel('Rainfall', fontsize = 12)\n",
        "plt.grid()\n",
        "plt.show()\n",
        "\n",
        "sns.displot(dataset['humidity'], color= 'lightgreen')\n",
        "plt.xlabel('Humidity', fontsize = 12)\n",
        "plt.grid()\n",
        "plt.show()\n",
        "\n",
        "sns.displot(dataset['ph'], color= 'green')\n",
        "plt.xlabel('pH Level', fontsize = 12)\n",
        "plt.grid()\n",
        "plt.show()"
      ],
      "execution_count": 110,
      "outputs": [
        {
          "output_type": "display_data",
          "data": {
            "image/png": "[encoded data removed]",
            "text/plain": [
              "<Figure size 360x360 with 1 Axes>"
            ]
          },
          "metadata": {
            "needs_background": "light"
          }
        },
        {
          "output_type": "display_data",
          "data": {
            "image/png": "[encoded data removed]",
            "text/plain": [
              "<Figure size 360x360 with 1 Axes>"
            ]
          },
          "metadata": {
            "needs_background": "light"
          }
        },
        {
          "output_type": "display_data",
          "data": {
            "image/png": "[encoded data removed]",
            "text/plain": [
              "<Figure size 360x360 with 1 Axes>"
            ]
          },
          "metadata": {
            "needs_background": "light"
          }
        },
        {
          "output_type": "display_data",
          "data": {
            "image/png": "[encoded data removed]",
            "text/plain": [
              "<Figure size 360x360 with 1 Axes>"
            ]
          },
          "metadata": {
            "needs_background": "light"
          }
        },
        {
          "output_type": "display_data",
          "data": {
            "image/png": "[encoded data removed]",
            "text/plain": [
              "<Figure size 360x360 with 1 Axes>"
            ]
          },
          "metadata": {
            "needs_background": "light"
          }
        },
        {
          "output_type": "display_data",
          "data": {
            "image/png": "[encoded data removed]",
            "text/plain": [
              "<Figure size 360x360 with 1 Axes>"
            ]
          },
          "metadata": {
            "needs_background": "light"
          }
        },
        {
          "output_type": "display_data",
          "data": {
            "image/png": "[encoded data removed]",
            "text/plain": [
              "<Figure size 360x360 with 1 Axes>"
            ]
          },
          "metadata": {
            "needs_background": "light"
          }
        }
      ]
    },
    {
      "cell_type": "code",
      "metadata": {
        "id": "qrrjQXkkABvx",
        "colab": {
          "base_uri": "https://localhost:8080/"
        },
        "outputId": "1cf319cf-2d7b-4038-c5ba-04bd49531199"
      },
      "source": [
        "# Find out some Interesting facts\n",
        "\n",
        "print(\"Some Interesting Patterns\")\n",
        "print(\"--------------------------------------------------\")\n",
        "print(\"Crops which requires very High Ratio of Nitrogen Content in Soil:\", dataset[dataset['N'] > 120]['label'].unique())\n",
        "print(\"Crops which requires very High Ratio of Phosphorous Content in Soil:\", dataset[dataset['P'] > 100]['label'].unique())\n",
        "print(\"Crops which requires very High Ratio of Potassium Content in Soil:\", dataset[dataset['K'] > 200]['label'].unique())\n",
        "print(\"Crops which requires very High Rainfall:\", dataset[dataset['rainfall'] > 200]['label'].unique())\n",
        "print(\"Crops which requires very High Temperature:\", dataset[dataset['temperature'] > 40]['label'].unique())\n",
        "print(\"Crops which requires very Low Temperature:\", dataset[dataset['temperature'] < 10]['label'].unique())\n",
        "print(\"Crops which requires very Low Humidity:\", dataset[dataset['humidity'] < 20]['label'].unique())\n",
        "print(\"Crops which requires very Low pH:\", dataset[dataset['ph'] < 4]['label'].unique())\n",
        "print(\"Crops which requires very High pH:\", dataset[dataset['ph'] > 9]['label'].unique())"
      ],
      "execution_count": 111,
      "outputs": [
        {
          "output_type": "stream",
          "name": "stdout",
          "text": [
            "Some Interesting Patterns\n",
            "--------------------------------------------------\n",
            "Crops which requires very High Ratio of Nitrogen Content in Soil: ['cotton']\n",
            "Crops which requires very High Ratio of Phosphorous Content in Soil: ['grapes' 'apple']\n",
            "Crops which requires very High Ratio of Potassium Content in Soil: ['grapes' 'apple']\n",
            "Crops which requires very High Rainfall: ['rice' 'papaya' 'coconut']\n",
            "Crops which requires very High Temperature: ['grapes' 'papaya']\n",
            "Crops which requires very Low Temperature: ['grapes']\n",
            "Crops which requires very Low Humidity: ['chickpea' 'kidneybeans']\n",
            "Crops which requires very Low pH: ['mothbeans']\n",
            "Crops which requires very High pH: ['mothbeans']\n"
          ]
        }
      ]
    },
    {
      "cell_type": "code",
      "metadata": {
        "colab": {
          "base_uri": "https://localhost:8080/"
        },
        "id": "-X2GDppDkXHI",
        "outputId": "62040f09-1738-40ce-c3c9-48c209b096d5"
      },
      "source": [
        "# Understand which crops can only be Grown in Summer Season, Winter Season and Rainy Season\n",
        "\n",
        "print(\"Summer Crops\")\n",
        "print(dataset[(dataset['temperature'] > 30) & (dataset['humidity'] > 50)]['label'].unique())\n",
        "print(\"Winter Crops\")\n",
        "print(dataset[(dataset['temperature'] < 20) & (dataset['humidity'] > 30)]['label'].unique())\n",
        "print(\"Rainy Crops\")\n",
        "print(dataset[(dataset['rainfall'] > 200) & (dataset['humidity'] > 30)]['label'].unique())"
      ],
      "execution_count": 112,
      "outputs": [
        {
          "output_type": "stream",
          "name": "stdout",
          "text": [
            "Summer Crops\n",
            "['pigeonpeas' 'mothbeans' 'blackgram' 'mango' 'grapes' 'orange' 'papaya']\n",
            "Winter Crops\n",
            "['maize' 'pigeonpeas' 'lentil' 'pomegranate' 'grapes' 'orange']\n",
            "Rainy Crops\n",
            "['rice' 'papaya' 'coconut']\n"
          ]
        }
      ]
    },
    {
      "cell_type": "code",
      "metadata": {
        "colab": {
          "base_uri": "https://localhost:8080/"
        },
        "id": "066Sk-mAoYyM",
        "outputId": "434aafd6-a58e-459e-a2f7-261bdff341d3"
      },
      "source": [
        "from sklearn.cluster import KMeans\n",
        "\n",
        "# removing the labels column\n",
        "X = dataset.drop(['label'], axis = 1)\n",
        "\n",
        "# selecting all the value of the data\n",
        "X = X.values\n",
        "\n",
        "# checking the shape\n",
        "print(X.shape)"
      ],
      "execution_count": 113,
      "outputs": [
        {
          "output_type": "stream",
          "name": "stdout",
          "text": [
            "(2200, 7)\n"
          ]
        }
      ]
    },
    {
      "cell_type": "code",
      "metadata": {
        "colab": {
          "base_uri": "https://localhost:8080/",
          "height": 300
        },
        "id": "teNl_x3Qp4fC",
        "outputId": "64be80b1-6917-46de-aee7-146004c66c52"
      },
      "source": [
        " # Determine the Optimum Number of Clusters within the Dataset\n",
        "\n",
        " plt.rcParams['figure.figsize'] = (10, 4)\n",
        "\n",
        " wcss = []\n",
        " for i in range(1, 11):\n",
        "   km = KMeans(n_clusters= i, init= 'k-means++', max_iter= 300, n_init= 10, random_state= 42)\n",
        "   km.fit(X)\n",
        "   wcss.append(km.inertia_)\n",
        "\n",
        "# Plot the results\n",
        "\n",
        "plt.plot(range(1, 11), wcss)\n",
        "plt.title('The Elbow Method', fontsize = 20)\n",
        "plt.xlabel('No. of Clusters')\n",
        "plt.ylabel('wcss')\n",
        "plt.show()"
      ],
      "execution_count": 114,
      "outputs": [
        {
          "output_type": "display_data",
          "data": {
            "image/png": "[encoded data removed]",
            "text/plain": [
              "<Figure size 720x288 with 1 Axes>"
            ]
          },
          "metadata": {
            "needs_background": "light"
          }
        }
      ]
    },
    {
      "cell_type": "code",
      "metadata": {
        "colab": {
          "base_uri": "https://localhost:8080/"
        },
        "id": "UWAKYa6Qrt2q",
        "outputId": "ff00b074-5498-4746-e109-85890f59dffa"
      },
      "source": [
        "# Implementation the K Means algorithm to perform Clustering analysis\n",
        "\n",
        "km = KMeans(n_clusters= 4, init= 'k-means++', max_iter= 300, n_init= 10, random_state= 42)\n",
        "y_means = km.fit_predict(X)\n",
        "\n",
        "# Find out the results\n",
        "\n",
        "a = dataset['label']\n",
        "y_means = pd.DataFrame(y_means)\n",
        "z = pd.concat([y_means, a], axis = 1)\n",
        "z = z.rename(columns = {0: 'cluster'})\n",
        "\n",
        "# Check the Clusters of each Crops\n",
        "\n",
        "print(\"Check the Results After Applying the K Means Clustering Analysis \\n\")\n",
        "print(\"Crops in First Cluster:\", z[z['cluster'] == 0]['label'].unique())\n",
        "print(\"-----------------------------------------------------------------\")\n",
        "print(\"Crops in Second Cluster:\", z[z['cluster'] == 1]['label'].unique())\n",
        "print(\"-----------------------------------------------------------------\")\n",
        "print(\"Crops in Third Cluster:\", z[z['cluster'] == 2]['label'].unique())\n",
        "print(\"-----------------------------------------------------------------\")\n",
        "print(\"Crops in Forth Cluster:\", z[z['cluster'] == 3]['label'].unique())"
      ],
      "execution_count": 115,
      "outputs": [
        {
          "output_type": "stream",
          "name": "stdout",
          "text": [
            "Check the Results After Applying the K Means Clustering Analysis \n",
            "\n",
            "Crops in First Cluster: ['maize' 'banana' 'watermelon' 'muskmelon' 'papaya' 'cotton' 'coffee']\n",
            "-----------------------------------------------------------------\n",
            "Crops in Second Cluster: ['grapes' 'apple']\n",
            "-----------------------------------------------------------------\n",
            "Crops in Third Cluster: ['maize' 'chickpea' 'kidneybeans' 'pigeonpeas' 'mothbeans' 'mungbean'\n",
            " 'blackgram' 'lentil' 'pomegranate' 'mango' 'orange' 'papaya' 'coconut']\n",
            "-----------------------------------------------------------------\n",
            "Crops in Forth Cluster: ['rice' 'pigeonpeas' 'papaya' 'coconut' 'jute' 'coffee']\n"
          ]
        }
      ]
    },
    {
      "cell_type": "code",
      "metadata": {
        "colab": {
          "base_uri": "https://localhost:8080/"
        },
        "id": "uJLJtolNuRXg",
        "outputId": "9c1f1cb0-82d9-48e1-efe6-9135228f6b22"
      },
      "source": [
        "# split the Dataset for predictive Modeling\n",
        "\n",
        "y = dataset['label']\n",
        "X = dataset.drop(['label'], axis = 1)\n",
        "\n",
        "print(\"Shape of X:\", X.shape)\n",
        "print(\"Shape of y:\", y.shape)"
      ],
      "execution_count": 116,
      "outputs": [
        {
          "output_type": "stream",
          "name": "stdout",
          "text": [
            "Shape of X: (2200, 7)\n",
            "Shape of y: (2200,)\n"
          ]
        }
      ]
    },
    {
      "cell_type": "code",
      "metadata": {
        "colab": {
          "base_uri": "https://localhost:8080/"
        },
        "id": "J_lecpUdv3AU",
        "outputId": "d2c1dde7-b0ae-4a5b-db82-5a3319f8b1c8"
      },
      "source": [
        "# Create Training and Testing Sets for Validation of Results\n",
        "\n",
        "from sklearn.model_selection import train_test_split\n",
        "\n",
        "X_train, X_test, y_train, y_test = train_test_split(X, y, test_size = 0.2, random_state = 42)\n",
        "\n",
        "print(\"The Shape of X train:\", X_train.shape)\n",
        "print(\"The Shape of X test:\", X_test.shape)\n",
        "print(\"The Shape of y train:\", y_train.shape)\n",
        "print(\"The Shape of y test:\", y_test.shape)"
      ],
      "execution_count": 117,
      "outputs": [
        {
          "output_type": "stream",
          "name": "stdout",
          "text": [
            "The Shape of X train: (1760, 7)\n",
            "The Shape of X test: (440, 7)\n",
            "The Shape of y train: (1760,)\n",
            "The Shape of y test: (440,)\n"
          ]
        }
      ]
    },
    {
      "cell_type": "code",
      "metadata": {
        "colab": {
          "base_uri": "https://localhost:8080/"
        },
        "id": "W7w91pH4xHt1",
        "outputId": "e4798abf-bb44-4079-baa8-2047df6786ca"
      },
      "source": [
        "# create a Predictive Model\n",
        "\n",
        "from sklearn.linear_model import LogisticRegression\n",
        "\n",
        "model = LogisticRegression()\n",
        "model.fit(X_train, y_train)\n",
        "y_pred = model.predict(X_test)"
      ],
      "execution_count": 118,
      "outputs": [
        {
          "output_type": "stream",
          "name": "stderr",
          "text": [
            "/usr/local/lib/python3.7/dist-packages/sklearn/linear_model/_logistic.py:940: ConvergenceWarning: lbfgs failed to converge (status=1):\n",
            "STOP: TOTAL NO. of ITERATIONS REACHED LIMIT.\n",
            "\n",
            "Increase the number of iterations (max_iter) or scale the data as shown in:\n",
            "    https://scikit-learn.org/stable/modules/preprocessing.html\n",
            "Please also refer to the documentation for alternative solver options:\n",
            "    https://scikit-learn.org/stable/modules/linear_model.html#logistic-regression\n",
            "  extra_warning_msg=_LOGISTIC_SOLVER_CONVERGENCE_MSG)\n"
          ]
        }
      ]
    },
    {
      "cell_type": "code",
      "metadata": {
        "colab": {
          "base_uri": "https://localhost:8080/",
          "height": 609
        },
        "id": "oxfwKjXuxoOX",
        "outputId": "0ade358b-31d1-4162-dca3-06d9a727a7ba"
      },
      "source": [
        "# Evaluate the Model Performance\n",
        "\n",
        "from sklearn.metrics import confusion_matrix\n",
        "\n",
        "# Print the Confusion matrix first\n",
        "\n",
        "plt.rcParams['figure.figsize'] = (10, 10)\n",
        "cm = confusion_matrix(y_test, y_pred)\n",
        "sns.heatmap(cm, annot= True, cmap= 'Wistia')\n",
        "plt.title('Confusion Matrix for Logistic Regression', fontsize = 15)\n",
        "plt.show()"
      ],
      "execution_count": 119,
      "outputs": [
        {
          "output_type": "display_data",
          "data": {
            "image/png": "[encoded data removed]",
            "text/plain": [
              "<Figure size 720x720 with 2 Axes>"
            ]
          },
          "metadata": {
            "needs_background": "light"
          }
        }
      ]
    },
    {
      "cell_type": "code",
      "metadata": {
        "colab": {
          "base_uri": "https://localhost:8080/"
        },
        "id": "bhQaXlgdyuCe",
        "outputId": "7e94855e-95bd-4de7-816a-97c2017c0ed4"
      },
      "source": [
        "# Print the Classification Report\n",
        "from sklearn.metrics import classification_report\n",
        "\n",
        "cr = classification_report(y_test, y_pred)\n",
        "print(cr)"
      ],
      "execution_count": 120,
      "outputs": [
        {
          "output_type": "stream",
          "name": "stdout",
          "text": [
            "              precision    recall  f1-score   support\n",
            "\n",
            "       apple       1.00      1.00      1.00        23\n",
            "      banana       0.95      1.00      0.98        21\n",
            "   blackgram       0.83      0.75      0.79        20\n",
            "    chickpea       1.00      1.00      1.00        26\n",
            "     coconut       1.00      1.00      1.00        27\n",
            "      coffee       0.94      1.00      0.97        17\n",
            "      cotton       0.80      0.94      0.86        17\n",
            "      grapes       1.00      1.00      1.00        14\n",
            "        jute       0.91      0.87      0.89        23\n",
            " kidneybeans       1.00      0.95      0.97        20\n",
            "      lentil       0.83      0.91      0.87        11\n",
            "       maize       0.94      0.76      0.84        21\n",
            "       mango       0.95      1.00      0.97        19\n",
            "   mothbeans       0.85      0.92      0.88        24\n",
            "    mungbean       0.95      1.00      0.97        19\n",
            "   muskmelon       1.00      1.00      1.00        17\n",
            "      orange       1.00      1.00      1.00        14\n",
            "      papaya       0.95      0.91      0.93        23\n",
            "  pigeonpeas       0.95      0.91      0.93        23\n",
            " pomegranate       1.00      1.00      1.00        23\n",
            "        rice       0.89      0.89      0.89        19\n",
            "  watermelon       1.00      1.00      1.00        19\n",
            "\n",
            "    accuracy                           0.95       440\n",
            "   macro avg       0.94      0.95      0.94       440\n",
            "weighted avg       0.95      0.95      0.94       440\n",
            "\n"
          ]
        }
      ]
    },
    {
      "cell_type": "code",
      "metadata": {
        "colab": {
          "base_uri": "https://localhost:8080/",
          "height": 203
        },
        "id": "ClWyl9JwzUyM",
        "outputId": "7e65144b-a781-4d4e-8ce5-a894aa85bdaf"
      },
      "source": [
        "# Check the Head of the Dataset\n",
        "\n",
        "dataset.head()"
      ],
      "execution_count": 121,
      "outputs": [
        {
          "output_type": "execute_result",
          "data": {
            "text/html": [
              "<div>\n",
              "<style scoped>\n",
              "    .dataframe tbody tr th:only-of-type {\n",
              "        vertical-align: middle;\n",
              "    }\n",
              "\n",
              "    .dataframe tbody tr th {\n",
              "        vertical-align: top;\n",
              "    }\n",
              "\n",
              "    .dataframe thead th {\n",
              "        text-align: right;\n",
              "    }\n",
              "</style>\n",
              "<table border=\"1\" class=\"dataframe\">\n",
              "  <thead>\n",
              "    <tr style=\"text-align: right;\">\n",
              "      <th></th>\n",
              "      <th>N</th>\n",
              "      <th>P</th>\n",
              "      <th>K</th>\n",
              "      <th>temperature</th>\n",
              "      <th>humidity</th>\n",
              "      <th>ph</th>\n",
              "      <th>rainfall</th>\n",
              "      <th>label</th>\n",
              "    </tr>\n",
              "  </thead>\n",
              "  <tbody>\n",
              "    <tr>\n",
              "      <th>0</th>\n",
              "      <td>90</td>\n",
              "      <td>42</td>\n",
              "      <td>43</td>\n",
              "      <td>20.879744</td>\n",
              "      <td>82.002744</td>\n",
              "      <td>6.502985</td>\n",
              "      <td>202.935536</td>\n",
              "      <td>rice</td>\n",
              "    </tr>\n",
              "    <tr>\n",
              "      <th>1</th>\n",
              "      <td>85</td>\n",
              "      <td>58</td>\n",
              "      <td>41</td>\n",
              "      <td>21.770462</td>\n",
              "      <td>80.319644</td>\n",
              "      <td>7.038096</td>\n",
              "      <td>226.655537</td>\n",
              "      <td>rice</td>\n",
              "    </tr>\n",
              "    <tr>\n",
              "      <th>2</th>\n",
              "      <td>60</td>\n",
              "      <td>55</td>\n",
              "      <td>44</td>\n",
              "      <td>23.004459</td>\n",
              "      <td>82.320763</td>\n",
              "      <td>7.840207</td>\n",
              "      <td>263.964248</td>\n",
              "      <td>rice</td>\n",
              "    </tr>\n",
              "    <tr>\n",
              "      <th>3</th>\n",
              "      <td>74</td>\n",
              "      <td>35</td>\n",
              "      <td>40</td>\n",
              "      <td>26.491096</td>\n",
              "      <td>80.158363</td>\n",
              "      <td>6.980401</td>\n",
              "      <td>242.864034</td>\n",
              "      <td>rice</td>\n",
              "    </tr>\n",
              "    <tr>\n",
              "      <th>4</th>\n",
              "      <td>78</td>\n",
              "      <td>42</td>\n",
              "      <td>42</td>\n",
              "      <td>20.130175</td>\n",
              "      <td>81.604873</td>\n",
              "      <td>7.628473</td>\n",
              "      <td>262.717340</td>\n",
              "      <td>rice</td>\n",
              "    </tr>\n",
              "  </tbody>\n",
              "</table>\n",
              "</div>"
            ],
            "text/plain": [
              "    N   P   K  temperature   humidity        ph    rainfall label\n",
              "0  90  42  43    20.879744  82.002744  6.502985  202.935536  rice\n",
              "1  85  58  41    21.770462  80.319644  7.038096  226.655537  rice\n",
              "2  60  55  44    23.004459  82.320763  7.840207  263.964248  rice\n",
              "3  74  35  40    26.491096  80.158363  6.980401  242.864034  rice\n",
              "4  78  42  42    20.130175  81.604873  7.628473  262.717340  rice"
            ]
          },
          "metadata": {},
          "execution_count": 121
        }
      ]
    },
    {
      "cell_type": "code",
      "metadata": {
        "colab": {
          "base_uri": "https://localhost:8080/"
        },
        "id": "PpATV4Ds0BAy",
        "outputId": "4daa2573-4c26-4961-f61d-ee6d26d4abd4"
      },
      "source": [
        "prediction = model.predict((np.array([[90,\n",
        "                                       40,\n",
        "                                       40,\n",
        "                                       20,\n",
        "                                       80,\n",
        "                                       7,\n",
        "                                       200]])))\n",
        "print(\"The Suggested Crop for Given Climatic Condition is:\", prediction)"
      ],
      "execution_count": 122,
      "outputs": [
        {
          "output_type": "stream",
          "name": "stdout",
          "text": [
            "The Suggested Crop for Given Climatic Condition is: ['rice']\n"
          ]
        }
      ]
    },
    {
      "cell_type": "code",
      "metadata": {
        "id": "CA_MkIhD0jsx"
      },
      "source": [
        ""
      ],
      "execution_count": 122,
      "outputs": []
    }
  ]
}