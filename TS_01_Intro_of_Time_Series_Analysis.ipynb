{
  "nbformat": 4,
  "nbformat_minor": 0,
  "metadata": {
    "colab": {
      "name": "TS 01 - Intro of Time Series Analysis.ipynb",
      "provenance": [],
      "collapsed_sections": [],
      "authorship_tag": "ABX9TyPKp6Da7wirQUgHY4w4VKtz",
      "include_colab_link": true
    },
    "kernelspec": {
      "name": "python3",
      "display_name": "Python 3"
    },
    "language_info": {
      "name": "python"
    }
  },
  "cells": [
    {
      "cell_type": "markdown",
      "metadata": {
        "id": "view-in-github",
        "colab_type": "text"
      },
      "source": [
        "<a href=\"https://colab.research.google.com/github/DeveloperAkram/Colab-Notebooks/blob/master/TS_01_Intro_of_Time_Series_Analysis.ipynb\" target=\"_parent\"><img src=\"https://colab.research.google.com/assets/colab-badge.svg\" alt=\"Open In Colab\"/></a>"
      ]
    },
    {
      "cell_type": "markdown",
      "metadata": {
        "id": "YJDWc2KfTUu5"
      },
      "source": [
        "**Importing Dependencies and DataSet**"
      ]
    },
    {
      "cell_type": "code",
      "metadata": {
        "id": "7t_bcZRJzkeb"
      },
      "source": [
        "import numpy as np\n",
        "import pandas as pd"
      ],
      "execution_count": 1,
      "outputs": []
    },
    {
      "cell_type": "code",
      "metadata": {
        "colab": {
          "base_uri": "https://localhost:8080/"
        },
        "id": "53KgJKXM4Ute",
        "outputId": "f4d5ec03-69d7-4b72-ed17-61eb7d580c66"
      },
      "source": [
        "# Lets read the dataset\n",
        "\n",
        "from google.colab import drive\n",
        "drive._mount('/content/akramchowdhury')"
      ],
      "execution_count": 2,
      "outputs": [
        {
          "output_type": "stream",
          "name": "stdout",
          "text": [
            "Mounted at /content/akramchowdhury\n"
          ]
        }
      ]
    },
    {
      "cell_type": "code",
      "metadata": {
        "id": "V_3oJAje4XuY"
      },
      "source": [
        "dataset = pd.read_csv('/content/akramchowdhury/MyDrive/Colab Notebooks/Time Series Analysis /daily-total-female-births-CA.csv')"
      ],
      "execution_count": 3,
      "outputs": []
    },
    {
      "cell_type": "code",
      "metadata": {
        "colab": {
          "base_uri": "https://localhost:8080/",
          "height": 203
        },
        "id": "J_QyGhdF5exQ",
        "outputId": "d393b7a8-2ce1-4231-d484-5eaa788b93b2"
      },
      "source": [
        "# First five records\n",
        "\n",
        "dataset.head()"
      ],
      "execution_count": 4,
      "outputs": [
        {
          "output_type": "execute_result",
          "data": {
            "text/html": [
              "<div>\n",
              "<style scoped>\n",
              "    .dataframe tbody tr th:only-of-type {\n",
              "        vertical-align: middle;\n",
              "    }\n",
              "\n",
              "    .dataframe tbody tr th {\n",
              "        vertical-align: top;\n",
              "    }\n",
              "\n",
              "    .dataframe thead th {\n",
              "        text-align: right;\n",
              "    }\n",
              "</style>\n",
              "<table border=\"1\" class=\"dataframe\">\n",
              "  <thead>\n",
              "    <tr style=\"text-align: right;\">\n",
              "      <th></th>\n",
              "      <th>date</th>\n",
              "      <th>births</th>\n",
              "    </tr>\n",
              "  </thead>\n",
              "  <tbody>\n",
              "    <tr>\n",
              "      <th>0</th>\n",
              "      <td>1959-01-01</td>\n",
              "      <td>35</td>\n",
              "    </tr>\n",
              "    <tr>\n",
              "      <th>1</th>\n",
              "      <td>1959-01-02</td>\n",
              "      <td>32</td>\n",
              "    </tr>\n",
              "    <tr>\n",
              "      <th>2</th>\n",
              "      <td>1959-01-03</td>\n",
              "      <td>30</td>\n",
              "    </tr>\n",
              "    <tr>\n",
              "      <th>3</th>\n",
              "      <td>1959-01-04</td>\n",
              "      <td>31</td>\n",
              "    </tr>\n",
              "    <tr>\n",
              "      <th>4</th>\n",
              "      <td>1959-01-05</td>\n",
              "      <td>44</td>\n",
              "    </tr>\n",
              "  </tbody>\n",
              "</table>\n",
              "</div>"
            ],
            "text/plain": [
              "         date  births\n",
              "0  1959-01-01      35\n",
              "1  1959-01-02      32\n",
              "2  1959-01-03      30\n",
              "3  1959-01-04      31\n",
              "4  1959-01-05      44"
            ]
          },
          "metadata": {},
          "execution_count": 4
        }
      ]
    },
    {
      "cell_type": "code",
      "metadata": {
        "colab": {
          "base_uri": "https://localhost:8080/"
        },
        "id": "-mCg45o75us2",
        "outputId": "eb64c197-aea3-4d06-ab03-7198b6154b35"
      },
      "source": [
        "# check the no. of rows and columns\n",
        "\n",
        "dataset.shape"
      ],
      "execution_count": 5,
      "outputs": [
        {
          "output_type": "execute_result",
          "data": {
            "text/plain": [
              "(365, 2)"
            ]
          },
          "metadata": {},
          "execution_count": 5
        }
      ]
    },
    {
      "cell_type": "code",
      "metadata": {
        "colab": {
          "base_uri": "https://localhost:8080/"
        },
        "id": "-0rDEwUJ6EvI",
        "outputId": "522eba6c-0271-4ab8-fdcf-5e6f4719904d"
      },
      "source": [
        "# Data Type\n",
        "\n",
        "dataset['date'].dtype"
      ],
      "execution_count": 6,
      "outputs": [
        {
          "output_type": "execute_result",
          "data": {
            "text/plain": [
              "dtype('O')"
            ]
          },
          "metadata": {},
          "execution_count": 6
        }
      ]
    },
    {
      "cell_type": "code",
      "metadata": {
        "id": "udOpTO136mXT"
      },
      "source": [
        "# Loading data with parse_dates\n",
        "\n",
        "dataset2 = pd.read_csv('/content/akramchowdhury/MyDrive/Colab Notebooks/Time Series Analysis /daily-total-female-births-CA.csv', header = 0, parse_dates= [0])"
      ],
      "execution_count": 7,
      "outputs": []
    },
    {
      "cell_type": "code",
      "metadata": {
        "colab": {
          "base_uri": "https://localhost:8080/",
          "height": 203
        },
        "id": "yBnk_Z4J7Og7",
        "outputId": "f393af75-c25c-46ff-8fc9-e60eff73fa7f"
      },
      "source": [
        "# Five records\n",
        "\n",
        "dataset2.head()"
      ],
      "execution_count": 8,
      "outputs": [
        {
          "output_type": "execute_result",
          "data": {
            "text/html": [
              "<div>\n",
              "<style scoped>\n",
              "    .dataframe tbody tr th:only-of-type {\n",
              "        vertical-align: middle;\n",
              "    }\n",
              "\n",
              "    .dataframe tbody tr th {\n",
              "        vertical-align: top;\n",
              "    }\n",
              "\n",
              "    .dataframe thead th {\n",
              "        text-align: right;\n",
              "    }\n",
              "</style>\n",
              "<table border=\"1\" class=\"dataframe\">\n",
              "  <thead>\n",
              "    <tr style=\"text-align: right;\">\n",
              "      <th></th>\n",
              "      <th>date</th>\n",
              "      <th>births</th>\n",
              "    </tr>\n",
              "  </thead>\n",
              "  <tbody>\n",
              "    <tr>\n",
              "      <th>0</th>\n",
              "      <td>1959-01-01</td>\n",
              "      <td>35</td>\n",
              "    </tr>\n",
              "    <tr>\n",
              "      <th>1</th>\n",
              "      <td>1959-01-02</td>\n",
              "      <td>32</td>\n",
              "    </tr>\n",
              "    <tr>\n",
              "      <th>2</th>\n",
              "      <td>1959-01-03</td>\n",
              "      <td>30</td>\n",
              "    </tr>\n",
              "    <tr>\n",
              "      <th>3</th>\n",
              "      <td>1959-01-04</td>\n",
              "      <td>31</td>\n",
              "    </tr>\n",
              "    <tr>\n",
              "      <th>4</th>\n",
              "      <td>1959-01-05</td>\n",
              "      <td>44</td>\n",
              "    </tr>\n",
              "  </tbody>\n",
              "</table>\n",
              "</div>"
            ],
            "text/plain": [
              "        date  births\n",
              "0 1959-01-01      35\n",
              "1 1959-01-02      32\n",
              "2 1959-01-03      30\n",
              "3 1959-01-04      31\n",
              "4 1959-01-05      44"
            ]
          },
          "metadata": {},
          "execution_count": 8
        }
      ]
    },
    {
      "cell_type": "code",
      "metadata": {
        "colab": {
          "base_uri": "https://localhost:8080/"
        },
        "id": "RYEjHntV7WDj",
        "outputId": "f3c0ac51-01ee-4bad-99fd-cc7d97e3ff92"
      },
      "source": [
        "# Data Type\n",
        "\n",
        "dataset2['date'].dtype"
      ],
      "execution_count": 9,
      "outputs": [
        {
          "output_type": "execute_result",
          "data": {
            "text/plain": [
              "dtype('<M8[ns]')"
            ]
          },
          "metadata": {},
          "execution_count": 9
        }
      ]
    },
    {
      "cell_type": "code",
      "metadata": {
        "id": "4c6QMDyW7i6u"
      },
      "source": [
        "# Loading Data as a series\n",
        "\n",
        "series = pd.read_csv('/content/akramchowdhury/MyDrive/Colab Notebooks/Time Series Analysis /daily-total-female-births-CA.csv', header= 0, parse_dates=[0], index_col= 0, squeeze= True)"
      ],
      "execution_count": 10,
      "outputs": []
    },
    {
      "cell_type": "code",
      "metadata": {
        "colab": {
          "base_uri": "https://localhost:8080/"
        },
        "id": "e0eIOt8H88p2",
        "outputId": "f0d16673-907e-4ae2-fa34-a892c17f20c3"
      },
      "source": [
        "series.head()"
      ],
      "execution_count": 11,
      "outputs": [
        {
          "output_type": "execute_result",
          "data": {
            "text/plain": [
              "date\n",
              "1959-01-01    35\n",
              "1959-01-02    32\n",
              "1959-01-03    30\n",
              "1959-01-04    31\n",
              "1959-01-05    44\n",
              "Name: births, dtype: int64"
            ]
          },
          "metadata": {},
          "execution_count": 11
        }
      ]
    },
    {
      "cell_type": "code",
      "metadata": {
        "colab": {
          "base_uri": "https://localhost:8080/"
        },
        "id": "-7GBJFM0BKxF",
        "outputId": "78387e14-dfe2-4dca-ac8f-eb9475142c5c"
      },
      "source": [
        "# Exploring Time Series Data\n",
        "\n",
        "series.shape"
      ],
      "execution_count": 12,
      "outputs": [
        {
          "output_type": "execute_result",
          "data": {
            "text/plain": [
              "(365,)"
            ]
          },
          "metadata": {},
          "execution_count": 12
        }
      ]
    },
    {
      "cell_type": "code",
      "metadata": {
        "colab": {
          "base_uri": "https://localhost:8080/"
        },
        "id": "pcVoTQ25G8Jt",
        "outputId": "db5dca97-e050-423a-9fc9-1a82f01e7d42"
      },
      "source": [
        "dataset2.shape"
      ],
      "execution_count": 13,
      "outputs": [
        {
          "output_type": "execute_result",
          "data": {
            "text/plain": [
              "(365, 2)"
            ]
          },
          "metadata": {},
          "execution_count": 13
        }
      ]
    },
    {
      "cell_type": "code",
      "metadata": {
        "colab": {
          "base_uri": "https://localhost:8080/"
        },
        "id": "dN-qFugDHLR4",
        "outputId": "fa3ce1dc-f43f-4764-8dc6-9885afdd2c63"
      },
      "source": [
        "# Querying by time\n",
        "\n",
        "print(series['1959-01'])"
      ],
      "execution_count": 14,
      "outputs": [
        {
          "output_type": "stream",
          "name": "stdout",
          "text": [
            "date\n",
            "1959-01-01    35\n",
            "1959-01-02    32\n",
            "1959-01-03    30\n",
            "1959-01-04    31\n",
            "1959-01-05    44\n",
            "1959-01-06    29\n",
            "1959-01-07    45\n",
            "1959-01-08    43\n",
            "1959-01-09    38\n",
            "1959-01-10    27\n",
            "1959-01-11    38\n",
            "1959-01-12    33\n",
            "1959-01-13    55\n",
            "1959-01-14    47\n",
            "1959-01-15    45\n",
            "1959-01-16    37\n",
            "1959-01-17    50\n",
            "1959-01-18    43\n",
            "1959-01-19    41\n",
            "1959-01-20    52\n",
            "1959-01-21    34\n",
            "1959-01-22    53\n",
            "1959-01-23    39\n",
            "1959-01-24    32\n",
            "1959-01-25    37\n",
            "1959-01-26    43\n",
            "1959-01-27    39\n",
            "1959-01-28    35\n",
            "1959-01-29    44\n",
            "1959-01-30    38\n",
            "1959-01-31    24\n",
            "Name: births, dtype: int64\n"
          ]
        }
      ]
    },
    {
      "cell_type": "code",
      "metadata": {
        "colab": {
          "base_uri": "https://localhost:8080/",
          "height": 665
        },
        "id": "H1_EoHXpMK4g",
        "outputId": "d13b79fe-2725-4fca-f7a3-36565326f199"
      },
      "source": [
        "dataset2[(dataset2['date'] > '1959-01-01') & (dataset2['date'] <= '1959-01-21')]"
      ],
      "execution_count": 15,
      "outputs": [
        {
          "output_type": "execute_result",
          "data": {
            "text/html": [
              "<div>\n",
              "<style scoped>\n",
              "    .dataframe tbody tr th:only-of-type {\n",
              "        vertical-align: middle;\n",
              "    }\n",
              "\n",
              "    .dataframe tbody tr th {\n",
              "        vertical-align: top;\n",
              "    }\n",
              "\n",
              "    .dataframe thead th {\n",
              "        text-align: right;\n",
              "    }\n",
              "</style>\n",
              "<table border=\"1\" class=\"dataframe\">\n",
              "  <thead>\n",
              "    <tr style=\"text-align: right;\">\n",
              "      <th></th>\n",
              "      <th>date</th>\n",
              "      <th>births</th>\n",
              "    </tr>\n",
              "  </thead>\n",
              "  <tbody>\n",
              "    <tr>\n",
              "      <th>1</th>\n",
              "      <td>1959-01-02</td>\n",
              "      <td>32</td>\n",
              "    </tr>\n",
              "    <tr>\n",
              "      <th>2</th>\n",
              "      <td>1959-01-03</td>\n",
              "      <td>30</td>\n",
              "    </tr>\n",
              "    <tr>\n",
              "      <th>3</th>\n",
              "      <td>1959-01-04</td>\n",
              "      <td>31</td>\n",
              "    </tr>\n",
              "    <tr>\n",
              "      <th>4</th>\n",
              "      <td>1959-01-05</td>\n",
              "      <td>44</td>\n",
              "    </tr>\n",
              "    <tr>\n",
              "      <th>5</th>\n",
              "      <td>1959-01-06</td>\n",
              "      <td>29</td>\n",
              "    </tr>\n",
              "    <tr>\n",
              "      <th>6</th>\n",
              "      <td>1959-01-07</td>\n",
              "      <td>45</td>\n",
              "    </tr>\n",
              "    <tr>\n",
              "      <th>7</th>\n",
              "      <td>1959-01-08</td>\n",
              "      <td>43</td>\n",
              "    </tr>\n",
              "    <tr>\n",
              "      <th>8</th>\n",
              "      <td>1959-01-09</td>\n",
              "      <td>38</td>\n",
              "    </tr>\n",
              "    <tr>\n",
              "      <th>9</th>\n",
              "      <td>1959-01-10</td>\n",
              "      <td>27</td>\n",
              "    </tr>\n",
              "    <tr>\n",
              "      <th>10</th>\n",
              "      <td>1959-01-11</td>\n",
              "      <td>38</td>\n",
              "    </tr>\n",
              "    <tr>\n",
              "      <th>11</th>\n",
              "      <td>1959-01-12</td>\n",
              "      <td>33</td>\n",
              "    </tr>\n",
              "    <tr>\n",
              "      <th>12</th>\n",
              "      <td>1959-01-13</td>\n",
              "      <td>55</td>\n",
              "    </tr>\n",
              "    <tr>\n",
              "      <th>13</th>\n",
              "      <td>1959-01-14</td>\n",
              "      <td>47</td>\n",
              "    </tr>\n",
              "    <tr>\n",
              "      <th>14</th>\n",
              "      <td>1959-01-15</td>\n",
              "      <td>45</td>\n",
              "    </tr>\n",
              "    <tr>\n",
              "      <th>15</th>\n",
              "      <td>1959-01-16</td>\n",
              "      <td>37</td>\n",
              "    </tr>\n",
              "    <tr>\n",
              "      <th>16</th>\n",
              "      <td>1959-01-17</td>\n",
              "      <td>50</td>\n",
              "    </tr>\n",
              "    <tr>\n",
              "      <th>17</th>\n",
              "      <td>1959-01-18</td>\n",
              "      <td>43</td>\n",
              "    </tr>\n",
              "    <tr>\n",
              "      <th>18</th>\n",
              "      <td>1959-01-19</td>\n",
              "      <td>41</td>\n",
              "    </tr>\n",
              "    <tr>\n",
              "      <th>19</th>\n",
              "      <td>1959-01-20</td>\n",
              "      <td>52</td>\n",
              "    </tr>\n",
              "    <tr>\n",
              "      <th>20</th>\n",
              "      <td>1959-01-21</td>\n",
              "      <td>34</td>\n",
              "    </tr>\n",
              "  </tbody>\n",
              "</table>\n",
              "</div>"
            ],
            "text/plain": [
              "         date  births\n",
              "1  1959-01-02      32\n",
              "2  1959-01-03      30\n",
              "3  1959-01-04      31\n",
              "4  1959-01-05      44\n",
              "5  1959-01-06      29\n",
              "6  1959-01-07      45\n",
              "7  1959-01-08      43\n",
              "8  1959-01-09      38\n",
              "9  1959-01-10      27\n",
              "10 1959-01-11      38\n",
              "11 1959-01-12      33\n",
              "12 1959-01-13      55\n",
              "13 1959-01-14      47\n",
              "14 1959-01-15      45\n",
              "15 1959-01-16      37\n",
              "16 1959-01-17      50\n",
              "17 1959-01-18      43\n",
              "18 1959-01-19      41\n",
              "19 1959-01-20      52\n",
              "20 1959-01-21      34"
            ]
          },
          "metadata": {},
          "execution_count": 15
        }
      ]
    },
    {
      "cell_type": "code",
      "metadata": {
        "colab": {
          "base_uri": "https://localhost:8080/"
        },
        "id": "m-iMEWadMsro",
        "outputId": "32996d2d-43d6-43a9-ae88-0c47231b3000"
      },
      "source": [
        "# Descriptive Statistics\n",
        "\n",
        "series.describe()"
      ],
      "execution_count": 16,
      "outputs": [
        {
          "output_type": "execute_result",
          "data": {
            "text/plain": [
              "count    365.000000\n",
              "mean      41.980822\n",
              "std        7.348257\n",
              "min       23.000000\n",
              "25%       37.000000\n",
              "50%       42.000000\n",
              "75%       46.000000\n",
              "max       73.000000\n",
              "Name: births, dtype: float64"
            ]
          },
          "metadata": {},
          "execution_count": 16
        }
      ]
    },
    {
      "cell_type": "code",
      "metadata": {
        "colab": {
          "base_uri": "https://localhost:8080/",
          "height": 295
        },
        "id": "F36-scaAM8qK",
        "outputId": "c5b3cfed-37f7-45a0-aa3f-0894cadfebf9"
      },
      "source": [
        "dataset2.describe()"
      ],
      "execution_count": 17,
      "outputs": [
        {
          "output_type": "execute_result",
          "data": {
            "text/html": [
              "<div>\n",
              "<style scoped>\n",
              "    .dataframe tbody tr th:only-of-type {\n",
              "        vertical-align: middle;\n",
              "    }\n",
              "\n",
              "    .dataframe tbody tr th {\n",
              "        vertical-align: top;\n",
              "    }\n",
              "\n",
              "    .dataframe thead th {\n",
              "        text-align: right;\n",
              "    }\n",
              "</style>\n",
              "<table border=\"1\" class=\"dataframe\">\n",
              "  <thead>\n",
              "    <tr style=\"text-align: right;\">\n",
              "      <th></th>\n",
              "      <th>births</th>\n",
              "    </tr>\n",
              "  </thead>\n",
              "  <tbody>\n",
              "    <tr>\n",
              "      <th>count</th>\n",
              "      <td>365.000000</td>\n",
              "    </tr>\n",
              "    <tr>\n",
              "      <th>mean</th>\n",
              "      <td>41.980822</td>\n",
              "    </tr>\n",
              "    <tr>\n",
              "      <th>std</th>\n",
              "      <td>7.348257</td>\n",
              "    </tr>\n",
              "    <tr>\n",
              "      <th>min</th>\n",
              "      <td>23.000000</td>\n",
              "    </tr>\n",
              "    <tr>\n",
              "      <th>25%</th>\n",
              "      <td>37.000000</td>\n",
              "    </tr>\n",
              "    <tr>\n",
              "      <th>50%</th>\n",
              "      <td>42.000000</td>\n",
              "    </tr>\n",
              "    <tr>\n",
              "      <th>75%</th>\n",
              "      <td>46.000000</td>\n",
              "    </tr>\n",
              "    <tr>\n",
              "      <th>max</th>\n",
              "      <td>73.000000</td>\n",
              "    </tr>\n",
              "  </tbody>\n",
              "</table>\n",
              "</div>"
            ],
            "text/plain": [
              "           births\n",
              "count  365.000000\n",
              "mean    41.980822\n",
              "std      7.348257\n",
              "min     23.000000\n",
              "25%     37.000000\n",
              "50%     42.000000\n",
              "75%     46.000000\n",
              "max     73.000000"
            ]
          },
          "metadata": {},
          "execution_count": 17
        }
      ]
    },
    {
      "cell_type": "markdown",
      "metadata": {
        "id": "kaBr_MxwNrFn"
      },
      "source": [
        "**Time Series - Data Visualization**"
      ]
    },
    {
      "cell_type": "code",
      "metadata": {
        "id": "QOX4OEOjM_V5"
      },
      "source": [
        "from matplotlib import pyplot as pyplot\n",
        "%matplotlib inline"
      ],
      "execution_count": 18,
      "outputs": []
    },
    {
      "cell_type": "code",
      "metadata": {
        "id": "b46heyhdOR1B"
      },
      "source": [
        "Dataviz_set = dataset2.copy()"
      ],
      "execution_count": 19,
      "outputs": []
    },
    {
      "cell_type": "code",
      "metadata": {
        "colab": {
          "base_uri": "https://localhost:8080/",
          "height": 357
        },
        "id": "BIbQIgPVOhCi",
        "outputId": "c8a8369a-d775-4111-f4c7-eb6fac40a768"
      },
      "source": [
        "Dataviz_set.head(10)"
      ],
      "execution_count": 20,
      "outputs": [
        {
          "output_type": "execute_result",
          "data": {
            "text/html": [
              "<div>\n",
              "<style scoped>\n",
              "    .dataframe tbody tr th:only-of-type {\n",
              "        vertical-align: middle;\n",
              "    }\n",
              "\n",
              "    .dataframe tbody tr th {\n",
              "        vertical-align: top;\n",
              "    }\n",
              "\n",
              "    .dataframe thead th {\n",
              "        text-align: right;\n",
              "    }\n",
              "</style>\n",
              "<table border=\"1\" class=\"dataframe\">\n",
              "  <thead>\n",
              "    <tr style=\"text-align: right;\">\n",
              "      <th></th>\n",
              "      <th>date</th>\n",
              "      <th>births</th>\n",
              "    </tr>\n",
              "  </thead>\n",
              "  <tbody>\n",
              "    <tr>\n",
              "      <th>0</th>\n",
              "      <td>1959-01-01</td>\n",
              "      <td>35</td>\n",
              "    </tr>\n",
              "    <tr>\n",
              "      <th>1</th>\n",
              "      <td>1959-01-02</td>\n",
              "      <td>32</td>\n",
              "    </tr>\n",
              "    <tr>\n",
              "      <th>2</th>\n",
              "      <td>1959-01-03</td>\n",
              "      <td>30</td>\n",
              "    </tr>\n",
              "    <tr>\n",
              "      <th>3</th>\n",
              "      <td>1959-01-04</td>\n",
              "      <td>31</td>\n",
              "    </tr>\n",
              "    <tr>\n",
              "      <th>4</th>\n",
              "      <td>1959-01-05</td>\n",
              "      <td>44</td>\n",
              "    </tr>\n",
              "    <tr>\n",
              "      <th>5</th>\n",
              "      <td>1959-01-06</td>\n",
              "      <td>29</td>\n",
              "    </tr>\n",
              "    <tr>\n",
              "      <th>6</th>\n",
              "      <td>1959-01-07</td>\n",
              "      <td>45</td>\n",
              "    </tr>\n",
              "    <tr>\n",
              "      <th>7</th>\n",
              "      <td>1959-01-08</td>\n",
              "      <td>43</td>\n",
              "    </tr>\n",
              "    <tr>\n",
              "      <th>8</th>\n",
              "      <td>1959-01-09</td>\n",
              "      <td>38</td>\n",
              "    </tr>\n",
              "    <tr>\n",
              "      <th>9</th>\n",
              "      <td>1959-01-10</td>\n",
              "      <td>27</td>\n",
              "    </tr>\n",
              "  </tbody>\n",
              "</table>\n",
              "</div>"
            ],
            "text/plain": [
              "        date  births\n",
              "0 1959-01-01      35\n",
              "1 1959-01-02      32\n",
              "2 1959-01-03      30\n",
              "3 1959-01-04      31\n",
              "4 1959-01-05      44\n",
              "5 1959-01-06      29\n",
              "6 1959-01-07      45\n",
              "7 1959-01-08      43\n",
              "8 1959-01-09      38\n",
              "9 1959-01-10      27"
            ]
          },
          "metadata": {},
          "execution_count": 20
        }
      ]
    },
    {
      "cell_type": "code",
      "metadata": {
        "colab": {
          "base_uri": "https://localhost:8080/",
          "height": 282
        },
        "id": "MHXBS5XzOl_r",
        "outputId": "f91b3689-77f5-4574-c4f0-b0e4b0dbfd75"
      },
      "source": [
        "Dataviz_set['births'].plot()"
      ],
      "execution_count": 21,
      "outputs": [
        {
          "output_type": "execute_result",
          "data": {
            "text/plain": [
              "<matplotlib.axes._subplots.AxesSubplot at 0x7f960064afd0>"
            ]
          },
          "metadata": {},
          "execution_count": 21
        },
        {
          "output_type": "display_data",
          "data": {
            "image/png": "[encoded data removed]",
            "text/plain": [
              "<Figure size 432x288 with 1 Axes>"
            ]
          },
          "metadata": {
            "needs_background": "light"
          }
        }
      ]
    },
    {
      "cell_type": "code",
      "metadata": {
        "id": "mHRg3hbkOuDD"
      },
      "source": [
        "Dataviz_set.index = Dataviz_set['date']"
      ],
      "execution_count": 22,
      "outputs": []
    },
    {
      "cell_type": "code",
      "metadata": {
        "colab": {
          "base_uri": "https://localhost:8080/",
          "height": 308
        },
        "id": "sOA859VSO3Gd",
        "outputId": "af806c5b-29ef-4839-a852-fa0e91936ade"
      },
      "source": [
        "Dataviz_set['births'].plot()"
      ],
      "execution_count": 23,
      "outputs": [
        {
          "output_type": "execute_result",
          "data": {
            "text/plain": [
              "<matplotlib.axes._subplots.AxesSubplot at 0x7f96000dbfd0>"
            ]
          },
          "metadata": {},
          "execution_count": 23
        },
        {
          "output_type": "display_data",
          "data": {
            "image/png": "[encoded data removed]",
            "text/plain": [
              "<Figure size 432x288 with 1 Axes>"
            ]
          },
          "metadata": {
            "needs_background": "light"
          }
        }
      ]
    },
    {
      "cell_type": "markdown",
      "metadata": {
        "id": "qJUUVU3QPcP3"
      },
      "source": [
        "**Zooming In**"
      ]
    },
    {
      "cell_type": "code",
      "metadata": {
        "id": "iuiHHXPrO-UL"
      },
      "source": [
        "Dataviz_set2 = Dataviz_set[(Dataviz_set['date'] > '1959-01-01') & (Dataviz_set['date'] <= '1959-01-10')].copy()"
      ],
      "execution_count": 24,
      "outputs": []
    },
    {
      "cell_type": "code",
      "metadata": {
        "colab": {
          "base_uri": "https://localhost:8080/",
          "height": 357
        },
        "id": "pL04-gxMQOZ-",
        "outputId": "2237437b-89b6-47eb-8924-8290c8b2a796"
      },
      "source": [
        "Dataviz_set2"
      ],
      "execution_count": 25,
      "outputs": [
        {
          "output_type": "execute_result",
          "data": {
            "text/html": [
              "<div>\n",
              "<style scoped>\n",
              "    .dataframe tbody tr th:only-of-type {\n",
              "        vertical-align: middle;\n",
              "    }\n",
              "\n",
              "    .dataframe tbody tr th {\n",
              "        vertical-align: top;\n",
              "    }\n",
              "\n",
              "    .dataframe thead th {\n",
              "        text-align: right;\n",
              "    }\n",
              "</style>\n",
              "<table border=\"1\" class=\"dataframe\">\n",
              "  <thead>\n",
              "    <tr style=\"text-align: right;\">\n",
              "      <th></th>\n",
              "      <th>date</th>\n",
              "      <th>births</th>\n",
              "    </tr>\n",
              "    <tr>\n",
              "      <th>date</th>\n",
              "      <th></th>\n",
              "      <th></th>\n",
              "    </tr>\n",
              "  </thead>\n",
              "  <tbody>\n",
              "    <tr>\n",
              "      <th>1959-01-02</th>\n",
              "      <td>1959-01-02</td>\n",
              "      <td>32</td>\n",
              "    </tr>\n",
              "    <tr>\n",
              "      <th>1959-01-03</th>\n",
              "      <td>1959-01-03</td>\n",
              "      <td>30</td>\n",
              "    </tr>\n",
              "    <tr>\n",
              "      <th>1959-01-04</th>\n",
              "      <td>1959-01-04</td>\n",
              "      <td>31</td>\n",
              "    </tr>\n",
              "    <tr>\n",
              "      <th>1959-01-05</th>\n",
              "      <td>1959-01-05</td>\n",
              "      <td>44</td>\n",
              "    </tr>\n",
              "    <tr>\n",
              "      <th>1959-01-06</th>\n",
              "      <td>1959-01-06</td>\n",
              "      <td>29</td>\n",
              "    </tr>\n",
              "    <tr>\n",
              "      <th>1959-01-07</th>\n",
              "      <td>1959-01-07</td>\n",
              "      <td>45</td>\n",
              "    </tr>\n",
              "    <tr>\n",
              "      <th>1959-01-08</th>\n",
              "      <td>1959-01-08</td>\n",
              "      <td>43</td>\n",
              "    </tr>\n",
              "    <tr>\n",
              "      <th>1959-01-09</th>\n",
              "      <td>1959-01-09</td>\n",
              "      <td>38</td>\n",
              "    </tr>\n",
              "    <tr>\n",
              "      <th>1959-01-10</th>\n",
              "      <td>1959-01-10</td>\n",
              "      <td>27</td>\n",
              "    </tr>\n",
              "  </tbody>\n",
              "</table>\n",
              "</div>"
            ],
            "text/plain": [
              "                 date  births\n",
              "date                         \n",
              "1959-01-02 1959-01-02      32\n",
              "1959-01-03 1959-01-03      30\n",
              "1959-01-04 1959-01-04      31\n",
              "1959-01-05 1959-01-05      44\n",
              "1959-01-06 1959-01-06      29\n",
              "1959-01-07 1959-01-07      45\n",
              "1959-01-08 1959-01-08      43\n",
              "1959-01-09 1959-01-09      38\n",
              "1959-01-10 1959-01-10      27"
            ]
          },
          "metadata": {},
          "execution_count": 25
        }
      ]
    },
    {
      "cell_type": "code",
      "metadata": {
        "colab": {
          "base_uri": "https://localhost:8080/",
          "height": 320
        },
        "id": "iyzFF69NQRue",
        "outputId": "139d21a9-1837-4690-f076-970874d2fc9b"
      },
      "source": [
        "Dataviz_set2['births'].plot()"
      ],
      "execution_count": 26,
      "outputs": [
        {
          "output_type": "execute_result",
          "data": {
            "text/plain": [
              "<matplotlib.axes._subplots.AxesSubplot at 0x7f95fedc03d0>"
            ]
          },
          "metadata": {},
          "execution_count": 26
        },
        {
          "output_type": "display_data",
          "data": {
            "image/png": "[encoded data removed]",
            "text/plain": [
              "<Figure size 432x288 with 1 Axes>"
            ]
          },
          "metadata": {
            "needs_background": "light"
          }
        }
      ]
    },
    {
      "cell_type": "markdown",
      "metadata": {
        "id": "jJ9Z7r2iQi4F"
      },
      "source": [
        "**Trendline**"
      ]
    },
    {
      "cell_type": "code",
      "metadata": {
        "id": "8LZ0MaXnQZNx"
      },
      "source": [
        "import seaborn as sns"
      ],
      "execution_count": 27,
      "outputs": []
    },
    {
      "cell_type": "code",
      "metadata": {
        "colab": {
          "base_uri": "https://localhost:8080/",
          "height": 282
        },
        "id": "1gLFqO5CQxnn",
        "outputId": "63cb8afd-f887-4e21-e9a6-19e6eed0182d"
      },
      "source": [
        "sns.regplot(x = dataset2.index.values, y = dataset2['births'])"
      ],
      "execution_count": 28,
      "outputs": [
        {
          "output_type": "execute_result",
          "data": {
            "text/plain": [
              "<matplotlib.axes._subplots.AxesSubplot at 0x7f95f0a181d0>"
            ]
          },
          "metadata": {},
          "execution_count": 28
        },
        {
          "output_type": "display_data",
          "data": {
            "image/png": "[encoded data removed]",
            "text/plain": [
              "<Figure size 432x288 with 1 Axes>"
            ]
          },
          "metadata": {
            "needs_background": "light"
          }
        }
      ]
    },
    {
      "cell_type": "code",
      "metadata": {
        "colab": {
          "base_uri": "https://localhost:8080/",
          "height": 282
        },
        "id": "hqA8D6rARQBW",
        "outputId": "7bdc1dbc-372b-42aa-df45-6d9c91f0abf1"
      },
      "source": [
        "sns.regplot(x = dataset2.index.values, y = dataset2['births'], order= 3)"
      ],
      "execution_count": 29,
      "outputs": [
        {
          "output_type": "execute_result",
          "data": {
            "text/plain": [
              "<matplotlib.axes._subplots.AxesSubplot at 0x7f95f020ba50>"
            ]
          },
          "metadata": {},
          "execution_count": 29
        },
        {
          "output_type": "display_data",
          "data": {
            "image/png": "[encoded data removed]",
            "text/plain": [
              "<Figure size 432x288 with 1 Axes>"
            ]
          },
          "metadata": {
            "needs_background": "light"
          }
        }
      ]
    },
    {
      "cell_type": "code",
      "metadata": {
        "id": "JSKZugOdRiCY"
      },
      "source": [
        "miles_data = pd.read_csv('/content/akramchowdhury/MyDrive/Colab Notebooks/Time Series Analysis /us-airlines-monthly-aircraft-miles-flown.csv', header= 0, parse_dates= [0])"
      ],
      "execution_count": 30,
      "outputs": []
    },
    {
      "cell_type": "code",
      "metadata": {
        "colab": {
          "base_uri": "https://localhost:8080/",
          "height": 203
        },
        "id": "ugVsuceHSnO-",
        "outputId": "15e7470a-0aa3-4a58-fd47-91a573766ab1"
      },
      "source": [
        "miles_data.head()"
      ],
      "execution_count": 31,
      "outputs": [
        {
          "output_type": "execute_result",
          "data": {
            "text/html": [
              "<div>\n",
              "<style scoped>\n",
              "    .dataframe tbody tr th:only-of-type {\n",
              "        vertical-align: middle;\n",
              "    }\n",
              "\n",
              "    .dataframe tbody tr th {\n",
              "        vertical-align: top;\n",
              "    }\n",
              "\n",
              "    .dataframe thead th {\n",
              "        text-align: right;\n",
              "    }\n",
              "</style>\n",
              "<table border=\"1\" class=\"dataframe\">\n",
              "  <thead>\n",
              "    <tr style=\"text-align: right;\">\n",
              "      <th></th>\n",
              "      <th>Month</th>\n",
              "      <th>MilesMM</th>\n",
              "    </tr>\n",
              "  </thead>\n",
              "  <tbody>\n",
              "    <tr>\n",
              "      <th>0</th>\n",
              "      <td>1963-01-01</td>\n",
              "      <td>6827</td>\n",
              "    </tr>\n",
              "    <tr>\n",
              "      <th>1</th>\n",
              "      <td>1963-02-01</td>\n",
              "      <td>6178</td>\n",
              "    </tr>\n",
              "    <tr>\n",
              "      <th>2</th>\n",
              "      <td>1963-03-01</td>\n",
              "      <td>7084</td>\n",
              "    </tr>\n",
              "    <tr>\n",
              "      <th>3</th>\n",
              "      <td>1963-04-01</td>\n",
              "      <td>8162</td>\n",
              "    </tr>\n",
              "    <tr>\n",
              "      <th>4</th>\n",
              "      <td>1963-05-01</td>\n",
              "      <td>8462</td>\n",
              "    </tr>\n",
              "  </tbody>\n",
              "</table>\n",
              "</div>"
            ],
            "text/plain": [
              "       Month  MilesMM\n",
              "0 1963-01-01     6827\n",
              "1 1963-02-01     6178\n",
              "2 1963-03-01     7084\n",
              "3 1963-04-01     8162\n",
              "4 1963-05-01     8462"
            ]
          },
          "metadata": {},
          "execution_count": 31
        }
      ]
    },
    {
      "cell_type": "code",
      "metadata": {
        "colab": {
          "base_uri": "https://localhost:8080/",
          "height": 282
        },
        "id": "6z8pcSj3Sr8-",
        "outputId": "1bf2c407-0040-48f8-a676-0258f1fd5319"
      },
      "source": [
        "miles_data['MilesMM'].plot()"
      ],
      "execution_count": 32,
      "outputs": [
        {
          "output_type": "execute_result",
          "data": {
            "text/plain": [
              "<matplotlib.axes._subplots.AxesSubplot at 0x7f95f017e7d0>"
            ]
          },
          "metadata": {},
          "execution_count": 32
        },
        {
          "output_type": "display_data",
          "data": {
            "image/png": "[encoded data removed]",
            "text/plain": [
              "<Figure size 432x288 with 1 Axes>"
            ]
          },
          "metadata": {
            "needs_background": "light"
          }
        }
      ]
    },
    {
      "cell_type": "code",
      "metadata": {
        "colab": {
          "base_uri": "https://localhost:8080/",
          "height": 282
        },
        "id": "qKVoe06nSyOr",
        "outputId": "7aa40645-4cba-45c5-a998-a99f3db177e6"
      },
      "source": [
        "sns.regplot(x = miles_data.index.values, y = miles_data['MilesMM'])"
      ],
      "execution_count": 33,
      "outputs": [
        {
          "output_type": "execute_result",
          "data": {
            "text/plain": [
              "<matplotlib.axes._subplots.AxesSubplot at 0x7f95f00ff490>"
            ]
          },
          "metadata": {},
          "execution_count": 33
        },
        {
          "output_type": "display_data",
          "data": {
            "image/png": "[encoded data removed]",
            "text/plain": [
              "<Figure size 432x288 with 1 Axes>"
            ]
          },
          "metadata": {
            "needs_background": "light"
          }
        }
      ]
    },
    {
      "cell_type": "markdown",
      "metadata": {
        "id": "cjVgRWbKviDX"
      },
      "source": [
        "**Removing Seasonality**"
      ]
    },
    {
      "cell_type": "code",
      "metadata": {
        "id": "BuGnjszcTIBs"
      },
      "source": [
        "miles_data['year'] = miles_data['Month'].dt.year"
      ],
      "execution_count": 34,
      "outputs": []
    },
    {
      "cell_type": "code",
      "metadata": {
        "colab": {
          "base_uri": "https://localhost:8080/",
          "height": 203
        },
        "id": "pO9WezuTwARa",
        "outputId": "14e2b23c-e829-417f-88ca-8d6c442752a5"
      },
      "source": [
        "miles_data.head()"
      ],
      "execution_count": 35,
      "outputs": [
        {
          "output_type": "execute_result",
          "data": {
            "text/html": [
              "<div>\n",
              "<style scoped>\n",
              "    .dataframe tbody tr th:only-of-type {\n",
              "        vertical-align: middle;\n",
              "    }\n",
              "\n",
              "    .dataframe tbody tr th {\n",
              "        vertical-align: top;\n",
              "    }\n",
              "\n",
              "    .dataframe thead th {\n",
              "        text-align: right;\n",
              "    }\n",
              "</style>\n",
              "<table border=\"1\" class=\"dataframe\">\n",
              "  <thead>\n",
              "    <tr style=\"text-align: right;\">\n",
              "      <th></th>\n",
              "      <th>Month</th>\n",
              "      <th>MilesMM</th>\n",
              "      <th>year</th>\n",
              "    </tr>\n",
              "  </thead>\n",
              "  <tbody>\n",
              "    <tr>\n",
              "      <th>0</th>\n",
              "      <td>1963-01-01</td>\n",
              "      <td>6827</td>\n",
              "      <td>1963</td>\n",
              "    </tr>\n",
              "    <tr>\n",
              "      <th>1</th>\n",
              "      <td>1963-02-01</td>\n",
              "      <td>6178</td>\n",
              "      <td>1963</td>\n",
              "    </tr>\n",
              "    <tr>\n",
              "      <th>2</th>\n",
              "      <td>1963-03-01</td>\n",
              "      <td>7084</td>\n",
              "      <td>1963</td>\n",
              "    </tr>\n",
              "    <tr>\n",
              "      <th>3</th>\n",
              "      <td>1963-04-01</td>\n",
              "      <td>8162</td>\n",
              "      <td>1963</td>\n",
              "    </tr>\n",
              "    <tr>\n",
              "      <th>4</th>\n",
              "      <td>1963-05-01</td>\n",
              "      <td>8462</td>\n",
              "      <td>1963</td>\n",
              "    </tr>\n",
              "  </tbody>\n",
              "</table>\n",
              "</div>"
            ],
            "text/plain": [
              "       Month  MilesMM  year\n",
              "0 1963-01-01     6827  1963\n",
              "1 1963-02-01     6178  1963\n",
              "2 1963-03-01     7084  1963\n",
              "3 1963-04-01     8162  1963\n",
              "4 1963-05-01     8462  1963"
            ]
          },
          "metadata": {},
          "execution_count": 35
        }
      ]
    },
    {
      "cell_type": "code",
      "metadata": {
        "colab": {
          "base_uri": "https://localhost:8080/"
        },
        "id": "a3p1TKlBwF6c",
        "outputId": "54668e46-30ee-4466-e859-faf4a6635d91"
      },
      "source": [
        "miles_data.groupby('year')['MilesMM'].mean()"
      ],
      "execution_count": 36,
      "outputs": [
        {
          "output_type": "execute_result",
          "data": {
            "text/plain": [
              "year\n",
              "1963     8300.250000\n",
              "1964     8849.333333\n",
              "1965     9619.250000\n",
              "1966     9929.500000\n",
              "1967    10542.916667\n",
              "1968    10747.916667\n",
              "1969    11972.000000\n",
              "1970    13124.750000\n",
              "Name: MilesMM, dtype: float64"
            ]
          },
          "metadata": {},
          "execution_count": 36
        }
      ]
    },
    {
      "cell_type": "code",
      "metadata": {
        "colab": {
          "base_uri": "https://localhost:8080/",
          "height": 296
        },
        "id": "K_nGfj-3xOIm",
        "outputId": "1c6fb6c4-5e9f-4750-b9c4-9fe5b935352b"
      },
      "source": [
        "miles_data.groupby('year')['MilesMM'].mean().plot()"
      ],
      "execution_count": 37,
      "outputs": [
        {
          "output_type": "execute_result",
          "data": {
            "text/plain": [
              "<matplotlib.axes._subplots.AxesSubplot at 0x7f95f00c8b90>"
            ]
          },
          "metadata": {},
          "execution_count": 37
        },
        {
          "output_type": "display_data",
          "data": {
            "image/png": "[encoded data removed]",
            "text/plain": [
              "<Figure size 432x288 with 1 Axes>"
            ]
          },
          "metadata": {
            "needs_background": "light"
          }
        }
      ]
    },
    {
      "cell_type": "markdown",
      "metadata": {
        "id": "qlzCaO2KypoE"
      },
      "source": [
        "**Creating Lag plots**"
      ]
    },
    {
      "cell_type": "code",
      "metadata": {
        "id": "neMQ9kLQyBNC"
      },
      "source": [
        "miles_data['lag1'] = miles_data['MilesMM'].shift()"
      ],
      "execution_count": 38,
      "outputs": []
    },
    {
      "cell_type": "code",
      "metadata": {
        "colab": {
          "base_uri": "https://localhost:8080/",
          "height": 203
        },
        "id": "JXS2psdPzyC4",
        "outputId": "2daeddb4-6bee-4b82-a4ea-0161c0412d1d"
      },
      "source": [
        "miles_data.head()"
      ],
      "execution_count": 39,
      "outputs": [
        {
          "output_type": "execute_result",
          "data": {
            "text/html": [
              "<div>\n",
              "<style scoped>\n",
              "    .dataframe tbody tr th:only-of-type {\n",
              "        vertical-align: middle;\n",
              "    }\n",
              "\n",
              "    .dataframe tbody tr th {\n",
              "        vertical-align: top;\n",
              "    }\n",
              "\n",
              "    .dataframe thead th {\n",
              "        text-align: right;\n",
              "    }\n",
              "</style>\n",
              "<table border=\"1\" class=\"dataframe\">\n",
              "  <thead>\n",
              "    <tr style=\"text-align: right;\">\n",
              "      <th></th>\n",
              "      <th>Month</th>\n",
              "      <th>MilesMM</th>\n",
              "      <th>year</th>\n",
              "      <th>lag1</th>\n",
              "    </tr>\n",
              "  </thead>\n",
              "  <tbody>\n",
              "    <tr>\n",
              "      <th>0</th>\n",
              "      <td>1963-01-01</td>\n",
              "      <td>6827</td>\n",
              "      <td>1963</td>\n",
              "      <td>NaN</td>\n",
              "    </tr>\n",
              "    <tr>\n",
              "      <th>1</th>\n",
              "      <td>1963-02-01</td>\n",
              "      <td>6178</td>\n",
              "      <td>1963</td>\n",
              "      <td>6827.0</td>\n",
              "    </tr>\n",
              "    <tr>\n",
              "      <th>2</th>\n",
              "      <td>1963-03-01</td>\n",
              "      <td>7084</td>\n",
              "      <td>1963</td>\n",
              "      <td>6178.0</td>\n",
              "    </tr>\n",
              "    <tr>\n",
              "      <th>3</th>\n",
              "      <td>1963-04-01</td>\n",
              "      <td>8162</td>\n",
              "      <td>1963</td>\n",
              "      <td>7084.0</td>\n",
              "    </tr>\n",
              "    <tr>\n",
              "      <th>4</th>\n",
              "      <td>1963-05-01</td>\n",
              "      <td>8462</td>\n",
              "      <td>1963</td>\n",
              "      <td>8162.0</td>\n",
              "    </tr>\n",
              "  </tbody>\n",
              "</table>\n",
              "</div>"
            ],
            "text/plain": [
              "       Month  MilesMM  year    lag1\n",
              "0 1963-01-01     6827  1963     NaN\n",
              "1 1963-02-01     6178  1963  6827.0\n",
              "2 1963-03-01     7084  1963  6178.0\n",
              "3 1963-04-01     8162  1963  7084.0\n",
              "4 1963-05-01     8462  1963  8162.0"
            ]
          },
          "metadata": {},
          "execution_count": 39
        }
      ]
    },
    {
      "cell_type": "code",
      "metadata": {
        "colab": {
          "base_uri": "https://localhost:8080/",
          "height": 296
        },
        "id": "I60qjOXMz2GK",
        "outputId": "3b3358e3-5d89-476f-a66c-6a939fd625af"
      },
      "source": [
        "sns.scatterplot(x = miles_data['lag1'], y = miles_data['MilesMM'])"
      ],
      "execution_count": 40,
      "outputs": [
        {
          "output_type": "execute_result",
          "data": {
            "text/plain": [
              "<matplotlib.axes._subplots.AxesSubplot at 0x7f95f00b6f50>"
            ]
          },
          "metadata": {},
          "execution_count": 40
        },
        {
          "output_type": "display_data",
          "data": {
            "image/png": "[encoded data removed]",
            "text/plain": [
              "<Figure size 432x288 with 1 Axes>"
            ]
          },
          "metadata": {
            "needs_background": "light"
          }
        }
      ]
    },
    {
      "cell_type": "code",
      "metadata": {
        "id": "DUkmUmSm0Q9R"
      },
      "source": [
        "from pandas.plotting import lag_plot"
      ],
      "execution_count": 41,
      "outputs": []
    },
    {
      "cell_type": "code",
      "metadata": {
        "colab": {
          "base_uri": "https://localhost:8080/",
          "height": 296
        },
        "id": "RZnpl3bp0bAY",
        "outputId": "7d99db67-8551-43ae-ab0c-5a6e4428b105"
      },
      "source": [
        "lag_plot(miles_data['MilesMM'])"
      ],
      "execution_count": 42,
      "outputs": [
        {
          "output_type": "execute_result",
          "data": {
            "text/plain": [
              "<matplotlib.axes._subplots.AxesSubplot at 0x7f95effdd810>"
            ]
          },
          "metadata": {},
          "execution_count": 42
        },
        {
          "output_type": "display_data",
          "data": {
            "image/png": "[encoded data removed]",
            "text/plain": [
              "<Figure size 432x288 with 1 Axes>"
            ]
          },
          "metadata": {
            "needs_background": "light"
          }
        }
      ]
    },
    {
      "cell_type": "markdown",
      "metadata": {
        "id": "dcHUuShd1PMV"
      },
      "source": [
        "**Autocorrelation Plot**"
      ]
    },
    {
      "cell_type": "code",
      "metadata": {
        "id": "xKXCuZQY0i9I"
      },
      "source": [
        "from pandas.plotting import  autocorrelation_plot"
      ],
      "execution_count": 43,
      "outputs": []
    },
    {
      "cell_type": "code",
      "metadata": {
        "colab": {
          "base_uri": "https://localhost:8080/",
          "height": 300
        },
        "id": "fstZsrhD1vCC",
        "outputId": "5cd16fae-2e36-4227-d93a-35bbe3bb716f"
      },
      "source": [
        "autocorrelation_plot(miles_data['MilesMM'])"
      ],
      "execution_count": 44,
      "outputs": [
        {
          "output_type": "execute_result",
          "data": {
            "text/plain": [
              "<matplotlib.axes._subplots.AxesSubplot at 0x7f95eff40fd0>"
            ]
          },
          "metadata": {},
          "execution_count": 44
        },
        {
          "output_type": "display_data",
          "data": {
            "image/png": "[encoded data removed]",
            "text/plain": [
              "<Figure size 432x288 with 1 Axes>"
            ]
          },
          "metadata": {
            "needs_background": "light"
          }
        }
      ]
    },
    {
      "cell_type": "markdown",
      "metadata": {
        "id": "e1NLVLP6-alJ"
      },
      "source": [
        "**Feature Engineering**\n",
        "\n",
        "\n",
        "1.   Date Time Feature\n",
        "2.   Lag Feature\n",
        "3.   Window Feature\n",
        "4.   Expanding Feature"
      ]
    },
    {
      "cell_type": "markdown",
      "metadata": {
        "id": "rOCiRA0c_34u"
      },
      "source": [
        "**Date Time Feature**"
      ]
    },
    {
      "cell_type": "code",
      "metadata": {
        "colab": {
          "base_uri": "https://localhost:8080/",
          "height": 203
        },
        "id": "1xDu0Ijg13_T",
        "outputId": "b37d547f-9df7-46d6-a236-bf07bde633ce"
      },
      "source": [
        "dataset2.head()"
      ],
      "execution_count": 45,
      "outputs": [
        {
          "output_type": "execute_result",
          "data": {
            "text/html": [
              "<div>\n",
              "<style scoped>\n",
              "    .dataframe tbody tr th:only-of-type {\n",
              "        vertical-align: middle;\n",
              "    }\n",
              "\n",
              "    .dataframe tbody tr th {\n",
              "        vertical-align: top;\n",
              "    }\n",
              "\n",
              "    .dataframe thead th {\n",
              "        text-align: right;\n",
              "    }\n",
              "</style>\n",
              "<table border=\"1\" class=\"dataframe\">\n",
              "  <thead>\n",
              "    <tr style=\"text-align: right;\">\n",
              "      <th></th>\n",
              "      <th>date</th>\n",
              "      <th>births</th>\n",
              "    </tr>\n",
              "  </thead>\n",
              "  <tbody>\n",
              "    <tr>\n",
              "      <th>0</th>\n",
              "      <td>1959-01-01</td>\n",
              "      <td>35</td>\n",
              "    </tr>\n",
              "    <tr>\n",
              "      <th>1</th>\n",
              "      <td>1959-01-02</td>\n",
              "      <td>32</td>\n",
              "    </tr>\n",
              "    <tr>\n",
              "      <th>2</th>\n",
              "      <td>1959-01-03</td>\n",
              "      <td>30</td>\n",
              "    </tr>\n",
              "    <tr>\n",
              "      <th>3</th>\n",
              "      <td>1959-01-04</td>\n",
              "      <td>31</td>\n",
              "    </tr>\n",
              "    <tr>\n",
              "      <th>4</th>\n",
              "      <td>1959-01-05</td>\n",
              "      <td>44</td>\n",
              "    </tr>\n",
              "  </tbody>\n",
              "</table>\n",
              "</div>"
            ],
            "text/plain": [
              "        date  births\n",
              "0 1959-01-01      35\n",
              "1 1959-01-02      32\n",
              "2 1959-01-03      30\n",
              "3 1959-01-04      31\n",
              "4 1959-01-05      44"
            ]
          },
          "metadata": {},
          "execution_count": 45
        }
      ]
    },
    {
      "cell_type": "code",
      "metadata": {
        "id": "zIqRMS6uALx6"
      },
      "source": [
        "features = dataset2"
      ],
      "execution_count": 46,
      "outputs": []
    },
    {
      "cell_type": "code",
      "metadata": {
        "id": "TktuFVS9AUtB"
      },
      "source": [
        "features['year'] = dataset2['date'].dt.year"
      ],
      "execution_count": 47,
      "outputs": []
    },
    {
      "cell_type": "code",
      "metadata": {
        "id": "-kEtBqz0At2C"
      },
      "source": [
        "features['month'] = dataset2['date'].dt.month"
      ],
      "execution_count": 48,
      "outputs": []
    },
    {
      "cell_type": "code",
      "metadata": {
        "id": "qQjAVlGOBC1E"
      },
      "source": [
        "features['day'] = dataset2['date'].dt.day"
      ],
      "execution_count": 49,
      "outputs": []
    },
    {
      "cell_type": "code",
      "metadata": {
        "colab": {
          "base_uri": "https://localhost:8080/",
          "height": 203
        },
        "id": "CvGCvMRdBNY7",
        "outputId": "923be791-e164-4567-deef-670ec646ecb4"
      },
      "source": [
        "features.head()"
      ],
      "execution_count": 50,
      "outputs": [
        {
          "output_type": "execute_result",
          "data": {
            "text/html": [
              "<div>\n",
              "<style scoped>\n",
              "    .dataframe tbody tr th:only-of-type {\n",
              "        vertical-align: middle;\n",
              "    }\n",
              "\n",
              "    .dataframe tbody tr th {\n",
              "        vertical-align: top;\n",
              "    }\n",
              "\n",
              "    .dataframe thead th {\n",
              "        text-align: right;\n",
              "    }\n",
              "</style>\n",
              "<table border=\"1\" class=\"dataframe\">\n",
              "  <thead>\n",
              "    <tr style=\"text-align: right;\">\n",
              "      <th></th>\n",
              "      <th>date</th>\n",
              "      <th>births</th>\n",
              "      <th>year</th>\n",
              "      <th>month</th>\n",
              "      <th>day</th>\n",
              "    </tr>\n",
              "  </thead>\n",
              "  <tbody>\n",
              "    <tr>\n",
              "      <th>0</th>\n",
              "      <td>1959-01-01</td>\n",
              "      <td>35</td>\n",
              "      <td>1959</td>\n",
              "      <td>1</td>\n",
              "      <td>1</td>\n",
              "    </tr>\n",
              "    <tr>\n",
              "      <th>1</th>\n",
              "      <td>1959-01-02</td>\n",
              "      <td>32</td>\n",
              "      <td>1959</td>\n",
              "      <td>1</td>\n",
              "      <td>2</td>\n",
              "    </tr>\n",
              "    <tr>\n",
              "      <th>2</th>\n",
              "      <td>1959-01-03</td>\n",
              "      <td>30</td>\n",
              "      <td>1959</td>\n",
              "      <td>1</td>\n",
              "      <td>3</td>\n",
              "    </tr>\n",
              "    <tr>\n",
              "      <th>3</th>\n",
              "      <td>1959-01-04</td>\n",
              "      <td>31</td>\n",
              "      <td>1959</td>\n",
              "      <td>1</td>\n",
              "      <td>4</td>\n",
              "    </tr>\n",
              "    <tr>\n",
              "      <th>4</th>\n",
              "      <td>1959-01-05</td>\n",
              "      <td>44</td>\n",
              "      <td>1959</td>\n",
              "      <td>1</td>\n",
              "      <td>5</td>\n",
              "    </tr>\n",
              "  </tbody>\n",
              "</table>\n",
              "</div>"
            ],
            "text/plain": [
              "        date  births  year  month  day\n",
              "0 1959-01-01      35  1959      1    1\n",
              "1 1959-01-02      32  1959      1    2\n",
              "2 1959-01-03      30  1959      1    3\n",
              "3 1959-01-04      31  1959      1    4\n",
              "4 1959-01-05      44  1959      1    5"
            ]
          },
          "metadata": {},
          "execution_count": 50
        }
      ]
    },
    {
      "cell_type": "markdown",
      "metadata": {
        "id": "02XLBpQCCwWG"
      },
      "source": [
        "**Lag Features**"
      ]
    },
    {
      "cell_type": "code",
      "metadata": {
        "id": "RgRvUYl7BQxW"
      },
      "source": [
        "features['lag1'] = dataset2['births'].shift(1)"
      ],
      "execution_count": 51,
      "outputs": []
    },
    {
      "cell_type": "code",
      "metadata": {
        "id": "cB8XpxHlDBw4"
      },
      "source": [
        "features['lag2'] = dataset2['births'].shift(365)"
      ],
      "execution_count": 52,
      "outputs": []
    },
    {
      "cell_type": "code",
      "metadata": {
        "colab": {
          "base_uri": "https://localhost:8080/",
          "height": 203
        },
        "id": "9KNcHp3NDNNk",
        "outputId": "d5b21d83-b490-4e0b-fe5d-9f9effa76efe"
      },
      "source": [
        "features.head()"
      ],
      "execution_count": 53,
      "outputs": [
        {
          "output_type": "execute_result",
          "data": {
            "text/html": [
              "<div>\n",
              "<style scoped>\n",
              "    .dataframe tbody tr th:only-of-type {\n",
              "        vertical-align: middle;\n",
              "    }\n",
              "\n",
              "    .dataframe tbody tr th {\n",
              "        vertical-align: top;\n",
              "    }\n",
              "\n",
              "    .dataframe thead th {\n",
              "        text-align: right;\n",
              "    }\n",
              "</style>\n",
              "<table border=\"1\" class=\"dataframe\">\n",
              "  <thead>\n",
              "    <tr style=\"text-align: right;\">\n",
              "      <th></th>\n",
              "      <th>date</th>\n",
              "      <th>births</th>\n",
              "      <th>year</th>\n",
              "      <th>month</th>\n",
              "      <th>day</th>\n",
              "      <th>lag1</th>\n",
              "      <th>lag2</th>\n",
              "    </tr>\n",
              "  </thead>\n",
              "  <tbody>\n",
              "    <tr>\n",
              "      <th>0</th>\n",
              "      <td>1959-01-01</td>\n",
              "      <td>35</td>\n",
              "      <td>1959</td>\n",
              "      <td>1</td>\n",
              "      <td>1</td>\n",
              "      <td>NaN</td>\n",
              "      <td>NaN</td>\n",
              "    </tr>\n",
              "    <tr>\n",
              "      <th>1</th>\n",
              "      <td>1959-01-02</td>\n",
              "      <td>32</td>\n",
              "      <td>1959</td>\n",
              "      <td>1</td>\n",
              "      <td>2</td>\n",
              "      <td>35.0</td>\n",
              "      <td>NaN</td>\n",
              "    </tr>\n",
              "    <tr>\n",
              "      <th>2</th>\n",
              "      <td>1959-01-03</td>\n",
              "      <td>30</td>\n",
              "      <td>1959</td>\n",
              "      <td>1</td>\n",
              "      <td>3</td>\n",
              "      <td>32.0</td>\n",
              "      <td>NaN</td>\n",
              "    </tr>\n",
              "    <tr>\n",
              "      <th>3</th>\n",
              "      <td>1959-01-04</td>\n",
              "      <td>31</td>\n",
              "      <td>1959</td>\n",
              "      <td>1</td>\n",
              "      <td>4</td>\n",
              "      <td>30.0</td>\n",
              "      <td>NaN</td>\n",
              "    </tr>\n",
              "    <tr>\n",
              "      <th>4</th>\n",
              "      <td>1959-01-05</td>\n",
              "      <td>44</td>\n",
              "      <td>1959</td>\n",
              "      <td>1</td>\n",
              "      <td>5</td>\n",
              "      <td>31.0</td>\n",
              "      <td>NaN</td>\n",
              "    </tr>\n",
              "  </tbody>\n",
              "</table>\n",
              "</div>"
            ],
            "text/plain": [
              "        date  births  year  month  day  lag1  lag2\n",
              "0 1959-01-01      35  1959      1    1   NaN   NaN\n",
              "1 1959-01-02      32  1959      1    2  35.0   NaN\n",
              "2 1959-01-03      30  1959      1    3  32.0   NaN\n",
              "3 1959-01-04      31  1959      1    4  30.0   NaN\n",
              "4 1959-01-05      44  1959      1    5  31.0   NaN"
            ]
          },
          "metadata": {},
          "execution_count": 53
        }
      ]
    },
    {
      "cell_type": "code",
      "metadata": {
        "colab": {
          "base_uri": "https://localhost:8080/",
          "height": 203
        },
        "id": "tzJKb5mkDPvX",
        "outputId": "3d7f56df-7019-4c3b-f5b2-6c76477445a8"
      },
      "source": [
        "features.tail()"
      ],
      "execution_count": 54,
      "outputs": [
        {
          "output_type": "execute_result",
          "data": {
            "text/html": [
              "<div>\n",
              "<style scoped>\n",
              "    .dataframe tbody tr th:only-of-type {\n",
              "        vertical-align: middle;\n",
              "    }\n",
              "\n",
              "    .dataframe tbody tr th {\n",
              "        vertical-align: top;\n",
              "    }\n",
              "\n",
              "    .dataframe thead th {\n",
              "        text-align: right;\n",
              "    }\n",
              "</style>\n",
              "<table border=\"1\" class=\"dataframe\">\n",
              "  <thead>\n",
              "    <tr style=\"text-align: right;\">\n",
              "      <th></th>\n",
              "      <th>date</th>\n",
              "      <th>births</th>\n",
              "      <th>year</th>\n",
              "      <th>month</th>\n",
              "      <th>day</th>\n",
              "      <th>lag1</th>\n",
              "      <th>lag2</th>\n",
              "    </tr>\n",
              "  </thead>\n",
              "  <tbody>\n",
              "    <tr>\n",
              "      <th>360</th>\n",
              "      <td>1959-12-27</td>\n",
              "      <td>37</td>\n",
              "      <td>1959</td>\n",
              "      <td>12</td>\n",
              "      <td>27</td>\n",
              "      <td>34.0</td>\n",
              "      <td>NaN</td>\n",
              "    </tr>\n",
              "    <tr>\n",
              "      <th>361</th>\n",
              "      <td>1959-12-28</td>\n",
              "      <td>52</td>\n",
              "      <td>1959</td>\n",
              "      <td>12</td>\n",
              "      <td>28</td>\n",
              "      <td>37.0</td>\n",
              "      <td>NaN</td>\n",
              "    </tr>\n",
              "    <tr>\n",
              "      <th>362</th>\n",
              "      <td>1959-12-29</td>\n",
              "      <td>48</td>\n",
              "      <td>1959</td>\n",
              "      <td>12</td>\n",
              "      <td>29</td>\n",
              "      <td>52.0</td>\n",
              "      <td>NaN</td>\n",
              "    </tr>\n",
              "    <tr>\n",
              "      <th>363</th>\n",
              "      <td>1959-12-30</td>\n",
              "      <td>55</td>\n",
              "      <td>1959</td>\n",
              "      <td>12</td>\n",
              "      <td>30</td>\n",
              "      <td>48.0</td>\n",
              "      <td>NaN</td>\n",
              "    </tr>\n",
              "    <tr>\n",
              "      <th>364</th>\n",
              "      <td>1959-12-31</td>\n",
              "      <td>50</td>\n",
              "      <td>1959</td>\n",
              "      <td>12</td>\n",
              "      <td>31</td>\n",
              "      <td>55.0</td>\n",
              "      <td>NaN</td>\n",
              "    </tr>\n",
              "  </tbody>\n",
              "</table>\n",
              "</div>"
            ],
            "text/plain": [
              "          date  births  year  month  day  lag1  lag2\n",
              "360 1959-12-27      37  1959     12   27  34.0   NaN\n",
              "361 1959-12-28      52  1959     12   28  37.0   NaN\n",
              "362 1959-12-29      48  1959     12   29  52.0   NaN\n",
              "363 1959-12-30      55  1959     12   30  48.0   NaN\n",
              "364 1959-12-31      50  1959     12   31  55.0   NaN"
            ]
          },
          "metadata": {},
          "execution_count": 54
        }
      ]
    },
    {
      "cell_type": "markdown",
      "metadata": {
        "id": "104u-5CQD5QK"
      },
      "source": [
        "**Window Features**"
      ]
    },
    {
      "cell_type": "code",
      "metadata": {
        "id": "LIk0gM83Div7"
      },
      "source": [
        "features['Roll_mean'] = dataset2['births'].rolling(window = 2).mean()"
      ],
      "execution_count": 55,
      "outputs": []
    },
    {
      "cell_type": "code",
      "metadata": {
        "colab": {
          "base_uri": "https://localhost:8080/",
          "height": 203
        },
        "id": "a9ckkJttEPTn",
        "outputId": "d47288a4-da6a-4ffc-cfa5-394d011afad6"
      },
      "source": [
        "features.head()"
      ],
      "execution_count": 56,
      "outputs": [
        {
          "output_type": "execute_result",
          "data": {
            "text/html": [
              "<div>\n",
              "<style scoped>\n",
              "    .dataframe tbody tr th:only-of-type {\n",
              "        vertical-align: middle;\n",
              "    }\n",
              "\n",
              "    .dataframe tbody tr th {\n",
              "        vertical-align: top;\n",
              "    }\n",
              "\n",
              "    .dataframe thead th {\n",
              "        text-align: right;\n",
              "    }\n",
              "</style>\n",
              "<table border=\"1\" class=\"dataframe\">\n",
              "  <thead>\n",
              "    <tr style=\"text-align: right;\">\n",
              "      <th></th>\n",
              "      <th>date</th>\n",
              "      <th>births</th>\n",
              "      <th>year</th>\n",
              "      <th>month</th>\n",
              "      <th>day</th>\n",
              "      <th>lag1</th>\n",
              "      <th>lag2</th>\n",
              "      <th>Roll_mean</th>\n",
              "    </tr>\n",
              "  </thead>\n",
              "  <tbody>\n",
              "    <tr>\n",
              "      <th>0</th>\n",
              "      <td>1959-01-01</td>\n",
              "      <td>35</td>\n",
              "      <td>1959</td>\n",
              "      <td>1</td>\n",
              "      <td>1</td>\n",
              "      <td>NaN</td>\n",
              "      <td>NaN</td>\n",
              "      <td>NaN</td>\n",
              "    </tr>\n",
              "    <tr>\n",
              "      <th>1</th>\n",
              "      <td>1959-01-02</td>\n",
              "      <td>32</td>\n",
              "      <td>1959</td>\n",
              "      <td>1</td>\n",
              "      <td>2</td>\n",
              "      <td>35.0</td>\n",
              "      <td>NaN</td>\n",
              "      <td>33.5</td>\n",
              "    </tr>\n",
              "    <tr>\n",
              "      <th>2</th>\n",
              "      <td>1959-01-03</td>\n",
              "      <td>30</td>\n",
              "      <td>1959</td>\n",
              "      <td>1</td>\n",
              "      <td>3</td>\n",
              "      <td>32.0</td>\n",
              "      <td>NaN</td>\n",
              "      <td>31.0</td>\n",
              "    </tr>\n",
              "    <tr>\n",
              "      <th>3</th>\n",
              "      <td>1959-01-04</td>\n",
              "      <td>31</td>\n",
              "      <td>1959</td>\n",
              "      <td>1</td>\n",
              "      <td>4</td>\n",
              "      <td>30.0</td>\n",
              "      <td>NaN</td>\n",
              "      <td>30.5</td>\n",
              "    </tr>\n",
              "    <tr>\n",
              "      <th>4</th>\n",
              "      <td>1959-01-05</td>\n",
              "      <td>44</td>\n",
              "      <td>1959</td>\n",
              "      <td>1</td>\n",
              "      <td>5</td>\n",
              "      <td>31.0</td>\n",
              "      <td>NaN</td>\n",
              "      <td>37.5</td>\n",
              "    </tr>\n",
              "  </tbody>\n",
              "</table>\n",
              "</div>"
            ],
            "text/plain": [
              "        date  births  year  month  day  lag1  lag2  Roll_mean\n",
              "0 1959-01-01      35  1959      1    1   NaN   NaN        NaN\n",
              "1 1959-01-02      32  1959      1    2  35.0   NaN       33.5\n",
              "2 1959-01-03      30  1959      1    3  32.0   NaN       31.0\n",
              "3 1959-01-04      31  1959      1    4  30.0   NaN       30.5\n",
              "4 1959-01-05      44  1959      1    5  31.0   NaN       37.5"
            ]
          },
          "metadata": {},
          "execution_count": 56
        }
      ]
    },
    {
      "cell_type": "code",
      "metadata": {
        "id": "iFlnkgdxES33"
      },
      "source": [
        "features['Roll_max'] = dataset2['births'].rolling(window = 3).max()"
      ],
      "execution_count": 57,
      "outputs": []
    },
    {
      "cell_type": "code",
      "metadata": {
        "colab": {
          "base_uri": "https://localhost:8080/",
          "height": 203
        },
        "id": "1m8yW0QpEuRa",
        "outputId": "6df12826-4ba6-4397-bae1-d01a70d27a9d"
      },
      "source": [
        "features.head()"
      ],
      "execution_count": 58,
      "outputs": [
        {
          "output_type": "execute_result",
          "data": {
            "text/html": [
              "<div>\n",
              "<style scoped>\n",
              "    .dataframe tbody tr th:only-of-type {\n",
              "        vertical-align: middle;\n",
              "    }\n",
              "\n",
              "    .dataframe tbody tr th {\n",
              "        vertical-align: top;\n",
              "    }\n",
              "\n",
              "    .dataframe thead th {\n",
              "        text-align: right;\n",
              "    }\n",
              "</style>\n",
              "<table border=\"1\" class=\"dataframe\">\n",
              "  <thead>\n",
              "    <tr style=\"text-align: right;\">\n",
              "      <th></th>\n",
              "      <th>date</th>\n",
              "      <th>births</th>\n",
              "      <th>year</th>\n",
              "      <th>month</th>\n",
              "      <th>day</th>\n",
              "      <th>lag1</th>\n",
              "      <th>lag2</th>\n",
              "      <th>Roll_mean</th>\n",
              "      <th>Roll_max</th>\n",
              "    </tr>\n",
              "  </thead>\n",
              "  <tbody>\n",
              "    <tr>\n",
              "      <th>0</th>\n",
              "      <td>1959-01-01</td>\n",
              "      <td>35</td>\n",
              "      <td>1959</td>\n",
              "      <td>1</td>\n",
              "      <td>1</td>\n",
              "      <td>NaN</td>\n",
              "      <td>NaN</td>\n",
              "      <td>NaN</td>\n",
              "      <td>NaN</td>\n",
              "    </tr>\n",
              "    <tr>\n",
              "      <th>1</th>\n",
              "      <td>1959-01-02</td>\n",
              "      <td>32</td>\n",
              "      <td>1959</td>\n",
              "      <td>1</td>\n",
              "      <td>2</td>\n",
              "      <td>35.0</td>\n",
              "      <td>NaN</td>\n",
              "      <td>33.5</td>\n",
              "      <td>NaN</td>\n",
              "    </tr>\n",
              "    <tr>\n",
              "      <th>2</th>\n",
              "      <td>1959-01-03</td>\n",
              "      <td>30</td>\n",
              "      <td>1959</td>\n",
              "      <td>1</td>\n",
              "      <td>3</td>\n",
              "      <td>32.0</td>\n",
              "      <td>NaN</td>\n",
              "      <td>31.0</td>\n",
              "      <td>35.0</td>\n",
              "    </tr>\n",
              "    <tr>\n",
              "      <th>3</th>\n",
              "      <td>1959-01-04</td>\n",
              "      <td>31</td>\n",
              "      <td>1959</td>\n",
              "      <td>1</td>\n",
              "      <td>4</td>\n",
              "      <td>30.0</td>\n",
              "      <td>NaN</td>\n",
              "      <td>30.5</td>\n",
              "      <td>32.0</td>\n",
              "    </tr>\n",
              "    <tr>\n",
              "      <th>4</th>\n",
              "      <td>1959-01-05</td>\n",
              "      <td>44</td>\n",
              "      <td>1959</td>\n",
              "      <td>1</td>\n",
              "      <td>5</td>\n",
              "      <td>31.0</td>\n",
              "      <td>NaN</td>\n",
              "      <td>37.5</td>\n",
              "      <td>44.0</td>\n",
              "    </tr>\n",
              "  </tbody>\n",
              "</table>\n",
              "</div>"
            ],
            "text/plain": [
              "        date  births  year  month  day  lag1  lag2  Roll_mean  Roll_max\n",
              "0 1959-01-01      35  1959      1    1   NaN   NaN        NaN       NaN\n",
              "1 1959-01-02      32  1959      1    2  35.0   NaN       33.5       NaN\n",
              "2 1959-01-03      30  1959      1    3  32.0   NaN       31.0      35.0\n",
              "3 1959-01-04      31  1959      1    4  30.0   NaN       30.5      32.0\n",
              "4 1959-01-05      44  1959      1    5  31.0   NaN       37.5      44.0"
            ]
          },
          "metadata": {},
          "execution_count": 58
        }
      ]
    },
    {
      "cell_type": "markdown",
      "metadata": {
        "id": "lRS5a1McE3FW"
      },
      "source": [
        "**Expanding Features**"
      ]
    },
    {
      "cell_type": "code",
      "metadata": {
        "id": "prtRDW-zEwii"
      },
      "source": [
        "features['Expand_max'] = dataset2['births'].expanding().max()"
      ],
      "execution_count": 59,
      "outputs": []
    },
    {
      "cell_type": "code",
      "metadata": {
        "colab": {
          "base_uri": "https://localhost:8080/",
          "height": 357
        },
        "id": "I_N5YvUTFKiK",
        "outputId": "d908c63b-612e-4a32-b50e-32ba323c2a6d"
      },
      "source": [
        "features.head(10)"
      ],
      "execution_count": 60,
      "outputs": [
        {
          "output_type": "execute_result",
          "data": {
            "text/html": [
              "<div>\n",
              "<style scoped>\n",
              "    .dataframe tbody tr th:only-of-type {\n",
              "        vertical-align: middle;\n",
              "    }\n",
              "\n",
              "    .dataframe tbody tr th {\n",
              "        vertical-align: top;\n",
              "    }\n",
              "\n",
              "    .dataframe thead th {\n",
              "        text-align: right;\n",
              "    }\n",
              "</style>\n",
              "<table border=\"1\" class=\"dataframe\">\n",
              "  <thead>\n",
              "    <tr style=\"text-align: right;\">\n",
              "      <th></th>\n",
              "      <th>date</th>\n",
              "      <th>births</th>\n",
              "      <th>year</th>\n",
              "      <th>month</th>\n",
              "      <th>day</th>\n",
              "      <th>lag1</th>\n",
              "      <th>lag2</th>\n",
              "      <th>Roll_mean</th>\n",
              "      <th>Roll_max</th>\n",
              "      <th>Expand_max</th>\n",
              "    </tr>\n",
              "  </thead>\n",
              "  <tbody>\n",
              "    <tr>\n",
              "      <th>0</th>\n",
              "      <td>1959-01-01</td>\n",
              "      <td>35</td>\n",
              "      <td>1959</td>\n",
              "      <td>1</td>\n",
              "      <td>1</td>\n",
              "      <td>NaN</td>\n",
              "      <td>NaN</td>\n",
              "      <td>NaN</td>\n",
              "      <td>NaN</td>\n",
              "      <td>35.0</td>\n",
              "    </tr>\n",
              "    <tr>\n",
              "      <th>1</th>\n",
              "      <td>1959-01-02</td>\n",
              "      <td>32</td>\n",
              "      <td>1959</td>\n",
              "      <td>1</td>\n",
              "      <td>2</td>\n",
              "      <td>35.0</td>\n",
              "      <td>NaN</td>\n",
              "      <td>33.5</td>\n",
              "      <td>NaN</td>\n",
              "      <td>35.0</td>\n",
              "    </tr>\n",
              "    <tr>\n",
              "      <th>2</th>\n",
              "      <td>1959-01-03</td>\n",
              "      <td>30</td>\n",
              "      <td>1959</td>\n",
              "      <td>1</td>\n",
              "      <td>3</td>\n",
              "      <td>32.0</td>\n",
              "      <td>NaN</td>\n",
              "      <td>31.0</td>\n",
              "      <td>35.0</td>\n",
              "      <td>35.0</td>\n",
              "    </tr>\n",
              "    <tr>\n",
              "      <th>3</th>\n",
              "      <td>1959-01-04</td>\n",
              "      <td>31</td>\n",
              "      <td>1959</td>\n",
              "      <td>1</td>\n",
              "      <td>4</td>\n",
              "      <td>30.0</td>\n",
              "      <td>NaN</td>\n",
              "      <td>30.5</td>\n",
              "      <td>32.0</td>\n",
              "      <td>35.0</td>\n",
              "    </tr>\n",
              "    <tr>\n",
              "      <th>4</th>\n",
              "      <td>1959-01-05</td>\n",
              "      <td>44</td>\n",
              "      <td>1959</td>\n",
              "      <td>1</td>\n",
              "      <td>5</td>\n",
              "      <td>31.0</td>\n",
              "      <td>NaN</td>\n",
              "      <td>37.5</td>\n",
              "      <td>44.0</td>\n",
              "      <td>44.0</td>\n",
              "    </tr>\n",
              "    <tr>\n",
              "      <th>5</th>\n",
              "      <td>1959-01-06</td>\n",
              "      <td>29</td>\n",
              "      <td>1959</td>\n",
              "      <td>1</td>\n",
              "      <td>6</td>\n",
              "      <td>44.0</td>\n",
              "      <td>NaN</td>\n",
              "      <td>36.5</td>\n",
              "      <td>44.0</td>\n",
              "      <td>44.0</td>\n",
              "    </tr>\n",
              "    <tr>\n",
              "      <th>6</th>\n",
              "      <td>1959-01-07</td>\n",
              "      <td>45</td>\n",
              "      <td>1959</td>\n",
              "      <td>1</td>\n",
              "      <td>7</td>\n",
              "      <td>29.0</td>\n",
              "      <td>NaN</td>\n",
              "      <td>37.0</td>\n",
              "      <td>45.0</td>\n",
              "      <td>45.0</td>\n",
              "    </tr>\n",
              "    <tr>\n",
              "      <th>7</th>\n",
              "      <td>1959-01-08</td>\n",
              "      <td>43</td>\n",
              "      <td>1959</td>\n",
              "      <td>1</td>\n",
              "      <td>8</td>\n",
              "      <td>45.0</td>\n",
              "      <td>NaN</td>\n",
              "      <td>44.0</td>\n",
              "      <td>45.0</td>\n",
              "      <td>45.0</td>\n",
              "    </tr>\n",
              "    <tr>\n",
              "      <th>8</th>\n",
              "      <td>1959-01-09</td>\n",
              "      <td>38</td>\n",
              "      <td>1959</td>\n",
              "      <td>1</td>\n",
              "      <td>9</td>\n",
              "      <td>43.0</td>\n",
              "      <td>NaN</td>\n",
              "      <td>40.5</td>\n",
              "      <td>45.0</td>\n",
              "      <td>45.0</td>\n",
              "    </tr>\n",
              "    <tr>\n",
              "      <th>9</th>\n",
              "      <td>1959-01-10</td>\n",
              "      <td>27</td>\n",
              "      <td>1959</td>\n",
              "      <td>1</td>\n",
              "      <td>10</td>\n",
              "      <td>38.0</td>\n",
              "      <td>NaN</td>\n",
              "      <td>32.5</td>\n",
              "      <td>43.0</td>\n",
              "      <td>45.0</td>\n",
              "    </tr>\n",
              "  </tbody>\n",
              "</table>\n",
              "</div>"
            ],
            "text/plain": [
              "        date  births  year  month  ...  lag2  Roll_mean  Roll_max  Expand_max\n",
              "0 1959-01-01      35  1959      1  ...   NaN        NaN       NaN        35.0\n",
              "1 1959-01-02      32  1959      1  ...   NaN       33.5       NaN        35.0\n",
              "2 1959-01-03      30  1959      1  ...   NaN       31.0      35.0        35.0\n",
              "3 1959-01-04      31  1959      1  ...   NaN       30.5      32.0        35.0\n",
              "4 1959-01-05      44  1959      1  ...   NaN       37.5      44.0        44.0\n",
              "5 1959-01-06      29  1959      1  ...   NaN       36.5      44.0        44.0\n",
              "6 1959-01-07      45  1959      1  ...   NaN       37.0      45.0        45.0\n",
              "7 1959-01-08      43  1959      1  ...   NaN       44.0      45.0        45.0\n",
              "8 1959-01-09      38  1959      1  ...   NaN       40.5      45.0        45.0\n",
              "9 1959-01-10      27  1959      1  ...   NaN       32.5      43.0        45.0\n",
              "\n",
              "[10 rows x 10 columns]"
            ]
          },
          "metadata": {},
          "execution_count": 60
        }
      ]
    },
    {
      "cell_type": "markdown",
      "metadata": {
        "id": "j9YOdkgmNk3b"
      },
      "source": [
        "**Downsampling and Upsampling**"
      ]
    },
    {
      "cell_type": "code",
      "metadata": {
        "id": "hbeSm7XTFMff"
      },
      "source": [
        "miles_data = pd.read_csv('/content/akramchowdhury/MyDrive/Colab Notebooks/Time Series Analysis /us-airlines-monthly-aircraft-miles-flown.csv', header= 0, parse_dates= [0])"
      ],
      "execution_count": 61,
      "outputs": []
    },
    {
      "cell_type": "code",
      "metadata": {
        "colab": {
          "base_uri": "https://localhost:8080/",
          "height": 203
        },
        "id": "rV7mAIW5N_aa",
        "outputId": "6e9f38b3-5808-4ba1-e480-109b50dad9f9"
      },
      "source": [
        "miles_data.head()"
      ],
      "execution_count": 62,
      "outputs": [
        {
          "output_type": "execute_result",
          "data": {
            "text/html": [
              "<div>\n",
              "<style scoped>\n",
              "    .dataframe tbody tr th:only-of-type {\n",
              "        vertical-align: middle;\n",
              "    }\n",
              "\n",
              "    .dataframe tbody tr th {\n",
              "        vertical-align: top;\n",
              "    }\n",
              "\n",
              "    .dataframe thead th {\n",
              "        text-align: right;\n",
              "    }\n",
              "</style>\n",
              "<table border=\"1\" class=\"dataframe\">\n",
              "  <thead>\n",
              "    <tr style=\"text-align: right;\">\n",
              "      <th></th>\n",
              "      <th>Month</th>\n",
              "      <th>MilesMM</th>\n",
              "    </tr>\n",
              "  </thead>\n",
              "  <tbody>\n",
              "    <tr>\n",
              "      <th>0</th>\n",
              "      <td>1963-01-01</td>\n",
              "      <td>6827</td>\n",
              "    </tr>\n",
              "    <tr>\n",
              "      <th>1</th>\n",
              "      <td>1963-02-01</td>\n",
              "      <td>6178</td>\n",
              "    </tr>\n",
              "    <tr>\n",
              "      <th>2</th>\n",
              "      <td>1963-03-01</td>\n",
              "      <td>7084</td>\n",
              "    </tr>\n",
              "    <tr>\n",
              "      <th>3</th>\n",
              "      <td>1963-04-01</td>\n",
              "      <td>8162</td>\n",
              "    </tr>\n",
              "    <tr>\n",
              "      <th>4</th>\n",
              "      <td>1963-05-01</td>\n",
              "      <td>8462</td>\n",
              "    </tr>\n",
              "  </tbody>\n",
              "</table>\n",
              "</div>"
            ],
            "text/plain": [
              "       Month  MilesMM\n",
              "0 1963-01-01     6827\n",
              "1 1963-02-01     6178\n",
              "2 1963-03-01     7084\n",
              "3 1963-04-01     8162\n",
              "4 1963-05-01     8462"
            ]
          },
          "metadata": {},
          "execution_count": 62
        }
      ]
    },
    {
      "cell_type": "markdown",
      "metadata": {
        "id": "V0yrPFczODPJ"
      },
      "source": [
        "**Downsampling**"
      ]
    },
    {
      "cell_type": "code",
      "metadata": {
        "id": "WsaL8WN8OCFt"
      },
      "source": [
        "quarterly_miles_data = miles_data.resample('Q', on = 'Month').mean()"
      ],
      "execution_count": 63,
      "outputs": []
    },
    {
      "cell_type": "code",
      "metadata": {
        "colab": {
          "base_uri": "https://localhost:8080/",
          "height": 234
        },
        "id": "C2vcFP3sOXS4",
        "outputId": "c05f188e-554c-4e00-e9e5-f8102c16225a"
      },
      "source": [
        "quarterly_miles_data.head()"
      ],
      "execution_count": 64,
      "outputs": [
        {
          "output_type": "execute_result",
          "data": {
            "text/html": [
              "<div>\n",
              "<style scoped>\n",
              "    .dataframe tbody tr th:only-of-type {\n",
              "        vertical-align: middle;\n",
              "    }\n",
              "\n",
              "    .dataframe tbody tr th {\n",
              "        vertical-align: top;\n",
              "    }\n",
              "\n",
              "    .dataframe thead th {\n",
              "        text-align: right;\n",
              "    }\n",
              "</style>\n",
              "<table border=\"1\" class=\"dataframe\">\n",
              "  <thead>\n",
              "    <tr style=\"text-align: right;\">\n",
              "      <th></th>\n",
              "      <th>MilesMM</th>\n",
              "    </tr>\n",
              "    <tr>\n",
              "      <th>Month</th>\n",
              "      <th></th>\n",
              "    </tr>\n",
              "  </thead>\n",
              "  <tbody>\n",
              "    <tr>\n",
              "      <th>1963-03-31</th>\n",
              "      <td>6696.333333</td>\n",
              "    </tr>\n",
              "    <tr>\n",
              "      <th>1963-06-30</th>\n",
              "      <td>8756.000000</td>\n",
              "    </tr>\n",
              "    <tr>\n",
              "      <th>1963-09-30</th>\n",
              "      <td>10392.333333</td>\n",
              "    </tr>\n",
              "    <tr>\n",
              "      <th>1963-12-31</th>\n",
              "      <td>7356.333333</td>\n",
              "    </tr>\n",
              "    <tr>\n",
              "      <th>1964-03-31</th>\n",
              "      <td>7287.666667</td>\n",
              "    </tr>\n",
              "  </tbody>\n",
              "</table>\n",
              "</div>"
            ],
            "text/plain": [
              "                 MilesMM\n",
              "Month                   \n",
              "1963-03-31   6696.333333\n",
              "1963-06-30   8756.000000\n",
              "1963-09-30  10392.333333\n",
              "1963-12-31   7356.333333\n",
              "1964-03-31   7287.666667"
            ]
          },
          "metadata": {},
          "execution_count": 64
        }
      ]
    },
    {
      "cell_type": "code",
      "metadata": {
        "id": "-3d-6Td5OdXP"
      },
      "source": [
        "yearly_total_miles_data = miles_data.resample('A', on ='Month').sum()"
      ],
      "execution_count": 65,
      "outputs": []
    },
    {
      "cell_type": "code",
      "metadata": {
        "colab": {
          "base_uri": "https://localhost:8080/",
          "height": 234
        },
        "id": "9Mjg9XtsOyh8",
        "outputId": "2a1d92ac-8d7a-4852-8272-86551315e29a"
      },
      "source": [
        "yearly_total_miles_data.head()"
      ],
      "execution_count": 66,
      "outputs": [
        {
          "output_type": "execute_result",
          "data": {
            "text/html": [
              "<div>\n",
              "<style scoped>\n",
              "    .dataframe tbody tr th:only-of-type {\n",
              "        vertical-align: middle;\n",
              "    }\n",
              "\n",
              "    .dataframe tbody tr th {\n",
              "        vertical-align: top;\n",
              "    }\n",
              "\n",
              "    .dataframe thead th {\n",
              "        text-align: right;\n",
              "    }\n",
              "</style>\n",
              "<table border=\"1\" class=\"dataframe\">\n",
              "  <thead>\n",
              "    <tr style=\"text-align: right;\">\n",
              "      <th></th>\n",
              "      <th>MilesMM</th>\n",
              "    </tr>\n",
              "    <tr>\n",
              "      <th>Month</th>\n",
              "      <th></th>\n",
              "    </tr>\n",
              "  </thead>\n",
              "  <tbody>\n",
              "    <tr>\n",
              "      <th>1963-12-31</th>\n",
              "      <td>99603</td>\n",
              "    </tr>\n",
              "    <tr>\n",
              "      <th>1964-12-31</th>\n",
              "      <td>106192</td>\n",
              "    </tr>\n",
              "    <tr>\n",
              "      <th>1965-12-31</th>\n",
              "      <td>115431</td>\n",
              "    </tr>\n",
              "    <tr>\n",
              "      <th>1966-12-31</th>\n",
              "      <td>119154</td>\n",
              "    </tr>\n",
              "    <tr>\n",
              "      <th>1967-12-31</th>\n",
              "      <td>126515</td>\n",
              "    </tr>\n",
              "  </tbody>\n",
              "</table>\n",
              "</div>"
            ],
            "text/plain": [
              "            MilesMM\n",
              "Month              \n",
              "1963-12-31    99603\n",
              "1964-12-31   106192\n",
              "1965-12-31   115431\n",
              "1966-12-31   119154\n",
              "1967-12-31   126515"
            ]
          },
          "metadata": {},
          "execution_count": 66
        }
      ]
    },
    {
      "cell_type": "markdown",
      "metadata": {
        "id": "XYeucxrkPS7v"
      },
      "source": [
        "**Upsampling**"
      ]
    },
    {
      "cell_type": "code",
      "metadata": {
        "id": "ArncEn71O19M"
      },
      "source": [
        "upsampled_miles_data = miles_data.resample('D', on = 'Month').mean()"
      ],
      "execution_count": 67,
      "outputs": []
    },
    {
      "cell_type": "code",
      "metadata": {
        "colab": {
          "base_uri": "https://localhost:8080/",
          "height": 1000
        },
        "id": "tt2zWIfJPm97",
        "outputId": "d45bb2d2-ff81-409f-e114-b3d08373fd57"
      },
      "source": [
        "upsampled_miles_data.head(35)"
      ],
      "execution_count": 68,
      "outputs": [
        {
          "output_type": "execute_result",
          "data": {
            "text/html": [
              "<div>\n",
              "<style scoped>\n",
              "    .dataframe tbody tr th:only-of-type {\n",
              "        vertical-align: middle;\n",
              "    }\n",
              "\n",
              "    .dataframe tbody tr th {\n",
              "        vertical-align: top;\n",
              "    }\n",
              "\n",
              "    .dataframe thead th {\n",
              "        text-align: right;\n",
              "    }\n",
              "</style>\n",
              "<table border=\"1\" class=\"dataframe\">\n",
              "  <thead>\n",
              "    <tr style=\"text-align: right;\">\n",
              "      <th></th>\n",
              "      <th>MilesMM</th>\n",
              "    </tr>\n",
              "    <tr>\n",
              "      <th>Month</th>\n",
              "      <th></th>\n",
              "    </tr>\n",
              "  </thead>\n",
              "  <tbody>\n",
              "    <tr>\n",
              "      <th>1963-01-01</th>\n",
              "      <td>6827.0</td>\n",
              "    </tr>\n",
              "    <tr>\n",
              "      <th>1963-01-02</th>\n",
              "      <td>NaN</td>\n",
              "    </tr>\n",
              "    <tr>\n",
              "      <th>1963-01-03</th>\n",
              "      <td>NaN</td>\n",
              "    </tr>\n",
              "    <tr>\n",
              "      <th>1963-01-04</th>\n",
              "      <td>NaN</td>\n",
              "    </tr>\n",
              "    <tr>\n",
              "      <th>1963-01-05</th>\n",
              "      <td>NaN</td>\n",
              "    </tr>\n",
              "    <tr>\n",
              "      <th>1963-01-06</th>\n",
              "      <td>NaN</td>\n",
              "    </tr>\n",
              "    <tr>\n",
              "      <th>1963-01-07</th>\n",
              "      <td>NaN</td>\n",
              "    </tr>\n",
              "    <tr>\n",
              "      <th>1963-01-08</th>\n",
              "      <td>NaN</td>\n",
              "    </tr>\n",
              "    <tr>\n",
              "      <th>1963-01-09</th>\n",
              "      <td>NaN</td>\n",
              "    </tr>\n",
              "    <tr>\n",
              "      <th>1963-01-10</th>\n",
              "      <td>NaN</td>\n",
              "    </tr>\n",
              "    <tr>\n",
              "      <th>1963-01-11</th>\n",
              "      <td>NaN</td>\n",
              "    </tr>\n",
              "    <tr>\n",
              "      <th>1963-01-12</th>\n",
              "      <td>NaN</td>\n",
              "    </tr>\n",
              "    <tr>\n",
              "      <th>1963-01-13</th>\n",
              "      <td>NaN</td>\n",
              "    </tr>\n",
              "    <tr>\n",
              "      <th>1963-01-14</th>\n",
              "      <td>NaN</td>\n",
              "    </tr>\n",
              "    <tr>\n",
              "      <th>1963-01-15</th>\n",
              "      <td>NaN</td>\n",
              "    </tr>\n",
              "    <tr>\n",
              "      <th>1963-01-16</th>\n",
              "      <td>NaN</td>\n",
              "    </tr>\n",
              "    <tr>\n",
              "      <th>1963-01-17</th>\n",
              "      <td>NaN</td>\n",
              "    </tr>\n",
              "    <tr>\n",
              "      <th>1963-01-18</th>\n",
              "      <td>NaN</td>\n",
              "    </tr>\n",
              "    <tr>\n",
              "      <th>1963-01-19</th>\n",
              "      <td>NaN</td>\n",
              "    </tr>\n",
              "    <tr>\n",
              "      <th>1963-01-20</th>\n",
              "      <td>NaN</td>\n",
              "    </tr>\n",
              "    <tr>\n",
              "      <th>1963-01-21</th>\n",
              "      <td>NaN</td>\n",
              "    </tr>\n",
              "    <tr>\n",
              "      <th>1963-01-22</th>\n",
              "      <td>NaN</td>\n",
              "    </tr>\n",
              "    <tr>\n",
              "      <th>1963-01-23</th>\n",
              "      <td>NaN</td>\n",
              "    </tr>\n",
              "    <tr>\n",
              "      <th>1963-01-24</th>\n",
              "      <td>NaN</td>\n",
              "    </tr>\n",
              "    <tr>\n",
              "      <th>1963-01-25</th>\n",
              "      <td>NaN</td>\n",
              "    </tr>\n",
              "    <tr>\n",
              "      <th>1963-01-26</th>\n",
              "      <td>NaN</td>\n",
              "    </tr>\n",
              "    <tr>\n",
              "      <th>1963-01-27</th>\n",
              "      <td>NaN</td>\n",
              "    </tr>\n",
              "    <tr>\n",
              "      <th>1963-01-28</th>\n",
              "      <td>NaN</td>\n",
              "    </tr>\n",
              "    <tr>\n",
              "      <th>1963-01-29</th>\n",
              "      <td>NaN</td>\n",
              "    </tr>\n",
              "    <tr>\n",
              "      <th>1963-01-30</th>\n",
              "      <td>NaN</td>\n",
              "    </tr>\n",
              "    <tr>\n",
              "      <th>1963-01-31</th>\n",
              "      <td>NaN</td>\n",
              "    </tr>\n",
              "    <tr>\n",
              "      <th>1963-02-01</th>\n",
              "      <td>6178.0</td>\n",
              "    </tr>\n",
              "    <tr>\n",
              "      <th>1963-02-02</th>\n",
              "      <td>NaN</td>\n",
              "    </tr>\n",
              "    <tr>\n",
              "      <th>1963-02-03</th>\n",
              "      <td>NaN</td>\n",
              "    </tr>\n",
              "    <tr>\n",
              "      <th>1963-02-04</th>\n",
              "      <td>NaN</td>\n",
              "    </tr>\n",
              "  </tbody>\n",
              "</table>\n",
              "</div>"
            ],
            "text/plain": [
              "            MilesMM\n",
              "Month              \n",
              "1963-01-01   6827.0\n",
              "1963-01-02      NaN\n",
              "1963-01-03      NaN\n",
              "1963-01-04      NaN\n",
              "1963-01-05      NaN\n",
              "1963-01-06      NaN\n",
              "1963-01-07      NaN\n",
              "1963-01-08      NaN\n",
              "1963-01-09      NaN\n",
              "1963-01-10      NaN\n",
              "1963-01-11      NaN\n",
              "1963-01-12      NaN\n",
              "1963-01-13      NaN\n",
              "1963-01-14      NaN\n",
              "1963-01-15      NaN\n",
              "1963-01-16      NaN\n",
              "1963-01-17      NaN\n",
              "1963-01-18      NaN\n",
              "1963-01-19      NaN\n",
              "1963-01-20      NaN\n",
              "1963-01-21      NaN\n",
              "1963-01-22      NaN\n",
              "1963-01-23      NaN\n",
              "1963-01-24      NaN\n",
              "1963-01-25      NaN\n",
              "1963-01-26      NaN\n",
              "1963-01-27      NaN\n",
              "1963-01-28      NaN\n",
              "1963-01-29      NaN\n",
              "1963-01-30      NaN\n",
              "1963-01-31      NaN\n",
              "1963-02-01   6178.0\n",
              "1963-02-02      NaN\n",
              "1963-02-03      NaN\n",
              "1963-02-04      NaN"
            ]
          },
          "metadata": {},
          "execution_count": 68
        }
      ]
    },
    {
      "cell_type": "code",
      "metadata": {
        "id": "kozVIX3lPp-5"
      },
      "source": [
        "interpolated_miles_data = upsampled_miles_data.interpolate(method= 'linear')"
      ],
      "execution_count": 69,
      "outputs": []
    },
    {
      "cell_type": "code",
      "metadata": {
        "colab": {
          "base_uri": "https://localhost:8080/",
          "height": 1000
        },
        "id": "da3tTDQpQBx0",
        "outputId": "3e2b4ad3-f2ef-4b27-c3a4-c1ec31c860bb"
      },
      "source": [
        "interpolated_miles_data.head(32)"
      ],
      "execution_count": 70,
      "outputs": [
        {
          "output_type": "execute_result",
          "data": {
            "text/html": [
              "<div>\n",
              "<style scoped>\n",
              "    .dataframe tbody tr th:only-of-type {\n",
              "        vertical-align: middle;\n",
              "    }\n",
              "\n",
              "    .dataframe tbody tr th {\n",
              "        vertical-align: top;\n",
              "    }\n",
              "\n",
              "    .dataframe thead th {\n",
              "        text-align: right;\n",
              "    }\n",
              "</style>\n",
              "<table border=\"1\" class=\"dataframe\">\n",
              "  <thead>\n",
              "    <tr style=\"text-align: right;\">\n",
              "      <th></th>\n",
              "      <th>MilesMM</th>\n",
              "    </tr>\n",
              "    <tr>\n",
              "      <th>Month</th>\n",
              "      <th></th>\n",
              "    </tr>\n",
              "  </thead>\n",
              "  <tbody>\n",
              "    <tr>\n",
              "      <th>1963-01-01</th>\n",
              "      <td>6827.000000</td>\n",
              "    </tr>\n",
              "    <tr>\n",
              "      <th>1963-01-02</th>\n",
              "      <td>6806.064516</td>\n",
              "    </tr>\n",
              "    <tr>\n",
              "      <th>1963-01-03</th>\n",
              "      <td>6785.129032</td>\n",
              "    </tr>\n",
              "    <tr>\n",
              "      <th>1963-01-04</th>\n",
              "      <td>6764.193548</td>\n",
              "    </tr>\n",
              "    <tr>\n",
              "      <th>1963-01-05</th>\n",
              "      <td>6743.258065</td>\n",
              "    </tr>\n",
              "    <tr>\n",
              "      <th>1963-01-06</th>\n",
              "      <td>6722.322581</td>\n",
              "    </tr>\n",
              "    <tr>\n",
              "      <th>1963-01-07</th>\n",
              "      <td>6701.387097</td>\n",
              "    </tr>\n",
              "    <tr>\n",
              "      <th>1963-01-08</th>\n",
              "      <td>6680.451613</td>\n",
              "    </tr>\n",
              "    <tr>\n",
              "      <th>1963-01-09</th>\n",
              "      <td>6659.516129</td>\n",
              "    </tr>\n",
              "    <tr>\n",
              "      <th>1963-01-10</th>\n",
              "      <td>6638.580645</td>\n",
              "    </tr>\n",
              "    <tr>\n",
              "      <th>1963-01-11</th>\n",
              "      <td>6617.645161</td>\n",
              "    </tr>\n",
              "    <tr>\n",
              "      <th>1963-01-12</th>\n",
              "      <td>6596.709677</td>\n",
              "    </tr>\n",
              "    <tr>\n",
              "      <th>1963-01-13</th>\n",
              "      <td>6575.774194</td>\n",
              "    </tr>\n",
              "    <tr>\n",
              "      <th>1963-01-14</th>\n",
              "      <td>6554.838710</td>\n",
              "    </tr>\n",
              "    <tr>\n",
              "      <th>1963-01-15</th>\n",
              "      <td>6533.903226</td>\n",
              "    </tr>\n",
              "    <tr>\n",
              "      <th>1963-01-16</th>\n",
              "      <td>6512.967742</td>\n",
              "    </tr>\n",
              "    <tr>\n",
              "      <th>1963-01-17</th>\n",
              "      <td>6492.032258</td>\n",
              "    </tr>\n",
              "    <tr>\n",
              "      <th>1963-01-18</th>\n",
              "      <td>6471.096774</td>\n",
              "    </tr>\n",
              "    <tr>\n",
              "      <th>1963-01-19</th>\n",
              "      <td>6450.161290</td>\n",
              "    </tr>\n",
              "    <tr>\n",
              "      <th>1963-01-20</th>\n",
              "      <td>6429.225806</td>\n",
              "    </tr>\n",
              "    <tr>\n",
              "      <th>1963-01-21</th>\n",
              "      <td>6408.290323</td>\n",
              "    </tr>\n",
              "    <tr>\n",
              "      <th>1963-01-22</th>\n",
              "      <td>6387.354839</td>\n",
              "    </tr>\n",
              "    <tr>\n",
              "      <th>1963-01-23</th>\n",
              "      <td>6366.419355</td>\n",
              "    </tr>\n",
              "    <tr>\n",
              "      <th>1963-01-24</th>\n",
              "      <td>6345.483871</td>\n",
              "    </tr>\n",
              "    <tr>\n",
              "      <th>1963-01-25</th>\n",
              "      <td>6324.548387</td>\n",
              "    </tr>\n",
              "    <tr>\n",
              "      <th>1963-01-26</th>\n",
              "      <td>6303.612903</td>\n",
              "    </tr>\n",
              "    <tr>\n",
              "      <th>1963-01-27</th>\n",
              "      <td>6282.677419</td>\n",
              "    </tr>\n",
              "    <tr>\n",
              "      <th>1963-01-28</th>\n",
              "      <td>6261.741935</td>\n",
              "    </tr>\n",
              "    <tr>\n",
              "      <th>1963-01-29</th>\n",
              "      <td>6240.806452</td>\n",
              "    </tr>\n",
              "    <tr>\n",
              "      <th>1963-01-30</th>\n",
              "      <td>6219.870968</td>\n",
              "    </tr>\n",
              "    <tr>\n",
              "      <th>1963-01-31</th>\n",
              "      <td>6198.935484</td>\n",
              "    </tr>\n",
              "    <tr>\n",
              "      <th>1963-02-01</th>\n",
              "      <td>6178.000000</td>\n",
              "    </tr>\n",
              "  </tbody>\n",
              "</table>\n",
              "</div>"
            ],
            "text/plain": [
              "                MilesMM\n",
              "Month                  \n",
              "1963-01-01  6827.000000\n",
              "1963-01-02  6806.064516\n",
              "1963-01-03  6785.129032\n",
              "1963-01-04  6764.193548\n",
              "1963-01-05  6743.258065\n",
              "1963-01-06  6722.322581\n",
              "1963-01-07  6701.387097\n",
              "1963-01-08  6680.451613\n",
              "1963-01-09  6659.516129\n",
              "1963-01-10  6638.580645\n",
              "1963-01-11  6617.645161\n",
              "1963-01-12  6596.709677\n",
              "1963-01-13  6575.774194\n",
              "1963-01-14  6554.838710\n",
              "1963-01-15  6533.903226\n",
              "1963-01-16  6512.967742\n",
              "1963-01-17  6492.032258\n",
              "1963-01-18  6471.096774\n",
              "1963-01-19  6450.161290\n",
              "1963-01-20  6429.225806\n",
              "1963-01-21  6408.290323\n",
              "1963-01-22  6387.354839\n",
              "1963-01-23  6366.419355\n",
              "1963-01-24  6345.483871\n",
              "1963-01-25  6324.548387\n",
              "1963-01-26  6303.612903\n",
              "1963-01-27  6282.677419\n",
              "1963-01-28  6261.741935\n",
              "1963-01-29  6240.806452\n",
              "1963-01-30  6219.870968\n",
              "1963-01-31  6198.935484\n",
              "1963-02-01  6178.000000"
            ]
          },
          "metadata": {},
          "execution_count": 70
        }
      ]
    },
    {
      "cell_type": "code",
      "metadata": {
        "colab": {
          "base_uri": "https://localhost:8080/",
          "height": 296
        },
        "id": "ReHylw0fQHtU",
        "outputId": "7cbc79bd-3bc0-496b-b55d-6f102c3cb453"
      },
      "source": [
        "interpolated_miles_data.plot()"
      ],
      "execution_count": 71,
      "outputs": [
        {
          "output_type": "execute_result",
          "data": {
            "text/plain": [
              "<matplotlib.axes._subplots.AxesSubplot at 0x7f95e76c5350>"
            ]
          },
          "metadata": {},
          "execution_count": 71
        },
        {
          "output_type": "display_data",
          "data": {
            "image/png": "[encoded data removed]",
            "text/plain": [
              "<Figure size 432x288 with 1 Axes>"
            ]
          },
          "metadata": {
            "needs_background": "light"
          }
        }
      ]
    },
    {
      "cell_type": "code",
      "metadata": {
        "id": "ZvAhtPzUQLbL"
      },
      "source": [
        "poly_interpolated_miles_data = upsampled_miles_data.interpolate(method = 'spline', order = 2)"
      ],
      "execution_count": 72,
      "outputs": []
    },
    {
      "cell_type": "code",
      "metadata": {
        "colab": {
          "base_uri": "https://localhost:8080/",
          "height": 296
        },
        "id": "MgI8-USHQecK",
        "outputId": "a851e8c2-f2b4-4f53-97b6-c383a3cb17c1"
      },
      "source": [
        "poly_interpolated_miles_data.plot()"
      ],
      "execution_count": 73,
      "outputs": [
        {
          "output_type": "execute_result",
          "data": {
            "text/plain": [
              "<matplotlib.axes._subplots.AxesSubplot at 0x7f95e75a8910>"
            ]
          },
          "metadata": {},
          "execution_count": 73
        },
        {
          "output_type": "display_data",
          "data": {
            "image/png": "[encoded data removed]",
            "text/plain": [
              "<Figure size 432x288 with 1 Axes>"
            ]
          },
          "metadata": {
            "needs_background": "light"
          }
        }
      ]
    },
    {
      "cell_type": "code",
      "metadata": {
        "id": "9q1Ba2GEQmx7"
      },
      "source": [
        ""
      ],
      "execution_count": 73,
      "outputs": []
    }
  ]
}