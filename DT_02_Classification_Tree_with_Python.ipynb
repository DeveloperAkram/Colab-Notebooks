{
  "nbformat": 4,
  "nbformat_minor": 0,
  "metadata": {
    "colab": {
      "name": "DT_02. Classification_Tree with Python.ipynb",
      "provenance": [],
      "authorship_tag": "ABX9TyPvPe4bE3MScbuy7iQ0p2MG",
      "include_colab_link": true
    },
    "kernelspec": {
      "name": "python3",
      "display_name": "Python 3"
    },
    "language_info": {
      "name": "python"
    }
  },
  "cells": [
    {
      "cell_type": "markdown",
      "metadata": {
        "id": "view-in-github",
        "colab_type": "text"
      },
      "source": [
        "<a href=\"https://colab.research.google.com/github/DeveloperAkram/Colab-Notebooks/blob/master/DT_02_Classification_Tree_with_Python.ipynb\" target=\"_parent\"><img src=\"https://colab.research.google.com/assets/colab-badge.svg\" alt=\"Open In Colab\"/></a>"
      ]
    },
    {
      "cell_type": "markdown",
      "metadata": {
        "id": "M_S2zRg5K__f"
      },
      "source": [
        "**Importing the Dependencies and Dataset**"
      ]
    },
    {
      "cell_type": "code",
      "metadata": {
        "id": "RA12_jnHKhpL"
      },
      "source": [
        "import numpy as np\n",
        "import pandas as pd\n",
        "import seaborn as sns\n",
        "import matplotlib.pyplot as plt\n"
      ],
      "execution_count": 81,
      "outputs": []
    },
    {
      "cell_type": "code",
      "metadata": {
        "colab": {
          "base_uri": "https://localhost:8080/"
        },
        "id": "1uJ351bGNiKB",
        "outputId": "9d263795-f61e-47fb-ec3f-cf902af3b4e3"
      },
      "source": [
        "from google.colab import drive\n",
        "drive.mount('/content/akramchy')"
      ],
      "execution_count": 82,
      "outputs": [
        {
          "output_type": "stream",
          "name": "stdout",
          "text": [
            "Drive already mounted at /content/akramchy; to attempt to forcibly remount, call drive.mount(\"/content/akramchy\", force_remount=True).\n"
          ]
        }
      ]
    },
    {
      "cell_type": "code",
      "metadata": {
        "id": "CfpjyX4fNocd"
      },
      "source": [
        "dataset = pd.read_csv('/content/akramchy/MyDrive/Colab Notebooks/Decision Trees - Basics/Movie_classification.csv')"
      ],
      "execution_count": 83,
      "outputs": []
    },
    {
      "cell_type": "code",
      "metadata": {
        "colab": {
          "base_uri": "https://localhost:8080/",
          "height": 240
        },
        "id": "hd2WktJtN3MO",
        "outputId": "5de727b1-2a41-45fb-af7b-51088cb71f9e"
      },
      "source": [
        "dataset.head()"
      ],
      "execution_count": 84,
      "outputs": [
        {
          "output_type": "execute_result",
          "data": {
            "text/html": [
              "<div>\n",
              "<style scoped>\n",
              "    .dataframe tbody tr th:only-of-type {\n",
              "        vertical-align: middle;\n",
              "    }\n",
              "\n",
              "    .dataframe tbody tr th {\n",
              "        vertical-align: top;\n",
              "    }\n",
              "\n",
              "    .dataframe thead th {\n",
              "        text-align: right;\n",
              "    }\n",
              "</style>\n",
              "<table border=\"1\" class=\"dataframe\">\n",
              "  <thead>\n",
              "    <tr style=\"text-align: right;\">\n",
              "      <th></th>\n",
              "      <th>Marketing expense</th>\n",
              "      <th>Production expense</th>\n",
              "      <th>Multiplex coverage</th>\n",
              "      <th>Budget</th>\n",
              "      <th>Movie_length</th>\n",
              "      <th>Lead_ Actor_Rating</th>\n",
              "      <th>Lead_Actress_rating</th>\n",
              "      <th>Director_rating</th>\n",
              "      <th>Producer_rating</th>\n",
              "      <th>Critic_rating</th>\n",
              "      <th>Trailer_views</th>\n",
              "      <th>3D_available</th>\n",
              "      <th>Time_taken</th>\n",
              "      <th>Twitter_hastags</th>\n",
              "      <th>Genre</th>\n",
              "      <th>Avg_age_actors</th>\n",
              "      <th>Num_multiplex</th>\n",
              "      <th>Collection</th>\n",
              "      <th>Start_Tech_Oscar</th>\n",
              "    </tr>\n",
              "  </thead>\n",
              "  <tbody>\n",
              "    <tr>\n",
              "      <th>0</th>\n",
              "      <td>20.1264</td>\n",
              "      <td>59.62</td>\n",
              "      <td>0.462</td>\n",
              "      <td>36524.125</td>\n",
              "      <td>138.7</td>\n",
              "      <td>7.825</td>\n",
              "      <td>8.095</td>\n",
              "      <td>7.910</td>\n",
              "      <td>7.995</td>\n",
              "      <td>7.94</td>\n",
              "      <td>527367</td>\n",
              "      <td>YES</td>\n",
              "      <td>109.60</td>\n",
              "      <td>223.840</td>\n",
              "      <td>Thriller</td>\n",
              "      <td>23</td>\n",
              "      <td>494</td>\n",
              "      <td>48000</td>\n",
              "      <td>1</td>\n",
              "    </tr>\n",
              "    <tr>\n",
              "      <th>1</th>\n",
              "      <td>20.5462</td>\n",
              "      <td>69.14</td>\n",
              "      <td>0.531</td>\n",
              "      <td>35668.655</td>\n",
              "      <td>152.4</td>\n",
              "      <td>7.505</td>\n",
              "      <td>7.650</td>\n",
              "      <td>7.440</td>\n",
              "      <td>7.470</td>\n",
              "      <td>7.44</td>\n",
              "      <td>494055</td>\n",
              "      <td>NO</td>\n",
              "      <td>146.64</td>\n",
              "      <td>243.456</td>\n",
              "      <td>Drama</td>\n",
              "      <td>42</td>\n",
              "      <td>462</td>\n",
              "      <td>43200</td>\n",
              "      <td>0</td>\n",
              "    </tr>\n",
              "    <tr>\n",
              "      <th>2</th>\n",
              "      <td>20.5458</td>\n",
              "      <td>69.14</td>\n",
              "      <td>0.531</td>\n",
              "      <td>39912.675</td>\n",
              "      <td>134.6</td>\n",
              "      <td>7.485</td>\n",
              "      <td>7.570</td>\n",
              "      <td>7.495</td>\n",
              "      <td>7.515</td>\n",
              "      <td>7.44</td>\n",
              "      <td>547051</td>\n",
              "      <td>NO</td>\n",
              "      <td>147.88</td>\n",
              "      <td>2022.400</td>\n",
              "      <td>Comedy</td>\n",
              "      <td>38</td>\n",
              "      <td>458</td>\n",
              "      <td>69400</td>\n",
              "      <td>1</td>\n",
              "    </tr>\n",
              "    <tr>\n",
              "      <th>3</th>\n",
              "      <td>20.6474</td>\n",
              "      <td>59.36</td>\n",
              "      <td>0.542</td>\n",
              "      <td>38873.890</td>\n",
              "      <td>119.3</td>\n",
              "      <td>6.895</td>\n",
              "      <td>7.035</td>\n",
              "      <td>6.920</td>\n",
              "      <td>7.020</td>\n",
              "      <td>8.26</td>\n",
              "      <td>516279</td>\n",
              "      <td>YES</td>\n",
              "      <td>185.36</td>\n",
              "      <td>225.344</td>\n",
              "      <td>Drama</td>\n",
              "      <td>45</td>\n",
              "      <td>472</td>\n",
              "      <td>66800</td>\n",
              "      <td>1</td>\n",
              "    </tr>\n",
              "    <tr>\n",
              "      <th>4</th>\n",
              "      <td>21.3810</td>\n",
              "      <td>59.36</td>\n",
              "      <td>0.542</td>\n",
              "      <td>39701.585</td>\n",
              "      <td>127.7</td>\n",
              "      <td>6.920</td>\n",
              "      <td>7.070</td>\n",
              "      <td>6.815</td>\n",
              "      <td>7.070</td>\n",
              "      <td>8.26</td>\n",
              "      <td>531448</td>\n",
              "      <td>NO</td>\n",
              "      <td>176.48</td>\n",
              "      <td>225.792</td>\n",
              "      <td>Drama</td>\n",
              "      <td>55</td>\n",
              "      <td>395</td>\n",
              "      <td>72400</td>\n",
              "      <td>1</td>\n",
              "    </tr>\n",
              "  </tbody>\n",
              "</table>\n",
              "</div>"
            ],
            "text/plain": [
              "   Marketing expense  Production expense  ...  Collection  Start_Tech_Oscar\n",
              "0            20.1264               59.62  ...       48000                 1\n",
              "1            20.5462               69.14  ...       43200                 0\n",
              "2            20.5458               69.14  ...       69400                 1\n",
              "3            20.6474               59.36  ...       66800                 1\n",
              "4            21.3810               59.36  ...       72400                 1\n",
              "\n",
              "[5 rows x 19 columns]"
            ]
          },
          "metadata": {},
          "execution_count": 84
        }
      ]
    },
    {
      "cell_type": "code",
      "metadata": {
        "colab": {
          "base_uri": "https://localhost:8080/",
          "height": 240
        },
        "id": "5sjoeCKKN7dB",
        "outputId": "766b0b79-26c9-4bfc-afd8-6abc6c92cdc1"
      },
      "source": [
        "dataset.tail()"
      ],
      "execution_count": 85,
      "outputs": [
        {
          "output_type": "execute_result",
          "data": {
            "text/html": [
              "<div>\n",
              "<style scoped>\n",
              "    .dataframe tbody tr th:only-of-type {\n",
              "        vertical-align: middle;\n",
              "    }\n",
              "\n",
              "    .dataframe tbody tr th {\n",
              "        vertical-align: top;\n",
              "    }\n",
              "\n",
              "    .dataframe thead th {\n",
              "        text-align: right;\n",
              "    }\n",
              "</style>\n",
              "<table border=\"1\" class=\"dataframe\">\n",
              "  <thead>\n",
              "    <tr style=\"text-align: right;\">\n",
              "      <th></th>\n",
              "      <th>Marketing expense</th>\n",
              "      <th>Production expense</th>\n",
              "      <th>Multiplex coverage</th>\n",
              "      <th>Budget</th>\n",
              "      <th>Movie_length</th>\n",
              "      <th>Lead_ Actor_Rating</th>\n",
              "      <th>Lead_Actress_rating</th>\n",
              "      <th>Director_rating</th>\n",
              "      <th>Producer_rating</th>\n",
              "      <th>Critic_rating</th>\n",
              "      <th>Trailer_views</th>\n",
              "      <th>3D_available</th>\n",
              "      <th>Time_taken</th>\n",
              "      <th>Twitter_hastags</th>\n",
              "      <th>Genre</th>\n",
              "      <th>Avg_age_actors</th>\n",
              "      <th>Num_multiplex</th>\n",
              "      <th>Collection</th>\n",
              "      <th>Start_Tech_Oscar</th>\n",
              "    </tr>\n",
              "  </thead>\n",
              "  <tbody>\n",
              "    <tr>\n",
              "      <th>501</th>\n",
              "      <td>21.2526</td>\n",
              "      <td>78.86</td>\n",
              "      <td>0.427</td>\n",
              "      <td>36624.115</td>\n",
              "      <td>142.6</td>\n",
              "      <td>8.68</td>\n",
              "      <td>8.775</td>\n",
              "      <td>8.620</td>\n",
              "      <td>8.970</td>\n",
              "      <td>6.8</td>\n",
              "      <td>492480</td>\n",
              "      <td>NO</td>\n",
              "      <td>186.96</td>\n",
              "      <td>243.584</td>\n",
              "      <td>Action</td>\n",
              "      <td>27</td>\n",
              "      <td>561</td>\n",
              "      <td>44800</td>\n",
              "      <td>0</td>\n",
              "    </tr>\n",
              "    <tr>\n",
              "      <th>502</th>\n",
              "      <td>20.9054</td>\n",
              "      <td>78.86</td>\n",
              "      <td>0.427</td>\n",
              "      <td>33996.600</td>\n",
              "      <td>150.2</td>\n",
              "      <td>8.78</td>\n",
              "      <td>8.945</td>\n",
              "      <td>8.770</td>\n",
              "      <td>8.930</td>\n",
              "      <td>7.8</td>\n",
              "      <td>482875</td>\n",
              "      <td>YES</td>\n",
              "      <td>132.24</td>\n",
              "      <td>263.296</td>\n",
              "      <td>Action</td>\n",
              "      <td>20</td>\n",
              "      <td>600</td>\n",
              "      <td>41200</td>\n",
              "      <td>0</td>\n",
              "    </tr>\n",
              "    <tr>\n",
              "      <th>503</th>\n",
              "      <td>21.2152</td>\n",
              "      <td>78.86</td>\n",
              "      <td>0.427</td>\n",
              "      <td>38751.680</td>\n",
              "      <td>164.5</td>\n",
              "      <td>8.83</td>\n",
              "      <td>8.970</td>\n",
              "      <td>8.855</td>\n",
              "      <td>9.010</td>\n",
              "      <td>7.8</td>\n",
              "      <td>532239</td>\n",
              "      <td>NO</td>\n",
              "      <td>109.56</td>\n",
              "      <td>243.824</td>\n",
              "      <td>Comedy</td>\n",
              "      <td>31</td>\n",
              "      <td>576</td>\n",
              "      <td>47800</td>\n",
              "      <td>0</td>\n",
              "    </tr>\n",
              "    <tr>\n",
              "      <th>504</th>\n",
              "      <td>22.1918</td>\n",
              "      <td>78.86</td>\n",
              "      <td>0.427</td>\n",
              "      <td>37740.670</td>\n",
              "      <td>162.8</td>\n",
              "      <td>8.73</td>\n",
              "      <td>8.845</td>\n",
              "      <td>8.800</td>\n",
              "      <td>8.845</td>\n",
              "      <td>6.8</td>\n",
              "      <td>496077</td>\n",
              "      <td>YES</td>\n",
              "      <td>158.80</td>\n",
              "      <td>303.520</td>\n",
              "      <td>Comedy</td>\n",
              "      <td>47</td>\n",
              "      <td>607</td>\n",
              "      <td>44000</td>\n",
              "      <td>0</td>\n",
              "    </tr>\n",
              "    <tr>\n",
              "      <th>505</th>\n",
              "      <td>20.9482</td>\n",
              "      <td>78.86</td>\n",
              "      <td>0.427</td>\n",
              "      <td>33496.650</td>\n",
              "      <td>154.3</td>\n",
              "      <td>8.64</td>\n",
              "      <td>8.880</td>\n",
              "      <td>8.680</td>\n",
              "      <td>8.790</td>\n",
              "      <td>6.8</td>\n",
              "      <td>518438</td>\n",
              "      <td>YES</td>\n",
              "      <td>205.60</td>\n",
              "      <td>203.040</td>\n",
              "      <td>Comedy</td>\n",
              "      <td>45</td>\n",
              "      <td>604</td>\n",
              "      <td>38000</td>\n",
              "      <td>0</td>\n",
              "    </tr>\n",
              "  </tbody>\n",
              "</table>\n",
              "</div>"
            ],
            "text/plain": [
              "     Marketing expense  Production expense  ...  Collection  Start_Tech_Oscar\n",
              "501            21.2526               78.86  ...       44800                 0\n",
              "502            20.9054               78.86  ...       41200                 0\n",
              "503            21.2152               78.86  ...       47800                 0\n",
              "504            22.1918               78.86  ...       44000                 0\n",
              "505            20.9482               78.86  ...       38000                 0\n",
              "\n",
              "[5 rows x 19 columns]"
            ]
          },
          "metadata": {},
          "execution_count": 85
        }
      ]
    },
    {
      "cell_type": "code",
      "metadata": {
        "colab": {
          "base_uri": "https://localhost:8080/"
        },
        "id": "hCM_SViIN-XT",
        "outputId": "2380e0a2-2ecf-4b2f-bfee-e47fde3eb8aa"
      },
      "source": [
        "dataset.shape"
      ],
      "execution_count": 86,
      "outputs": [
        {
          "output_type": "execute_result",
          "data": {
            "text/plain": [
              "(506, 19)"
            ]
          },
          "metadata": {},
          "execution_count": 86
        }
      ]
    },
    {
      "cell_type": "code",
      "metadata": {
        "colab": {
          "base_uri": "https://localhost:8080/"
        },
        "id": "X0TFiTjjOLro",
        "outputId": "eb03de67-e227-4f1f-af63-4a52efee0544"
      },
      "source": [
        "dataset.info()"
      ],
      "execution_count": 87,
      "outputs": [
        {
          "output_type": "stream",
          "name": "stdout",
          "text": [
            "<class 'pandas.core.frame.DataFrame'>\n",
            "RangeIndex: 506 entries, 0 to 505\n",
            "Data columns (total 19 columns):\n",
            " #   Column               Non-Null Count  Dtype  \n",
            "---  ------               --------------  -----  \n",
            " 0   Marketing expense    506 non-null    float64\n",
            " 1   Production expense   506 non-null    float64\n",
            " 2   Multiplex coverage   506 non-null    float64\n",
            " 3   Budget               506 non-null    float64\n",
            " 4   Movie_length         506 non-null    float64\n",
            " 5   Lead_ Actor_Rating   506 non-null    float64\n",
            " 6   Lead_Actress_rating  506 non-null    float64\n",
            " 7   Director_rating      506 non-null    float64\n",
            " 8   Producer_rating      506 non-null    float64\n",
            " 9   Critic_rating        506 non-null    float64\n",
            " 10  Trailer_views        506 non-null    int64  \n",
            " 11  3D_available         506 non-null    object \n",
            " 12  Time_taken           494 non-null    float64\n",
            " 13  Twitter_hastags      506 non-null    float64\n",
            " 14  Genre                506 non-null    object \n",
            " 15  Avg_age_actors       506 non-null    int64  \n",
            " 16  Num_multiplex        506 non-null    int64  \n",
            " 17  Collection           506 non-null    int64  \n",
            " 18  Start_Tech_Oscar     506 non-null    int64  \n",
            "dtypes: float64(12), int64(5), object(2)\n",
            "memory usage: 75.2+ KB\n"
          ]
        }
      ]
    },
    {
      "cell_type": "code",
      "metadata": {
        "colab": {
          "base_uri": "https://localhost:8080/"
        },
        "id": "4y2YctSLOPPR",
        "outputId": "69b31d60-9fd4-4833-a48f-c809a307180e"
      },
      "source": [
        "dataset.isnull().sum()"
      ],
      "execution_count": 88,
      "outputs": [
        {
          "output_type": "execute_result",
          "data": {
            "text/plain": [
              "Marketing expense       0\n",
              "Production expense      0\n",
              "Multiplex coverage      0\n",
              "Budget                  0\n",
              "Movie_length            0\n",
              "Lead_ Actor_Rating      0\n",
              "Lead_Actress_rating     0\n",
              "Director_rating         0\n",
              "Producer_rating         0\n",
              "Critic_rating           0\n",
              "Trailer_views           0\n",
              "3D_available            0\n",
              "Time_taken             12\n",
              "Twitter_hastags         0\n",
              "Genre                   0\n",
              "Avg_age_actors          0\n",
              "Num_multiplex           0\n",
              "Collection              0\n",
              "Start_Tech_Oscar        0\n",
              "dtype: int64"
            ]
          },
          "metadata": {},
          "execution_count": 88
        }
      ]
    },
    {
      "cell_type": "markdown",
      "metadata": {
        "id": "E1eie9X0OaD5"
      },
      "source": [
        "**Missing Value Imputation**"
      ]
    },
    {
      "cell_type": "code",
      "metadata": {
        "colab": {
          "base_uri": "https://localhost:8080/"
        },
        "id": "fC-TDm8DOWe7",
        "outputId": "7a98babc-7b11-4f07-8a1b-c9f7f7649839"
      },
      "source": [
        "dataset['Time_taken'].mean()"
      ],
      "execution_count": 89,
      "outputs": [
        {
          "output_type": "execute_result",
          "data": {
            "text/plain": [
              "157.39149797570855"
            ]
          },
          "metadata": {},
          "execution_count": 89
        }
      ]
    },
    {
      "cell_type": "code",
      "metadata": {
        "id": "2OEuuqIzOh5T"
      },
      "source": [
        "dataset['Time_taken'].fillna(value = dataset['Time_taken'].mean(), inplace = True)"
      ],
      "execution_count": 90,
      "outputs": []
    },
    {
      "cell_type": "code",
      "metadata": {
        "colab": {
          "base_uri": "https://localhost:8080/"
        },
        "id": "g4uNeNfDOzuu",
        "outputId": "a82130c4-767e-44dc-ac8a-9e550107b1ed"
      },
      "source": [
        "dataset.info()"
      ],
      "execution_count": 91,
      "outputs": [
        {
          "output_type": "stream",
          "name": "stdout",
          "text": [
            "<class 'pandas.core.frame.DataFrame'>\n",
            "RangeIndex: 506 entries, 0 to 505\n",
            "Data columns (total 19 columns):\n",
            " #   Column               Non-Null Count  Dtype  \n",
            "---  ------               --------------  -----  \n",
            " 0   Marketing expense    506 non-null    float64\n",
            " 1   Production expense   506 non-null    float64\n",
            " 2   Multiplex coverage   506 non-null    float64\n",
            " 3   Budget               506 non-null    float64\n",
            " 4   Movie_length         506 non-null    float64\n",
            " 5   Lead_ Actor_Rating   506 non-null    float64\n",
            " 6   Lead_Actress_rating  506 non-null    float64\n",
            " 7   Director_rating      506 non-null    float64\n",
            " 8   Producer_rating      506 non-null    float64\n",
            " 9   Critic_rating        506 non-null    float64\n",
            " 10  Trailer_views        506 non-null    int64  \n",
            " 11  3D_available         506 non-null    object \n",
            " 12  Time_taken           506 non-null    float64\n",
            " 13  Twitter_hastags      506 non-null    float64\n",
            " 14  Genre                506 non-null    object \n",
            " 15  Avg_age_actors       506 non-null    int64  \n",
            " 16  Num_multiplex        506 non-null    int64  \n",
            " 17  Collection           506 non-null    int64  \n",
            " 18  Start_Tech_Oscar     506 non-null    int64  \n",
            "dtypes: float64(12), int64(5), object(2)\n",
            "memory usage: 75.2+ KB\n"
          ]
        }
      ]
    },
    {
      "cell_type": "markdown",
      "metadata": {
        "id": "uHmL5jUvO6Ak"
      },
      "source": [
        "**Dummy Variable Creation**"
      ]
    },
    {
      "cell_type": "code",
      "metadata": {
        "colab": {
          "base_uri": "https://localhost:8080/",
          "height": 240
        },
        "id": "GVGksar2O2Xd",
        "outputId": "506f2e28-6b6b-4cc4-daf1-52c06123668b"
      },
      "source": [
        "dataset.head()"
      ],
      "execution_count": 92,
      "outputs": [
        {
          "output_type": "execute_result",
          "data": {
            "text/html": [
              "<div>\n",
              "<style scoped>\n",
              "    .dataframe tbody tr th:only-of-type {\n",
              "        vertical-align: middle;\n",
              "    }\n",
              "\n",
              "    .dataframe tbody tr th {\n",
              "        vertical-align: top;\n",
              "    }\n",
              "\n",
              "    .dataframe thead th {\n",
              "        text-align: right;\n",
              "    }\n",
              "</style>\n",
              "<table border=\"1\" class=\"dataframe\">\n",
              "  <thead>\n",
              "    <tr style=\"text-align: right;\">\n",
              "      <th></th>\n",
              "      <th>Marketing expense</th>\n",
              "      <th>Production expense</th>\n",
              "      <th>Multiplex coverage</th>\n",
              "      <th>Budget</th>\n",
              "      <th>Movie_length</th>\n",
              "      <th>Lead_ Actor_Rating</th>\n",
              "      <th>Lead_Actress_rating</th>\n",
              "      <th>Director_rating</th>\n",
              "      <th>Producer_rating</th>\n",
              "      <th>Critic_rating</th>\n",
              "      <th>Trailer_views</th>\n",
              "      <th>3D_available</th>\n",
              "      <th>Time_taken</th>\n",
              "      <th>Twitter_hastags</th>\n",
              "      <th>Genre</th>\n",
              "      <th>Avg_age_actors</th>\n",
              "      <th>Num_multiplex</th>\n",
              "      <th>Collection</th>\n",
              "      <th>Start_Tech_Oscar</th>\n",
              "    </tr>\n",
              "  </thead>\n",
              "  <tbody>\n",
              "    <tr>\n",
              "      <th>0</th>\n",
              "      <td>20.1264</td>\n",
              "      <td>59.62</td>\n",
              "      <td>0.462</td>\n",
              "      <td>36524.125</td>\n",
              "      <td>138.7</td>\n",
              "      <td>7.825</td>\n",
              "      <td>8.095</td>\n",
              "      <td>7.910</td>\n",
              "      <td>7.995</td>\n",
              "      <td>7.94</td>\n",
              "      <td>527367</td>\n",
              "      <td>YES</td>\n",
              "      <td>109.60</td>\n",
              "      <td>223.840</td>\n",
              "      <td>Thriller</td>\n",
              "      <td>23</td>\n",
              "      <td>494</td>\n",
              "      <td>48000</td>\n",
              "      <td>1</td>\n",
              "    </tr>\n",
              "    <tr>\n",
              "      <th>1</th>\n",
              "      <td>20.5462</td>\n",
              "      <td>69.14</td>\n",
              "      <td>0.531</td>\n",
              "      <td>35668.655</td>\n",
              "      <td>152.4</td>\n",
              "      <td>7.505</td>\n",
              "      <td>7.650</td>\n",
              "      <td>7.440</td>\n",
              "      <td>7.470</td>\n",
              "      <td>7.44</td>\n",
              "      <td>494055</td>\n",
              "      <td>NO</td>\n",
              "      <td>146.64</td>\n",
              "      <td>243.456</td>\n",
              "      <td>Drama</td>\n",
              "      <td>42</td>\n",
              "      <td>462</td>\n",
              "      <td>43200</td>\n",
              "      <td>0</td>\n",
              "    </tr>\n",
              "    <tr>\n",
              "      <th>2</th>\n",
              "      <td>20.5458</td>\n",
              "      <td>69.14</td>\n",
              "      <td>0.531</td>\n",
              "      <td>39912.675</td>\n",
              "      <td>134.6</td>\n",
              "      <td>7.485</td>\n",
              "      <td>7.570</td>\n",
              "      <td>7.495</td>\n",
              "      <td>7.515</td>\n",
              "      <td>7.44</td>\n",
              "      <td>547051</td>\n",
              "      <td>NO</td>\n",
              "      <td>147.88</td>\n",
              "      <td>2022.400</td>\n",
              "      <td>Comedy</td>\n",
              "      <td>38</td>\n",
              "      <td>458</td>\n",
              "      <td>69400</td>\n",
              "      <td>1</td>\n",
              "    </tr>\n",
              "    <tr>\n",
              "      <th>3</th>\n",
              "      <td>20.6474</td>\n",
              "      <td>59.36</td>\n",
              "      <td>0.542</td>\n",
              "      <td>38873.890</td>\n",
              "      <td>119.3</td>\n",
              "      <td>6.895</td>\n",
              "      <td>7.035</td>\n",
              "      <td>6.920</td>\n",
              "      <td>7.020</td>\n",
              "      <td>8.26</td>\n",
              "      <td>516279</td>\n",
              "      <td>YES</td>\n",
              "      <td>185.36</td>\n",
              "      <td>225.344</td>\n",
              "      <td>Drama</td>\n",
              "      <td>45</td>\n",
              "      <td>472</td>\n",
              "      <td>66800</td>\n",
              "      <td>1</td>\n",
              "    </tr>\n",
              "    <tr>\n",
              "      <th>4</th>\n",
              "      <td>21.3810</td>\n",
              "      <td>59.36</td>\n",
              "      <td>0.542</td>\n",
              "      <td>39701.585</td>\n",
              "      <td>127.7</td>\n",
              "      <td>6.920</td>\n",
              "      <td>7.070</td>\n",
              "      <td>6.815</td>\n",
              "      <td>7.070</td>\n",
              "      <td>8.26</td>\n",
              "      <td>531448</td>\n",
              "      <td>NO</td>\n",
              "      <td>176.48</td>\n",
              "      <td>225.792</td>\n",
              "      <td>Drama</td>\n",
              "      <td>55</td>\n",
              "      <td>395</td>\n",
              "      <td>72400</td>\n",
              "      <td>1</td>\n",
              "    </tr>\n",
              "  </tbody>\n",
              "</table>\n",
              "</div>"
            ],
            "text/plain": [
              "   Marketing expense  Production expense  ...  Collection  Start_Tech_Oscar\n",
              "0            20.1264               59.62  ...       48000                 1\n",
              "1            20.5462               69.14  ...       43200                 0\n",
              "2            20.5458               69.14  ...       69400                 1\n",
              "3            20.6474               59.36  ...       66800                 1\n",
              "4            21.3810               59.36  ...       72400                 1\n",
              "\n",
              "[5 rows x 19 columns]"
            ]
          },
          "metadata": {},
          "execution_count": 92
        }
      ]
    },
    {
      "cell_type": "code",
      "metadata": {
        "id": "tbfE9gOKO_IW"
      },
      "source": [
        "dataset = pd.get_dummies(dataset, columns= ['3D_available', 'Genre'], drop_first= True)"
      ],
      "execution_count": 93,
      "outputs": []
    },
    {
      "cell_type": "code",
      "metadata": {
        "colab": {
          "base_uri": "https://localhost:8080/",
          "height": 240
        },
        "id": "kWBBA99GPbVJ",
        "outputId": "7f3005a3-d8dc-480d-80de-fc4f86c82f94"
      },
      "source": [
        "dataset.head()"
      ],
      "execution_count": 94,
      "outputs": [
        {
          "output_type": "execute_result",
          "data": {
            "text/html": [
              "<div>\n",
              "<style scoped>\n",
              "    .dataframe tbody tr th:only-of-type {\n",
              "        vertical-align: middle;\n",
              "    }\n",
              "\n",
              "    .dataframe tbody tr th {\n",
              "        vertical-align: top;\n",
              "    }\n",
              "\n",
              "    .dataframe thead th {\n",
              "        text-align: right;\n",
              "    }\n",
              "</style>\n",
              "<table border=\"1\" class=\"dataframe\">\n",
              "  <thead>\n",
              "    <tr style=\"text-align: right;\">\n",
              "      <th></th>\n",
              "      <th>Marketing expense</th>\n",
              "      <th>Production expense</th>\n",
              "      <th>Multiplex coverage</th>\n",
              "      <th>Budget</th>\n",
              "      <th>Movie_length</th>\n",
              "      <th>Lead_ Actor_Rating</th>\n",
              "      <th>Lead_Actress_rating</th>\n",
              "      <th>Director_rating</th>\n",
              "      <th>Producer_rating</th>\n",
              "      <th>Critic_rating</th>\n",
              "      <th>Trailer_views</th>\n",
              "      <th>Time_taken</th>\n",
              "      <th>Twitter_hastags</th>\n",
              "      <th>Avg_age_actors</th>\n",
              "      <th>Num_multiplex</th>\n",
              "      <th>Collection</th>\n",
              "      <th>Start_Tech_Oscar</th>\n",
              "      <th>3D_available_YES</th>\n",
              "      <th>Genre_Comedy</th>\n",
              "      <th>Genre_Drama</th>\n",
              "      <th>Genre_Thriller</th>\n",
              "    </tr>\n",
              "  </thead>\n",
              "  <tbody>\n",
              "    <tr>\n",
              "      <th>0</th>\n",
              "      <td>20.1264</td>\n",
              "      <td>59.62</td>\n",
              "      <td>0.462</td>\n",
              "      <td>36524.125</td>\n",
              "      <td>138.7</td>\n",
              "      <td>7.825</td>\n",
              "      <td>8.095</td>\n",
              "      <td>7.910</td>\n",
              "      <td>7.995</td>\n",
              "      <td>7.94</td>\n",
              "      <td>527367</td>\n",
              "      <td>109.60</td>\n",
              "      <td>223.840</td>\n",
              "      <td>23</td>\n",
              "      <td>494</td>\n",
              "      <td>48000</td>\n",
              "      <td>1</td>\n",
              "      <td>1</td>\n",
              "      <td>0</td>\n",
              "      <td>0</td>\n",
              "      <td>1</td>\n",
              "    </tr>\n",
              "    <tr>\n",
              "      <th>1</th>\n",
              "      <td>20.5462</td>\n",
              "      <td>69.14</td>\n",
              "      <td>0.531</td>\n",
              "      <td>35668.655</td>\n",
              "      <td>152.4</td>\n",
              "      <td>7.505</td>\n",
              "      <td>7.650</td>\n",
              "      <td>7.440</td>\n",
              "      <td>7.470</td>\n",
              "      <td>7.44</td>\n",
              "      <td>494055</td>\n",
              "      <td>146.64</td>\n",
              "      <td>243.456</td>\n",
              "      <td>42</td>\n",
              "      <td>462</td>\n",
              "      <td>43200</td>\n",
              "      <td>0</td>\n",
              "      <td>0</td>\n",
              "      <td>0</td>\n",
              "      <td>1</td>\n",
              "      <td>0</td>\n",
              "    </tr>\n",
              "    <tr>\n",
              "      <th>2</th>\n",
              "      <td>20.5458</td>\n",
              "      <td>69.14</td>\n",
              "      <td>0.531</td>\n",
              "      <td>39912.675</td>\n",
              "      <td>134.6</td>\n",
              "      <td>7.485</td>\n",
              "      <td>7.570</td>\n",
              "      <td>7.495</td>\n",
              "      <td>7.515</td>\n",
              "      <td>7.44</td>\n",
              "      <td>547051</td>\n",
              "      <td>147.88</td>\n",
              "      <td>2022.400</td>\n",
              "      <td>38</td>\n",
              "      <td>458</td>\n",
              "      <td>69400</td>\n",
              "      <td>1</td>\n",
              "      <td>0</td>\n",
              "      <td>1</td>\n",
              "      <td>0</td>\n",
              "      <td>0</td>\n",
              "    </tr>\n",
              "    <tr>\n",
              "      <th>3</th>\n",
              "      <td>20.6474</td>\n",
              "      <td>59.36</td>\n",
              "      <td>0.542</td>\n",
              "      <td>38873.890</td>\n",
              "      <td>119.3</td>\n",
              "      <td>6.895</td>\n",
              "      <td>7.035</td>\n",
              "      <td>6.920</td>\n",
              "      <td>7.020</td>\n",
              "      <td>8.26</td>\n",
              "      <td>516279</td>\n",
              "      <td>185.36</td>\n",
              "      <td>225.344</td>\n",
              "      <td>45</td>\n",
              "      <td>472</td>\n",
              "      <td>66800</td>\n",
              "      <td>1</td>\n",
              "      <td>1</td>\n",
              "      <td>0</td>\n",
              "      <td>1</td>\n",
              "      <td>0</td>\n",
              "    </tr>\n",
              "    <tr>\n",
              "      <th>4</th>\n",
              "      <td>21.3810</td>\n",
              "      <td>59.36</td>\n",
              "      <td>0.542</td>\n",
              "      <td>39701.585</td>\n",
              "      <td>127.7</td>\n",
              "      <td>6.920</td>\n",
              "      <td>7.070</td>\n",
              "      <td>6.815</td>\n",
              "      <td>7.070</td>\n",
              "      <td>8.26</td>\n",
              "      <td>531448</td>\n",
              "      <td>176.48</td>\n",
              "      <td>225.792</td>\n",
              "      <td>55</td>\n",
              "      <td>395</td>\n",
              "      <td>72400</td>\n",
              "      <td>1</td>\n",
              "      <td>0</td>\n",
              "      <td>0</td>\n",
              "      <td>1</td>\n",
              "      <td>0</td>\n",
              "    </tr>\n",
              "  </tbody>\n",
              "</table>\n",
              "</div>"
            ],
            "text/plain": [
              "   Marketing expense  Production expense  ...  Genre_Drama  Genre_Thriller\n",
              "0            20.1264               59.62  ...            0               1\n",
              "1            20.5462               69.14  ...            1               0\n",
              "2            20.5458               69.14  ...            0               0\n",
              "3            20.6474               59.36  ...            1               0\n",
              "4            21.3810               59.36  ...            1               0\n",
              "\n",
              "[5 rows x 21 columns]"
            ]
          },
          "metadata": {},
          "execution_count": 94
        }
      ]
    },
    {
      "cell_type": "markdown",
      "metadata": {
        "id": "Dg2kqSc9PkcM"
      },
      "source": [
        "X-y Split"
      ]
    },
    {
      "cell_type": "code",
      "metadata": {
        "colab": {
          "base_uri": "https://localhost:8080/"
        },
        "id": "DUgld3cHPeOn",
        "outputId": "12fe588e-8792-4536-8ad5-01fa598f1e06"
      },
      "source": [
        "X = dataset.loc[:, dataset.columns != 'Start_Tech_Oscar']\n",
        "type(X)"
      ],
      "execution_count": 95,
      "outputs": [
        {
          "output_type": "execute_result",
          "data": {
            "text/plain": [
              "pandas.core.frame.DataFrame"
            ]
          },
          "metadata": {},
          "execution_count": 95
        }
      ]
    },
    {
      "cell_type": "code",
      "metadata": {
        "colab": {
          "base_uri": "https://localhost:8080/",
          "height": 240
        },
        "id": "Ro7IsiK1P6UP",
        "outputId": "abcd488a-f968-4845-d2dd-f9a2cb800de2"
      },
      "source": [
        "X.head()"
      ],
      "execution_count": 96,
      "outputs": [
        {
          "output_type": "execute_result",
          "data": {
            "text/html": [
              "<div>\n",
              "<style scoped>\n",
              "    .dataframe tbody tr th:only-of-type {\n",
              "        vertical-align: middle;\n",
              "    }\n",
              "\n",
              "    .dataframe tbody tr th {\n",
              "        vertical-align: top;\n",
              "    }\n",
              "\n",
              "    .dataframe thead th {\n",
              "        text-align: right;\n",
              "    }\n",
              "</style>\n",
              "<table border=\"1\" class=\"dataframe\">\n",
              "  <thead>\n",
              "    <tr style=\"text-align: right;\">\n",
              "      <th></th>\n",
              "      <th>Marketing expense</th>\n",
              "      <th>Production expense</th>\n",
              "      <th>Multiplex coverage</th>\n",
              "      <th>Budget</th>\n",
              "      <th>Movie_length</th>\n",
              "      <th>Lead_ Actor_Rating</th>\n",
              "      <th>Lead_Actress_rating</th>\n",
              "      <th>Director_rating</th>\n",
              "      <th>Producer_rating</th>\n",
              "      <th>Critic_rating</th>\n",
              "      <th>Trailer_views</th>\n",
              "      <th>Time_taken</th>\n",
              "      <th>Twitter_hastags</th>\n",
              "      <th>Avg_age_actors</th>\n",
              "      <th>Num_multiplex</th>\n",
              "      <th>Collection</th>\n",
              "      <th>3D_available_YES</th>\n",
              "      <th>Genre_Comedy</th>\n",
              "      <th>Genre_Drama</th>\n",
              "      <th>Genre_Thriller</th>\n",
              "    </tr>\n",
              "  </thead>\n",
              "  <tbody>\n",
              "    <tr>\n",
              "      <th>0</th>\n",
              "      <td>20.1264</td>\n",
              "      <td>59.62</td>\n",
              "      <td>0.462</td>\n",
              "      <td>36524.125</td>\n",
              "      <td>138.7</td>\n",
              "      <td>7.825</td>\n",
              "      <td>8.095</td>\n",
              "      <td>7.910</td>\n",
              "      <td>7.995</td>\n",
              "      <td>7.94</td>\n",
              "      <td>527367</td>\n",
              "      <td>109.60</td>\n",
              "      <td>223.840</td>\n",
              "      <td>23</td>\n",
              "      <td>494</td>\n",
              "      <td>48000</td>\n",
              "      <td>1</td>\n",
              "      <td>0</td>\n",
              "      <td>0</td>\n",
              "      <td>1</td>\n",
              "    </tr>\n",
              "    <tr>\n",
              "      <th>1</th>\n",
              "      <td>20.5462</td>\n",
              "      <td>69.14</td>\n",
              "      <td>0.531</td>\n",
              "      <td>35668.655</td>\n",
              "      <td>152.4</td>\n",
              "      <td>7.505</td>\n",
              "      <td>7.650</td>\n",
              "      <td>7.440</td>\n",
              "      <td>7.470</td>\n",
              "      <td>7.44</td>\n",
              "      <td>494055</td>\n",
              "      <td>146.64</td>\n",
              "      <td>243.456</td>\n",
              "      <td>42</td>\n",
              "      <td>462</td>\n",
              "      <td>43200</td>\n",
              "      <td>0</td>\n",
              "      <td>0</td>\n",
              "      <td>1</td>\n",
              "      <td>0</td>\n",
              "    </tr>\n",
              "    <tr>\n",
              "      <th>2</th>\n",
              "      <td>20.5458</td>\n",
              "      <td>69.14</td>\n",
              "      <td>0.531</td>\n",
              "      <td>39912.675</td>\n",
              "      <td>134.6</td>\n",
              "      <td>7.485</td>\n",
              "      <td>7.570</td>\n",
              "      <td>7.495</td>\n",
              "      <td>7.515</td>\n",
              "      <td>7.44</td>\n",
              "      <td>547051</td>\n",
              "      <td>147.88</td>\n",
              "      <td>2022.400</td>\n",
              "      <td>38</td>\n",
              "      <td>458</td>\n",
              "      <td>69400</td>\n",
              "      <td>0</td>\n",
              "      <td>1</td>\n",
              "      <td>0</td>\n",
              "      <td>0</td>\n",
              "    </tr>\n",
              "    <tr>\n",
              "      <th>3</th>\n",
              "      <td>20.6474</td>\n",
              "      <td>59.36</td>\n",
              "      <td>0.542</td>\n",
              "      <td>38873.890</td>\n",
              "      <td>119.3</td>\n",
              "      <td>6.895</td>\n",
              "      <td>7.035</td>\n",
              "      <td>6.920</td>\n",
              "      <td>7.020</td>\n",
              "      <td>8.26</td>\n",
              "      <td>516279</td>\n",
              "      <td>185.36</td>\n",
              "      <td>225.344</td>\n",
              "      <td>45</td>\n",
              "      <td>472</td>\n",
              "      <td>66800</td>\n",
              "      <td>1</td>\n",
              "      <td>0</td>\n",
              "      <td>1</td>\n",
              "      <td>0</td>\n",
              "    </tr>\n",
              "    <tr>\n",
              "      <th>4</th>\n",
              "      <td>21.3810</td>\n",
              "      <td>59.36</td>\n",
              "      <td>0.542</td>\n",
              "      <td>39701.585</td>\n",
              "      <td>127.7</td>\n",
              "      <td>6.920</td>\n",
              "      <td>7.070</td>\n",
              "      <td>6.815</td>\n",
              "      <td>7.070</td>\n",
              "      <td>8.26</td>\n",
              "      <td>531448</td>\n",
              "      <td>176.48</td>\n",
              "      <td>225.792</td>\n",
              "      <td>55</td>\n",
              "      <td>395</td>\n",
              "      <td>72400</td>\n",
              "      <td>0</td>\n",
              "      <td>0</td>\n",
              "      <td>1</td>\n",
              "      <td>0</td>\n",
              "    </tr>\n",
              "  </tbody>\n",
              "</table>\n",
              "</div>"
            ],
            "text/plain": [
              "   Marketing expense  Production expense  ...  Genre_Drama  Genre_Thriller\n",
              "0            20.1264               59.62  ...            0               1\n",
              "1            20.5462               69.14  ...            1               0\n",
              "2            20.5458               69.14  ...            0               0\n",
              "3            20.6474               59.36  ...            1               0\n",
              "4            21.3810               59.36  ...            1               0\n",
              "\n",
              "[5 rows x 20 columns]"
            ]
          },
          "metadata": {},
          "execution_count": 96
        }
      ]
    },
    {
      "cell_type": "code",
      "metadata": {
        "colab": {
          "base_uri": "https://localhost:8080/"
        },
        "id": "tZUeaphmP8Mx",
        "outputId": "c1449d72-0dfb-4f7b-bc7a-5b041483dd5f"
      },
      "source": [
        "X.shape"
      ],
      "execution_count": 97,
      "outputs": [
        {
          "output_type": "execute_result",
          "data": {
            "text/plain": [
              "(506, 20)"
            ]
          },
          "metadata": {},
          "execution_count": 97
        }
      ]
    },
    {
      "cell_type": "code",
      "metadata": {
        "colab": {
          "base_uri": "https://localhost:8080/"
        },
        "id": "G69piNHIP_0V",
        "outputId": "bbf03e72-f532-4e93-9171-a742b150d339"
      },
      "source": [
        "y = dataset['Start_Tech_Oscar']\n",
        "type(y)"
      ],
      "execution_count": 98,
      "outputs": [
        {
          "output_type": "execute_result",
          "data": {
            "text/plain": [
              "pandas.core.series.Series"
            ]
          },
          "metadata": {},
          "execution_count": 98
        }
      ]
    },
    {
      "cell_type": "code",
      "metadata": {
        "colab": {
          "base_uri": "https://localhost:8080/"
        },
        "id": "D4Eqh1E4QPE6",
        "outputId": "4a50f7e2-7a26-4785-d641-fbd0c9843f00"
      },
      "source": [
        "y.head()"
      ],
      "execution_count": 99,
      "outputs": [
        {
          "output_type": "execute_result",
          "data": {
            "text/plain": [
              "0    1\n",
              "1    0\n",
              "2    1\n",
              "3    1\n",
              "4    1\n",
              "Name: Start_Tech_Oscar, dtype: int64"
            ]
          },
          "metadata": {},
          "execution_count": 99
        }
      ]
    },
    {
      "cell_type": "code",
      "metadata": {
        "colab": {
          "base_uri": "https://localhost:8080/"
        },
        "id": "oPwnuaBkQQze",
        "outputId": "c5b6a57d-1a88-41bb-8cc2-da91bf64943f"
      },
      "source": [
        "y.shape"
      ],
      "execution_count": 100,
      "outputs": [
        {
          "output_type": "execute_result",
          "data": {
            "text/plain": [
              "(506,)"
            ]
          },
          "metadata": {},
          "execution_count": 100
        }
      ]
    },
    {
      "cell_type": "markdown",
      "metadata": {
        "id": "tv1FjIXOQV0m"
      },
      "source": [
        "**Train - Test Split**"
      ]
    },
    {
      "cell_type": "code",
      "metadata": {
        "id": "8dAD9eyIQURC"
      },
      "source": [
        "from sklearn.model_selection import train_test_split"
      ],
      "execution_count": 101,
      "outputs": []
    },
    {
      "cell_type": "code",
      "metadata": {
        "id": "ZE-MtNYzQm_f"
      },
      "source": [
        "X_train, X_test, y_tarin, y_test = train_test_split(X, y, test_size = 0.2, random_state = 0)"
      ],
      "execution_count": 102,
      "outputs": []
    },
    {
      "cell_type": "code",
      "metadata": {
        "colab": {
          "base_uri": "https://localhost:8080/",
          "height": 240
        },
        "id": "Koo-1EZeQzsS",
        "outputId": "258927cc-01ef-482b-efbc-40d0241c27ac"
      },
      "source": [
        "X_train.head()"
      ],
      "execution_count": 103,
      "outputs": [
        {
          "output_type": "execute_result",
          "data": {
            "text/html": [
              "<div>\n",
              "<style scoped>\n",
              "    .dataframe tbody tr th:only-of-type {\n",
              "        vertical-align: middle;\n",
              "    }\n",
              "\n",
              "    .dataframe tbody tr th {\n",
              "        vertical-align: top;\n",
              "    }\n",
              "\n",
              "    .dataframe thead th {\n",
              "        text-align: right;\n",
              "    }\n",
              "</style>\n",
              "<table border=\"1\" class=\"dataframe\">\n",
              "  <thead>\n",
              "    <tr style=\"text-align: right;\">\n",
              "      <th></th>\n",
              "      <th>Marketing expense</th>\n",
              "      <th>Production expense</th>\n",
              "      <th>Multiplex coverage</th>\n",
              "      <th>Budget</th>\n",
              "      <th>Movie_length</th>\n",
              "      <th>Lead_ Actor_Rating</th>\n",
              "      <th>Lead_Actress_rating</th>\n",
              "      <th>Director_rating</th>\n",
              "      <th>Producer_rating</th>\n",
              "      <th>Critic_rating</th>\n",
              "      <th>Trailer_views</th>\n",
              "      <th>Time_taken</th>\n",
              "      <th>Twitter_hastags</th>\n",
              "      <th>Avg_age_actors</th>\n",
              "      <th>Num_multiplex</th>\n",
              "      <th>Collection</th>\n",
              "      <th>3D_available_YES</th>\n",
              "      <th>Genre_Comedy</th>\n",
              "      <th>Genre_Drama</th>\n",
              "      <th>Genre_Thriller</th>\n",
              "    </tr>\n",
              "  </thead>\n",
              "  <tbody>\n",
              "    <tr>\n",
              "      <th>220</th>\n",
              "      <td>27.1618</td>\n",
              "      <td>67.40</td>\n",
              "      <td>0.493</td>\n",
              "      <td>38612.805</td>\n",
              "      <td>162.0</td>\n",
              "      <td>8.485</td>\n",
              "      <td>8.640</td>\n",
              "      <td>8.485</td>\n",
              "      <td>8.670</td>\n",
              "      <td>8.52</td>\n",
              "      <td>480270</td>\n",
              "      <td>174.68</td>\n",
              "      <td>224.272</td>\n",
              "      <td>23</td>\n",
              "      <td>536</td>\n",
              "      <td>53400</td>\n",
              "      <td>0</td>\n",
              "      <td>0</td>\n",
              "      <td>0</td>\n",
              "      <td>1</td>\n",
              "    </tr>\n",
              "    <tr>\n",
              "      <th>71</th>\n",
              "      <td>23.1752</td>\n",
              "      <td>76.62</td>\n",
              "      <td>0.587</td>\n",
              "      <td>33113.355</td>\n",
              "      <td>91.0</td>\n",
              "      <td>7.280</td>\n",
              "      <td>7.400</td>\n",
              "      <td>7.290</td>\n",
              "      <td>7.455</td>\n",
              "      <td>8.16</td>\n",
              "      <td>491978</td>\n",
              "      <td>200.68</td>\n",
              "      <td>263.472</td>\n",
              "      <td>46</td>\n",
              "      <td>400</td>\n",
              "      <td>43400</td>\n",
              "      <td>0</td>\n",
              "      <td>0</td>\n",
              "      <td>0</td>\n",
              "      <td>0</td>\n",
              "    </tr>\n",
              "    <tr>\n",
              "      <th>240</th>\n",
              "      <td>22.2658</td>\n",
              "      <td>64.86</td>\n",
              "      <td>0.572</td>\n",
              "      <td>38312.835</td>\n",
              "      <td>127.8</td>\n",
              "      <td>6.755</td>\n",
              "      <td>6.935</td>\n",
              "      <td>6.800</td>\n",
              "      <td>6.840</td>\n",
              "      <td>8.68</td>\n",
              "      <td>470107</td>\n",
              "      <td>204.80</td>\n",
              "      <td>224.320</td>\n",
              "      <td>24</td>\n",
              "      <td>387</td>\n",
              "      <td>54000</td>\n",
              "      <td>1</td>\n",
              "      <td>1</td>\n",
              "      <td>0</td>\n",
              "      <td>0</td>\n",
              "    </tr>\n",
              "    <tr>\n",
              "      <th>6</th>\n",
              "      <td>21.7658</td>\n",
              "      <td>70.74</td>\n",
              "      <td>0.476</td>\n",
              "      <td>33396.660</td>\n",
              "      <td>140.1</td>\n",
              "      <td>7.065</td>\n",
              "      <td>7.265</td>\n",
              "      <td>7.150</td>\n",
              "      <td>7.400</td>\n",
              "      <td>8.96</td>\n",
              "      <td>459241</td>\n",
              "      <td>139.16</td>\n",
              "      <td>243.664</td>\n",
              "      <td>41</td>\n",
              "      <td>522</td>\n",
              "      <td>45800</td>\n",
              "      <td>1</td>\n",
              "      <td>0</td>\n",
              "      <td>0</td>\n",
              "      <td>1</td>\n",
              "    </tr>\n",
              "    <tr>\n",
              "      <th>417</th>\n",
              "      <td>538.8120</td>\n",
              "      <td>91.20</td>\n",
              "      <td>0.321</td>\n",
              "      <td>29463.720</td>\n",
              "      <td>162.6</td>\n",
              "      <td>9.135</td>\n",
              "      <td>9.305</td>\n",
              "      <td>9.095</td>\n",
              "      <td>9.165</td>\n",
              "      <td>6.96</td>\n",
              "      <td>302776</td>\n",
              "      <td>172.16</td>\n",
              "      <td>301.664</td>\n",
              "      <td>60</td>\n",
              "      <td>589</td>\n",
              "      <td>20800</td>\n",
              "      <td>1</td>\n",
              "      <td>0</td>\n",
              "      <td>0</td>\n",
              "      <td>0</td>\n",
              "    </tr>\n",
              "  </tbody>\n",
              "</table>\n",
              "</div>"
            ],
            "text/plain": [
              "     Marketing expense  Production expense  ...  Genre_Drama  Genre_Thriller\n",
              "220            27.1618               67.40  ...            0               1\n",
              "71             23.1752               76.62  ...            0               0\n",
              "240            22.2658               64.86  ...            0               0\n",
              "6              21.7658               70.74  ...            0               1\n",
              "417           538.8120               91.20  ...            0               0\n",
              "\n",
              "[5 rows x 20 columns]"
            ]
          },
          "metadata": {},
          "execution_count": 103
        }
      ]
    },
    {
      "cell_type": "code",
      "metadata": {
        "colab": {
          "base_uri": "https://localhost:8080/"
        },
        "id": "UpL0EqFrQ4kj",
        "outputId": "a4414587-3582-4b5c-ae08-4128f593bfbe"
      },
      "source": [
        "print(X.shape, X_train.shape, X_test.shape)"
      ],
      "execution_count": 104,
      "outputs": [
        {
          "output_type": "stream",
          "name": "stdout",
          "text": [
            "(506, 20) (404, 20) (102, 20)\n"
          ]
        }
      ]
    },
    {
      "cell_type": "markdown",
      "metadata": {
        "id": "wDgPHBblRKNB"
      },
      "source": [
        "**Training Classification Tree**"
      ]
    },
    {
      "cell_type": "code",
      "metadata": {
        "id": "duzOXzniQ_JO"
      },
      "source": [
        "from sklearn import tree\n",
        "clftree = tree.DecisionTreeClassifier(max_depth = 3)"
      ],
      "execution_count": 105,
      "outputs": []
    },
    {
      "cell_type": "code",
      "metadata": {
        "colab": {
          "base_uri": "https://localhost:8080/"
        },
        "id": "ynIpZR2jRhGA",
        "outputId": "f8391aba-417b-4bb0-d25d-67cc5cd05280"
      },
      "source": [
        "clftree.fit(X_train, y_tarin)"
      ],
      "execution_count": 106,
      "outputs": [
        {
          "output_type": "execute_result",
          "data": {
            "text/plain": [
              "DecisionTreeClassifier(ccp_alpha=0.0, class_weight=None, criterion='gini',\n",
              "                       max_depth=3, max_features=None, max_leaf_nodes=None,\n",
              "                       min_impurity_decrease=0.0, min_impurity_split=None,\n",
              "                       min_samples_leaf=1, min_samples_split=2,\n",
              "                       min_weight_fraction_leaf=0.0, presort='deprecated',\n",
              "                       random_state=None, splitter='best')"
            ]
          },
          "metadata": {},
          "execution_count": 106
        }
      ]
    },
    {
      "cell_type": "markdown",
      "metadata": {
        "id": "vmQS2ebyR39y"
      },
      "source": [
        "Predict values using trained model"
      ]
    },
    {
      "cell_type": "code",
      "metadata": {
        "id": "Fr6hpQfLR1lN"
      },
      "source": [
        "y_tarin_pred = clftree.predict(X_train)\n",
        "y_test_pred = clftree.predict(X_test)"
      ],
      "execution_count": 107,
      "outputs": []
    },
    {
      "cell_type": "code",
      "metadata": {
        "colab": {
          "base_uri": "https://localhost:8080/"
        },
        "id": "EIJPS42LSJJ5",
        "outputId": "1df955c4-08ee-4f72-cbe3-6eebdb31ca6e"
      },
      "source": [
        "y_test_pred"
      ],
      "execution_count": 108,
      "outputs": [
        {
          "output_type": "execute_result",
          "data": {
            "text/plain": [
              "array([0, 1, 0, 1, 0, 0, 0, 0, 1, 0, 0, 0, 0, 1, 1, 0, 0, 1, 0, 0, 0, 0,\n",
              "       0, 0, 0, 1, 0, 0, 1, 0, 0, 0, 0, 0, 0, 0, 0, 1, 0, 0, 0, 0, 0, 1,\n",
              "       0, 0, 0, 0, 1, 0, 0, 0, 0, 1, 0, 0, 0, 1, 0, 0, 1, 0, 1, 0, 0, 0,\n",
              "       0, 0, 0, 0, 0, 0, 0, 0, 0, 1, 1, 0, 0, 0, 0, 0, 0, 1, 1, 0, 0, 0,\n",
              "       0, 0, 0, 0, 1, 0, 0, 0, 1, 1, 0, 0, 0, 0])"
            ]
          },
          "metadata": {},
          "execution_count": 108
        }
      ]
    },
    {
      "cell_type": "markdown",
      "metadata": {
        "id": "uyXxp1IxSVfi"
      },
      "source": [
        "**Model Performance**"
      ]
    },
    {
      "cell_type": "code",
      "metadata": {
        "id": "nT3T2EksSLa-"
      },
      "source": [
        "from sklearn.metrics import accuracy_score, confusion_matrix"
      ],
      "execution_count": 109,
      "outputs": []
    },
    {
      "cell_type": "code",
      "metadata": {
        "colab": {
          "base_uri": "https://localhost:8080/"
        },
        "id": "RCq1JXHkSi3k",
        "outputId": "714f758b-d530-4b78-fa9f-15219a35e5d1"
      },
      "source": [
        "confusion_matrix(y_tarin, y_tarin_pred)"
      ],
      "execution_count": 110,
      "outputs": [
        {
          "output_type": "execute_result",
          "data": {
            "text/plain": [
              "array([[172,  14],\n",
              "       [126,  92]])"
            ]
          },
          "metadata": {},
          "execution_count": 110
        }
      ]
    },
    {
      "cell_type": "code",
      "metadata": {
        "colab": {
          "base_uri": "https://localhost:8080/"
        },
        "id": "4O4O7JmISoYR",
        "outputId": "5a8ce545-7545-402d-e058-2fb19870d99c"
      },
      "source": [
        "confusion_matrix(y_test, y_test_pred)"
      ],
      "execution_count": 111,
      "outputs": [
        {
          "output_type": "execute_result",
          "data": {
            "text/plain": [
              "array([[39,  5],\n",
              "       [41, 17]])"
            ]
          },
          "metadata": {},
          "execution_count": 111
        }
      ]
    },
    {
      "cell_type": "code",
      "metadata": {
        "colab": {
          "base_uri": "https://localhost:8080/"
        },
        "id": "gyKo3jGETHfz",
        "outputId": "bce01826-d83e-4c17-d254-2b58699a7277"
      },
      "source": [
        "accuracy_score(y_tarin, y_tarin_pred)"
      ],
      "execution_count": 112,
      "outputs": [
        {
          "output_type": "execute_result",
          "data": {
            "text/plain": [
              "0.6534653465346535"
            ]
          },
          "metadata": {},
          "execution_count": 112
        }
      ]
    },
    {
      "cell_type": "code",
      "metadata": {
        "colab": {
          "base_uri": "https://localhost:8080/"
        },
        "id": "KFOJduJSS7pa",
        "outputId": "328b50d7-3dd6-44eb-ac4b-7e4fe71cd6d1"
      },
      "source": [
        "accuracy_score(y_test, y_test_pred)"
      ],
      "execution_count": 113,
      "outputs": [
        {
          "output_type": "execute_result",
          "data": {
            "text/plain": [
              "0.5490196078431373"
            ]
          },
          "metadata": {},
          "execution_count": 113
        }
      ]
    },
    {
      "cell_type": "markdown",
      "metadata": {
        "id": "XQ6RzQRSTZdC"
      },
      "source": [
        "**Plotting decision tree**"
      ]
    },
    {
      "cell_type": "code",
      "metadata": {
        "id": "yOOxjVKsTSrY"
      },
      "source": [
        "dot_data = tree.export_graphviz(clftree, out_file= None, feature_names= X_train.columns, filled= True)"
      ],
      "execution_count": 114,
      "outputs": []
    },
    {
      "cell_type": "code",
      "metadata": {
        "id": "91eC4zVvUOSn"
      },
      "source": [
        "from IPython.display import Image"
      ],
      "execution_count": 115,
      "outputs": []
    },
    {
      "cell_type": "code",
      "metadata": {
        "id": "yI4wqIWYUSuH"
      },
      "source": [
        "import pydotplus"
      ],
      "execution_count": 116,
      "outputs": []
    },
    {
      "cell_type": "code",
      "metadata": {
        "colab": {
          "base_uri": "https://localhost:8080/",
          "height": 514
        },
        "id": "NRR1-RM3UVg4",
        "outputId": "a4e55933-b0df-4b2c-a595-a9a2e996ba99"
      },
      "source": [
        "graph = pydotplus.graph_from_dot_data(dot_data)\n",
        "Image(graph.create_png())"
      ],
      "execution_count": 117,
      "outputs": [
        {
          "output_type": "execute_result",
          "data": {
            "image/png": "[encoded data removed]",
            "text/plain": [
              "<IPython.core.display.Image object>"
            ]
          },
          "metadata": {},
          "execution_count": 117
        }
      ]
    },
    {
      "cell_type": "markdown",
      "metadata": {
        "id": "stpoNHIRVhId"
      },
      "source": [
        "**Controlling Tree Growth**"
      ]
    },
    {
      "cell_type": "code",
      "metadata": {
        "colab": {
          "base_uri": "https://localhost:8080/",
          "height": 653
        },
        "id": "9R33YdjPUjaB",
        "outputId": "69ca7b82-ddee-40f1-fbe2-72ee807d4558"
      },
      "source": [
        "clftree2 = tree.DecisionTreeClassifier(min_samples_leaf= 20, max_depth= 4)\n",
        "clftree2.fit(X_train, y_tarin)\n",
        "\n",
        "dot_data = tree.export_graphviz(clftree2, out_file= None, feature_names= X_train.columns, filled= True)\n",
        "graph2 = pydotplus.graph_from_dot_data(dot_data)\n",
        "Image(graph2.create_png())"
      ],
      "execution_count": 118,
      "outputs": [
        {
          "output_type": "execute_result",
          "data": {
            "image/png": "[encoded data removed]",
            "text/plain": [
              "<IPython.core.display.Image object>"
            ]
          },
          "metadata": {},
          "execution_count": 118
        }
      ]
    },
    {
      "cell_type": "code",
      "metadata": {
        "colab": {
          "base_uri": "https://localhost:8080/"
        },
        "id": "UvJmF7rYWI--",
        "outputId": "2ef76d83-cb46-4623-ad94-c3a8b2979599"
      },
      "source": [
        "accuracy_score(y_test, clftree2.predict(X_test))"
      ],
      "execution_count": 119,
      "outputs": [
        {
          "output_type": "execute_result",
          "data": {
            "text/plain": [
              "0.5588235294117647"
            ]
          },
          "metadata": {},
          "execution_count": 119
        }
      ]
    },
    {
      "cell_type": "code",
      "metadata": {
        "id": "tAePBIemWdvW"
      },
      "source": [
        ""
      ],
      "execution_count": 119,
      "outputs": []
    }
  ]
}